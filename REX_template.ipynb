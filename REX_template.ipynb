{
 "cells": [
  {
   "cell_type": "code",
   "execution_count": null,
   "id": "47311846-dfd0-41cc-aea5-fefcf79729d2",
   "metadata": {},
   "outputs": [],
   "source": [
    "install.packages(\"tidyverse\")\n",
    "install.packages(\"readxl\")\n",
    "install.packages(\"tidymodels\")"
   ]
  },
  {
   "cell_type": "code",
   "execution_count": null,
   "id": "41839b60-5599-40c1-b84b-75ed1f391bad",
   "metadata": {},
   "outputs": [],
   "source": [
    "library(tidyverse)\n",
    "library(repr)\n",
    "library(tidymodels)\n",
    "library(readxl)"
   ]
  },
  {
   "cell_type": "code",
   "execution_count": null,
   "id": "f308fddf-6f63-4c14-b495-93cdee7dc255",
   "metadata": {},
   "outputs": [],
   "source": [
    "data_combined <- read_excel(\"REXData8Feb2025.xlsx\", sheet = \"Combined\")\n",
    "head(data_combined)\n",
    "colnames(data_combined) <- gsub(\" \", \"_\", colnames(data_combined))\n",
    "data_combined$Group <- as.factor(data_combined$Group)"
   ]
  },
  {
   "cell_type": "markdown",
   "id": "dac7ecb6-313f-49f1-afef-709a5c65cc21",
   "metadata": {},
   "source": [
    "Test if the variable is normally distributed or not:\n",
    "- p > 0.05: Data is normally distributed\n",
    "- p <= 0.05: Data is NOT normally distributed"
   ]
  },
  {
   "cell_type": "code",
   "execution_count": null,
   "id": "1901bc18-fce9-40b9-a6a8-06fffb00c52e",
   "metadata": {},
   "outputs": [],
   "source": [
    "shapiro.test(data_combined$variable)"
   ]
  },
  {
   "cell_type": "markdown",
   "id": "5b896025-9353-4b30-b19c-a15dd92c753c",
   "metadata": {},
   "source": [
    "If data is normally distributed, use t-test:\n",
    "- p-value > 0.05: NOT significant\n",
    "- p-value <= 0.05: Significant "
   ]
  },
  {
   "cell_type": "code",
   "execution_count": null,
   "id": "6bbf02c2-39c2-4df0-9c93-7d6147ce5ee5",
   "metadata": {},
   "outputs": [],
   "source": [
    "t.test(variable ~ Group, data = data_combined)"
   ]
  },
  {
   "cell_type": "code",
   "execution_count": null,
   "id": "c6d192d7-7815-473f-86fc-ed0a965da675",
   "metadata": {},
   "outputs": [],
   "source": []
  },
  {
   "cell_type": "markdown",
   "id": "d98435d9-ed62-485d-9fc2-861c1d7a7341",
   "metadata": {},
   "source": [
    "If data is NOT normally distributed, use wilcox.test:\n",
    "- p-value > 0.05: NOT significant\n",
    "- p-value <= 0.05: Significant "
   ]
  },
  {
   "cell_type": "code",
   "execution_count": null,
   "id": "2678fa8f-21ec-4010-997b-e9f5b131a16b",
   "metadata": {},
   "outputs": [],
   "source": [
    "wilcox.test(variable ~ Group, data = data_combined)"
   ]
  }
 ],
 "metadata": {
  "kernelspec": {
   "display_name": "R",
   "language": "R",
   "name": "ir"
  },
  "language_info": {
   "codemirror_mode": "r",
   "file_extension": ".r",
   "mimetype": "text/x-r-source",
   "name": "R",
   "pygments_lexer": "r",
   "version": "4.4.2"
  }
 },
 "nbformat": 4,
 "nbformat_minor": 5
}
