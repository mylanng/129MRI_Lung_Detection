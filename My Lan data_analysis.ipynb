{
 "cells": [
  {
   "cell_type": "code",
   "execution_count": 1,
   "id": "512dfedc-8c81-47d5-a6f1-3472eedf17c8",
   "metadata": {},
   "outputs": [
    {
     "name": "stderr",
     "output_type": "stream",
     "text": [
      "Installing package into 'C:/Users/My Lan/AppData/Local/R/win-library/4.4'\n",
      "(as 'lib' is unspecified)\n",
      "\n"
     ]
    },
    {
     "name": "stdout",
     "output_type": "stream",
     "text": [
      "package 'tidyverse' successfully unpacked and MD5 sums checked\n",
      "\n",
      "The downloaded binary packages are in\n",
      "\tC:\\Users\\My Lan\\AppData\\Local\\Temp\\RtmpEpS1LQ\\downloaded_packages\n"
     ]
    },
    {
     "name": "stderr",
     "output_type": "stream",
     "text": [
      "Installing package into 'C:/Users/My Lan/AppData/Local/R/win-library/4.4'\n",
      "(as 'lib' is unspecified)\n",
      "\n"
     ]
    },
    {
     "name": "stdout",
     "output_type": "stream",
     "text": [
      "package 'readxl' successfully unpacked and MD5 sums checked\n"
     ]
    },
    {
     "name": "stderr",
     "output_type": "stream",
     "text": [
      "Warning message:\n",
      "\"cannot remove prior installation of package 'readxl'\"\n",
      "Warning message in file.copy(savedcopy, lib, recursive = TRUE):\n",
      "\"problem copying C:\\Users\\My Lan\\AppData\\Local\\R\\win-library\\4.4\\00LOCK\\readxl\\libs\\x64\\readxl.dll to C:\\Users\\My Lan\\AppData\\Local\\R\\win-library\\4.4\\readxl\\libs\\x64\\readxl.dll: Permission denied\"\n",
      "Warning message:\n",
      "\"restored 'readxl'\"\n"
     ]
    },
    {
     "name": "stdout",
     "output_type": "stream",
     "text": [
      "\n",
      "The downloaded binary packages are in\n",
      "\tC:\\Users\\My Lan\\AppData\\Local\\Temp\\RtmpEpS1LQ\\downloaded_packages\n"
     ]
    },
    {
     "name": "stderr",
     "output_type": "stream",
     "text": [
      "Installing package into 'C:/Users/My Lan/AppData/Local/R/win-library/4.4'\n",
      "(as 'lib' is unspecified)\n",
      "\n"
     ]
    },
    {
     "name": "stdout",
     "output_type": "stream",
     "text": [
      "package 'tidymodels' successfully unpacked and MD5 sums checked\n",
      "\n",
      "The downloaded binary packages are in\n",
      "\tC:\\Users\\My Lan\\AppData\\Local\\Temp\\RtmpEpS1LQ\\downloaded_packages\n"
     ]
    }
   ],
   "source": [
    "install.packages(\"tidyverse\")\n",
    "install.packages(\"readxl\")\n",
    "install.packages(\"tidymodels\")"
   ]
  },
  {
   "cell_type": "code",
   "execution_count": 2,
   "id": "88023d4f-9fa1-45be-9a80-9e566256faff",
   "metadata": {},
   "outputs": [
    {
     "name": "stderr",
     "output_type": "stream",
     "text": [
      "── \u001b[1mAttaching core tidyverse packages\u001b[22m ──────────────────────────────────────────────────────────────────────────────────────── tidyverse 2.0.0 ──\n",
      "\u001b[32m✔\u001b[39m \u001b[34mdplyr    \u001b[39m 1.1.4     \u001b[32m✔\u001b[39m \u001b[34mreadr    \u001b[39m 2.1.5\n",
      "\u001b[32m✔\u001b[39m \u001b[34mforcats  \u001b[39m 1.0.0     \u001b[32m✔\u001b[39m \u001b[34mstringr  \u001b[39m 1.5.1\n",
      "\u001b[32m✔\u001b[39m \u001b[34mggplot2  \u001b[39m 3.5.1     \u001b[32m✔\u001b[39m \u001b[34mtibble   \u001b[39m 3.2.1\n",
      "\u001b[32m✔\u001b[39m \u001b[34mlubridate\u001b[39m 1.9.4     \u001b[32m✔\u001b[39m \u001b[34mtidyr    \u001b[39m 1.3.1\n",
      "\u001b[32m✔\u001b[39m \u001b[34mpurrr    \u001b[39m 1.0.2     \n",
      "── \u001b[1mConflicts\u001b[22m ────────────────────────────────────────────────────────────────────────────────────────────────────────── tidyverse_conflicts() ──\n",
      "\u001b[31m✖\u001b[39m \u001b[34mdplyr\u001b[39m::\u001b[32mfilter()\u001b[39m masks \u001b[34mstats\u001b[39m::filter()\n",
      "\u001b[31m✖\u001b[39m \u001b[34mdplyr\u001b[39m::\u001b[32mlag()\u001b[39m    masks \u001b[34mstats\u001b[39m::lag()\n",
      "\u001b[36mℹ\u001b[39m Use the conflicted package (\u001b[3m\u001b[34m<http://conflicted.r-lib.org/>\u001b[39m\u001b[23m) to force all conflicts to become errors\n",
      "── \u001b[1mAttaching packages\u001b[22m ────────────────────────────────────────────────────────────────────────────────────────────────────── tidymodels 1.2.0 ──\n",
      "\n",
      "\u001b[32m✔\u001b[39m \u001b[34mbroom       \u001b[39m 1.0.7     \u001b[32m✔\u001b[39m \u001b[34mrsample     \u001b[39m 1.2.1\n",
      "\u001b[32m✔\u001b[39m \u001b[34mdials       \u001b[39m 1.3.0     \u001b[32m✔\u001b[39m \u001b[34mtune        \u001b[39m 1.2.1\n",
      "\u001b[32m✔\u001b[39m \u001b[34minfer       \u001b[39m 1.0.7     \u001b[32m✔\u001b[39m \u001b[34mworkflows   \u001b[39m 1.1.4\n",
      "\u001b[32m✔\u001b[39m \u001b[34mmodeldata   \u001b[39m 1.4.0     \u001b[32m✔\u001b[39m \u001b[34mworkflowsets\u001b[39m 1.1.0\n",
      "\u001b[32m✔\u001b[39m \u001b[34mparsnip     \u001b[39m 1.2.1     \u001b[32m✔\u001b[39m \u001b[34myardstick   \u001b[39m 1.3.2\n",
      "\u001b[32m✔\u001b[39m \u001b[34mrecipes     \u001b[39m 1.1.0     \n",
      "\n",
      "── \u001b[1mConflicts\u001b[22m ───────────────────────────────────────────────────────────────────────────────────────────────────────── tidymodels_conflicts() ──\n",
      "\u001b[31m✖\u001b[39m \u001b[34mscales\u001b[39m::\u001b[32mdiscard()\u001b[39m masks \u001b[34mpurrr\u001b[39m::discard()\n",
      "\u001b[31m✖\u001b[39m \u001b[34mdplyr\u001b[39m::\u001b[32mfilter()\u001b[39m   masks \u001b[34mstats\u001b[39m::filter()\n",
      "\u001b[31m✖\u001b[39m \u001b[34mrecipes\u001b[39m::\u001b[32mfixed()\u001b[39m  masks \u001b[34mstringr\u001b[39m::fixed()\n",
      "\u001b[31m✖\u001b[39m \u001b[34mdplyr\u001b[39m::\u001b[32mlag()\u001b[39m      masks \u001b[34mstats\u001b[39m::lag()\n",
      "\u001b[31m✖\u001b[39m \u001b[34myardstick\u001b[39m::\u001b[32mspec()\u001b[39m masks \u001b[34mreadr\u001b[39m::spec()\n",
      "\u001b[31m✖\u001b[39m \u001b[34mrecipes\u001b[39m::\u001b[32mstep()\u001b[39m   masks \u001b[34mstats\u001b[39m::step()\n",
      "\u001b[34m•\u001b[39m Search for functions across packages at \u001b[32mhttps://www.tidymodels.org/find/\u001b[39m\n",
      "\n"
     ]
    }
   ],
   "source": [
    "library(tidyverse)\n",
    "library(repr)\n",
    "library(tidymodels)\n",
    "library(readxl)"
   ]
  },
  {
   "cell_type": "code",
   "execution_count": 14,
   "id": "a1a049dc-cd45-411d-93f3-1c1de717f471",
   "metadata": {},
   "outputs": [
    {
     "name": "stderr",
     "output_type": "stream",
     "text": [
      "\u001b[1m\u001b[22mNew names:\n",
      "\u001b[36m•\u001b[39m `` -> `...96`\n",
      "\u001b[36m•\u001b[39m `` -> `...97`\n",
      "\u001b[36m•\u001b[39m `` -> `...98`\n",
      "\u001b[36m•\u001b[39m `` -> `...99`\n",
      "\u001b[36m•\u001b[39m `` -> `...100`\n",
      "\u001b[36m•\u001b[39m `` -> `...101`\n",
      "\u001b[36m•\u001b[39m `` -> `...102`\n",
      "\u001b[36m•\u001b[39m `` -> `...103`\n",
      "\u001b[36m•\u001b[39m `` -> `...104`\n",
      "\u001b[36m•\u001b[39m `` -> `...105`\n",
      "\u001b[36m•\u001b[39m `` -> `...106`\n",
      "\u001b[36m•\u001b[39m `` -> `...107`\n",
      "\u001b[36m•\u001b[39m `` -> `...108`\n",
      "\u001b[36m•\u001b[39m `` -> `...109`\n",
      "\u001b[36m•\u001b[39m `` -> `...110`\n",
      "\u001b[36m•\u001b[39m `` -> `...111`\n",
      "\u001b[36m•\u001b[39m `` -> `...112`\n",
      "\u001b[36m•\u001b[39m `` -> `...113`\n",
      "\u001b[36m•\u001b[39m `` -> `...114`\n",
      "\u001b[36m•\u001b[39m `` -> `...115`\n",
      "\u001b[36m•\u001b[39m `` -> `...116`\n"
     ]
    },
    {
     "data": {
      "text/html": [
       "<table class=\"dataframe\">\n",
       "<caption>A tibble: 6 × 116</caption>\n",
       "<thead>\n",
       "\t<tr><th scope=col>PImID</th><th scope=col>SubstudyID (All)</th><th scope=col>rbc_shift</th><th scope=col>inflation</th><th scope=col>rbc_m_ratio</th><th scope=col>vent_defect_pct</th><th scope=col>vent_low_pct</th><th scope=col>vent_high_pct</th><th scope=col>rbc_defect_pct</th><th scope=col>rbc_low_pct</th><th scope=col>⋯</th><th scope=col>...107</th><th scope=col>...108</th><th scope=col>...109</th><th scope=col>...110</th><th scope=col>...111</th><th scope=col>...112</th><th scope=col>...113</th><th scope=col>...114</th><th scope=col>...115</th><th scope=col>...116</th></tr>\n",
       "\t<tr><th scope=col>&lt;chr&gt;</th><th scope=col>&lt;chr&gt;</th><th scope=col>&lt;dbl&gt;</th><th scope=col>&lt;dbl&gt;</th><th scope=col>&lt;dbl&gt;</th><th scope=col>&lt;dbl&gt;</th><th scope=col>&lt;dbl&gt;</th><th scope=col>&lt;dbl&gt;</th><th scope=col>&lt;dbl&gt;</th><th scope=col>&lt;dbl&gt;</th><th scope=col>⋯</th><th scope=col>&lt;lgl&gt;</th><th scope=col>&lt;lgl&gt;</th><th scope=col>&lt;lgl&gt;</th><th scope=col>&lt;lgl&gt;</th><th scope=col>&lt;lgl&gt;</th><th scope=col>&lt;lgl&gt;</th><th scope=col>&lt;lgl&gt;</th><th scope=col>&lt;lgl&gt;</th><th scope=col>&lt;lgl&gt;</th><th scope=col>&lt;chr&gt;</th></tr>\n",
       "</thead>\n",
       "<tbody>\n",
       "\t<tr><td>PIm0067</td><td>CANUCK1058</td><td>218.3458</td><td>3.242828</td><td>0.495</td><td>1.779580</td><td>13.762340</td><td>15.38288</td><td>0.2362108</td><td> 7.465580</td><td>⋯</td><td>NA</td><td>NA</td><td>NA</td><td>NA</td><td>NA</td><td>NA</td><td>NA</td><td>NA</td><td>NA</td><td>NA</td></tr>\n",
       "\t<tr><td>PIm0327</td><td>CANUCK1181</td><td>216.2458</td><td>3.197052</td><td>0.590</td><td>2.444612</td><td>10.554500</td><td>16.71042</td><td>0.7435973</td><td> 6.796422</td><td>⋯</td><td>NA</td><td>NA</td><td>NA</td><td>NA</td><td>NA</td><td>NA</td><td>NA</td><td>NA</td><td>NA</td><td>NA</td></tr>\n",
       "\t<tr><td>PIm0070</td><td>CANUCK1034</td><td>218.4715</td><td>3.356506</td><td>0.478</td><td>1.011947</td><td>11.976979</td><td>20.03982</td><td>1.7065808</td><td>10.205844</td><td>⋯</td><td>NA</td><td>NA</td><td>NA</td><td>NA</td><td>NA</td><td>NA</td><td>NA</td><td>NA</td><td>NA</td><td>NA</td></tr>\n",
       "\t<tr><td>PIm0142</td><td>CANUCK1074</td><td>219.0143</td><td>4.874664</td><td>0.590</td><td>1.286522</td><td> 9.113959</td><td>19.41865</td><td>1.6727915</td><td>15.362511</td><td>⋯</td><td>NA</td><td>NA</td><td>NA</td><td>NA</td><td>NA</td><td>NA</td><td>NA</td><td>NA</td><td>NA</td><td>NA</td></tr>\n",
       "\t<tr><td>PIm0184</td><td>CANUCK1079</td><td>218.3623</td><td>3.380524</td><td>0.565</td><td>1.178085</td><td>11.567801</td><td>23.99863</td><td>1.2331525</td><td>11.247326</td><td>⋯</td><td>NA</td><td>NA</td><td>NA</td><td>NA</td><td>NA</td><td>NA</td><td>NA</td><td>NA</td><td>NA</td><td>NA</td></tr>\n",
       "\t<tr><td>PIm0310</td><td>CANUCK1152</td><td>219.0319</td><td>4.803741</td><td>0.738</td><td>2.100261</td><td>14.994695</td><td>14.42484</td><td>0.4389838</td><td> 2.130755</td><td>⋯</td><td>NA</td><td>NA</td><td>NA</td><td>NA</td><td>NA</td><td>NA</td><td>NA</td><td>NA</td><td>NA</td><td>NA</td></tr>\n",
       "</tbody>\n",
       "</table>\n"
      ],
      "text/latex": [
       "A tibble: 6 × 116\n",
       "\\begin{tabular}{lllllllllllllllllllll}\n",
       " PImID & SubstudyID (All) & rbc\\_shift & inflation & rbc\\_m\\_ratio & vent\\_defect\\_pct & vent\\_low\\_pct & vent\\_high\\_pct & rbc\\_defect\\_pct & rbc\\_low\\_pct & ⋯ & ...107 & ...108 & ...109 & ...110 & ...111 & ...112 & ...113 & ...114 & ...115 & ...116\\\\\n",
       " <chr> & <chr> & <dbl> & <dbl> & <dbl> & <dbl> & <dbl> & <dbl> & <dbl> & <dbl> & ⋯ & <lgl> & <lgl> & <lgl> & <lgl> & <lgl> & <lgl> & <lgl> & <lgl> & <lgl> & <chr>\\\\\n",
       "\\hline\n",
       "\t PIm0067 & CANUCK1058 & 218.3458 & 3.242828 & 0.495 & 1.779580 & 13.762340 & 15.38288 & 0.2362108 &  7.465580 & ⋯ & NA & NA & NA & NA & NA & NA & NA & NA & NA & NA\\\\\n",
       "\t PIm0327 & CANUCK1181 & 216.2458 & 3.197052 & 0.590 & 2.444612 & 10.554500 & 16.71042 & 0.7435973 &  6.796422 & ⋯ & NA & NA & NA & NA & NA & NA & NA & NA & NA & NA\\\\\n",
       "\t PIm0070 & CANUCK1034 & 218.4715 & 3.356506 & 0.478 & 1.011947 & 11.976979 & 20.03982 & 1.7065808 & 10.205844 & ⋯ & NA & NA & NA & NA & NA & NA & NA & NA & NA & NA\\\\\n",
       "\t PIm0142 & CANUCK1074 & 219.0143 & 4.874664 & 0.590 & 1.286522 &  9.113959 & 19.41865 & 1.6727915 & 15.362511 & ⋯ & NA & NA & NA & NA & NA & NA & NA & NA & NA & NA\\\\\n",
       "\t PIm0184 & CANUCK1079 & 218.3623 & 3.380524 & 0.565 & 1.178085 & 11.567801 & 23.99863 & 1.2331525 & 11.247326 & ⋯ & NA & NA & NA & NA & NA & NA & NA & NA & NA & NA\\\\\n",
       "\t PIm0310 & CANUCK1152 & 219.0319 & 4.803741 & 0.738 & 2.100261 & 14.994695 & 14.42484 & 0.4389838 &  2.130755 & ⋯ & NA & NA & NA & NA & NA & NA & NA & NA & NA & NA\\\\\n",
       "\\end{tabular}\n"
      ],
      "text/markdown": [
       "\n",
       "A tibble: 6 × 116\n",
       "\n",
       "| PImID &lt;chr&gt; | SubstudyID (All) &lt;chr&gt; | rbc_shift &lt;dbl&gt; | inflation &lt;dbl&gt; | rbc_m_ratio &lt;dbl&gt; | vent_defect_pct &lt;dbl&gt; | vent_low_pct &lt;dbl&gt; | vent_high_pct &lt;dbl&gt; | rbc_defect_pct &lt;dbl&gt; | rbc_low_pct &lt;dbl&gt; | ⋯ ⋯ | ...107 &lt;lgl&gt; | ...108 &lt;lgl&gt; | ...109 &lt;lgl&gt; | ...110 &lt;lgl&gt; | ...111 &lt;lgl&gt; | ...112 &lt;lgl&gt; | ...113 &lt;lgl&gt; | ...114 &lt;lgl&gt; | ...115 &lt;lgl&gt; | ...116 &lt;chr&gt; |\n",
       "|---|---|---|---|---|---|---|---|---|---|---|---|---|---|---|---|---|---|---|---|---|\n",
       "| PIm0067 | CANUCK1058 | 218.3458 | 3.242828 | 0.495 | 1.779580 | 13.762340 | 15.38288 | 0.2362108 |  7.465580 | ⋯ | NA | NA | NA | NA | NA | NA | NA | NA | NA | NA |\n",
       "| PIm0327 | CANUCK1181 | 216.2458 | 3.197052 | 0.590 | 2.444612 | 10.554500 | 16.71042 | 0.7435973 |  6.796422 | ⋯ | NA | NA | NA | NA | NA | NA | NA | NA | NA | NA |\n",
       "| PIm0070 | CANUCK1034 | 218.4715 | 3.356506 | 0.478 | 1.011947 | 11.976979 | 20.03982 | 1.7065808 | 10.205844 | ⋯ | NA | NA | NA | NA | NA | NA | NA | NA | NA | NA |\n",
       "| PIm0142 | CANUCK1074 | 219.0143 | 4.874664 | 0.590 | 1.286522 |  9.113959 | 19.41865 | 1.6727915 | 15.362511 | ⋯ | NA | NA | NA | NA | NA | NA | NA | NA | NA | NA |\n",
       "| PIm0184 | CANUCK1079 | 218.3623 | 3.380524 | 0.565 | 1.178085 | 11.567801 | 23.99863 | 1.2331525 | 11.247326 | ⋯ | NA | NA | NA | NA | NA | NA | NA | NA | NA | NA |\n",
       "| PIm0310 | CANUCK1152 | 219.0319 | 4.803741 | 0.738 | 2.100261 | 14.994695 | 14.42484 | 0.4389838 |  2.130755 | ⋯ | NA | NA | NA | NA | NA | NA | NA | NA | NA | NA |\n",
       "\n"
      ],
      "text/plain": [
       "  PImID   SubstudyID (All) rbc_shift inflation rbc_m_ratio vent_defect_pct\n",
       "1 PIm0067 CANUCK1058       218.3458  3.242828  0.495       1.779580       \n",
       "2 PIm0327 CANUCK1181       216.2458  3.197052  0.590       2.444612       \n",
       "3 PIm0070 CANUCK1034       218.4715  3.356506  0.478       1.011947       \n",
       "4 PIm0142 CANUCK1074       219.0143  4.874664  0.590       1.286522       \n",
       "5 PIm0184 CANUCK1079       218.3623  3.380524  0.565       1.178085       \n",
       "6 PIm0310 CANUCK1152       219.0319  4.803741  0.738       2.100261       \n",
       "  vent_low_pct vent_high_pct rbc_defect_pct rbc_low_pct ⋯ ...107 ...108 ...109\n",
       "1 13.762340    15.38288      0.2362108       7.465580   ⋯ NA     NA     NA    \n",
       "2 10.554500    16.71042      0.7435973       6.796422   ⋯ NA     NA     NA    \n",
       "3 11.976979    20.03982      1.7065808      10.205844   ⋯ NA     NA     NA    \n",
       "4  9.113959    19.41865      1.6727915      15.362511   ⋯ NA     NA     NA    \n",
       "5 11.567801    23.99863      1.2331525      11.247326   ⋯ NA     NA     NA    \n",
       "6 14.994695    14.42484      0.4389838       2.130755   ⋯ NA     NA     NA    \n",
       "  ...110 ...111 ...112 ...113 ...114 ...115 ...116\n",
       "1 NA     NA     NA     NA     NA     NA     NA    \n",
       "2 NA     NA     NA     NA     NA     NA     NA    \n",
       "3 NA     NA     NA     NA     NA     NA     NA    \n",
       "4 NA     NA     NA     NA     NA     NA     NA    \n",
       "5 NA     NA     NA     NA     NA     NA     NA    \n",
       "6 NA     NA     NA     NA     NA     NA     NA    "
      ]
     },
     "metadata": {},
     "output_type": "display_data"
    }
   ],
   "source": [
    "data_exposure <- read_excel(\"REXData8Feb2025.xlsx\", sheet = \"Exposure\")\n",
    "head(data_exposure)"
   ]
  },
  {
   "cell_type": "code",
   "execution_count": 14,
   "id": "e165216a-608a-4dc1-bbb4-fc0b18932534",
   "metadata": {},
   "outputs": [
    {
     "name": "stderr",
     "output_type": "stream",
     "text": [
      "\u001b[1m\u001b[22mNew names:\n",
      "\u001b[36m•\u001b[39m `` -> `...96`\n",
      "\u001b[36m•\u001b[39m `` -> `...97`\n",
      "\u001b[36m•\u001b[39m `` -> `...98`\n",
      "\u001b[36m•\u001b[39m `` -> `...99`\n",
      "\u001b[36m•\u001b[39m `` -> `...100`\n",
      "\u001b[36m•\u001b[39m `` -> `...101`\n",
      "\u001b[36m•\u001b[39m `` -> `...102`\n",
      "\u001b[36m•\u001b[39m `` -> `...103`\n",
      "\u001b[36m•\u001b[39m `` -> `...104`\n",
      "\u001b[36m•\u001b[39m `` -> `...105`\n",
      "\u001b[36m•\u001b[39m `` -> `...106`\n",
      "\u001b[36m•\u001b[39m `` -> `...107`\n",
      "\u001b[36m•\u001b[39m `` -> `...108`\n",
      "\u001b[36m•\u001b[39m `` -> `...109`\n",
      "\u001b[36m•\u001b[39m `` -> `...110`\n",
      "\u001b[36m•\u001b[39m `` -> `...111`\n",
      "\u001b[36m•\u001b[39m `` -> `...112`\n",
      "\u001b[36m•\u001b[39m `` -> `...113`\n",
      "\u001b[36m•\u001b[39m `` -> `...114`\n",
      "\u001b[36m•\u001b[39m `` -> `...115`\n",
      "\u001b[36m•\u001b[39m `` -> `...116`\n"
     ]
    },
    {
     "data": {
      "text/html": [
       "<table class=\"dataframe\">\n",
       "<caption>A tibble: 6 × 116</caption>\n",
       "<thead>\n",
       "\t<tr><th scope=col>PImID</th><th scope=col>SubstudyID (All)</th><th scope=col>rbc_shift</th><th scope=col>inflation</th><th scope=col>rbc_m_ratio</th><th scope=col>vent_defect_pct</th><th scope=col>vent_low_pct</th><th scope=col>vent_high_pct</th><th scope=col>rbc_defect_pct</th><th scope=col>rbc_low_pct</th><th scope=col>⋯</th><th scope=col>...107</th><th scope=col>...108</th><th scope=col>...109</th><th scope=col>...110</th><th scope=col>...111</th><th scope=col>...112</th><th scope=col>...113</th><th scope=col>...114</th><th scope=col>...115</th><th scope=col>...116</th></tr>\n",
       "\t<tr><th scope=col>&lt;chr&gt;</th><th scope=col>&lt;chr&gt;</th><th scope=col>&lt;dbl&gt;</th><th scope=col>&lt;dbl&gt;</th><th scope=col>&lt;dbl&gt;</th><th scope=col>&lt;dbl&gt;</th><th scope=col>&lt;dbl&gt;</th><th scope=col>&lt;dbl&gt;</th><th scope=col>&lt;dbl&gt;</th><th scope=col>&lt;dbl&gt;</th><th scope=col>⋯</th><th scope=col>&lt;lgl&gt;</th><th scope=col>&lt;lgl&gt;</th><th scope=col>&lt;lgl&gt;</th><th scope=col>&lt;lgl&gt;</th><th scope=col>&lt;lgl&gt;</th><th scope=col>&lt;lgl&gt;</th><th scope=col>&lt;lgl&gt;</th><th scope=col>&lt;lgl&gt;</th><th scope=col>&lt;lgl&gt;</th><th scope=col>&lt;chr&gt;</th></tr>\n",
       "</thead>\n",
       "<tbody>\n",
       "\t<tr><td>PIm0067</td><td>CANUCK1058</td><td>218.3458</td><td>3.242828</td><td>0.495</td><td>1.779580</td><td>13.762340</td><td>15.38288</td><td>0.2362108</td><td> 7.465580</td><td>⋯</td><td>NA</td><td>NA</td><td>NA</td><td>NA</td><td>NA</td><td>NA</td><td>NA</td><td>NA</td><td>NA</td><td>NA</td></tr>\n",
       "\t<tr><td>PIm0327</td><td>CANUCK1181</td><td>216.2458</td><td>3.197052</td><td>0.590</td><td>2.444612</td><td>10.554500</td><td>16.71042</td><td>0.7435973</td><td> 6.796422</td><td>⋯</td><td>NA</td><td>NA</td><td>NA</td><td>NA</td><td>NA</td><td>NA</td><td>NA</td><td>NA</td><td>NA</td><td>NA</td></tr>\n",
       "\t<tr><td>PIm0070</td><td>CANUCK1034</td><td>218.4715</td><td>3.356506</td><td>0.478</td><td>1.011947</td><td>11.976979</td><td>20.03982</td><td>1.7065808</td><td>10.205844</td><td>⋯</td><td>NA</td><td>NA</td><td>NA</td><td>NA</td><td>NA</td><td>NA</td><td>NA</td><td>NA</td><td>NA</td><td>NA</td></tr>\n",
       "\t<tr><td>PIm0142</td><td>CANUCK1074</td><td>219.0143</td><td>4.874664</td><td>0.590</td><td>1.286522</td><td> 9.113959</td><td>19.41865</td><td>1.6727915</td><td>15.362511</td><td>⋯</td><td>NA</td><td>NA</td><td>NA</td><td>NA</td><td>NA</td><td>NA</td><td>NA</td><td>NA</td><td>NA</td><td>NA</td></tr>\n",
       "\t<tr><td>PIm0184</td><td>CANUCK1079</td><td>218.3623</td><td>3.380524</td><td>0.565</td><td>1.178085</td><td>11.567801</td><td>23.99863</td><td>1.2331525</td><td>11.247326</td><td>⋯</td><td>NA</td><td>NA</td><td>NA</td><td>NA</td><td>NA</td><td>NA</td><td>NA</td><td>NA</td><td>NA</td><td>NA</td></tr>\n",
       "\t<tr><td>PIm0310</td><td>CANUCK1152</td><td>219.0319</td><td>4.803741</td><td>0.738</td><td>2.100261</td><td>14.994695</td><td>14.42484</td><td>0.4389838</td><td> 2.130755</td><td>⋯</td><td>NA</td><td>NA</td><td>NA</td><td>NA</td><td>NA</td><td>NA</td><td>NA</td><td>NA</td><td>NA</td><td>NA</td></tr>\n",
       "</tbody>\n",
       "</table>\n"
      ],
      "text/latex": [
       "A tibble: 6 × 116\n",
       "\\begin{tabular}{lllllllllllllllllllll}\n",
       " PImID & SubstudyID (All) & rbc\\_shift & inflation & rbc\\_m\\_ratio & vent\\_defect\\_pct & vent\\_low\\_pct & vent\\_high\\_pct & rbc\\_defect\\_pct & rbc\\_low\\_pct & ⋯ & ...107 & ...108 & ...109 & ...110 & ...111 & ...112 & ...113 & ...114 & ...115 & ...116\\\\\n",
       " <chr> & <chr> & <dbl> & <dbl> & <dbl> & <dbl> & <dbl> & <dbl> & <dbl> & <dbl> & ⋯ & <lgl> & <lgl> & <lgl> & <lgl> & <lgl> & <lgl> & <lgl> & <lgl> & <lgl> & <chr>\\\\\n",
       "\\hline\n",
       "\t PIm0067 & CANUCK1058 & 218.3458 & 3.242828 & 0.495 & 1.779580 & 13.762340 & 15.38288 & 0.2362108 &  7.465580 & ⋯ & NA & NA & NA & NA & NA & NA & NA & NA & NA & NA\\\\\n",
       "\t PIm0327 & CANUCK1181 & 216.2458 & 3.197052 & 0.590 & 2.444612 & 10.554500 & 16.71042 & 0.7435973 &  6.796422 & ⋯ & NA & NA & NA & NA & NA & NA & NA & NA & NA & NA\\\\\n",
       "\t PIm0070 & CANUCK1034 & 218.4715 & 3.356506 & 0.478 & 1.011947 & 11.976979 & 20.03982 & 1.7065808 & 10.205844 & ⋯ & NA & NA & NA & NA & NA & NA & NA & NA & NA & NA\\\\\n",
       "\t PIm0142 & CANUCK1074 & 219.0143 & 4.874664 & 0.590 & 1.286522 &  9.113959 & 19.41865 & 1.6727915 & 15.362511 & ⋯ & NA & NA & NA & NA & NA & NA & NA & NA & NA & NA\\\\\n",
       "\t PIm0184 & CANUCK1079 & 218.3623 & 3.380524 & 0.565 & 1.178085 & 11.567801 & 23.99863 & 1.2331525 & 11.247326 & ⋯ & NA & NA & NA & NA & NA & NA & NA & NA & NA & NA\\\\\n",
       "\t PIm0310 & CANUCK1152 & 219.0319 & 4.803741 & 0.738 & 2.100261 & 14.994695 & 14.42484 & 0.4389838 &  2.130755 & ⋯ & NA & NA & NA & NA & NA & NA & NA & NA & NA & NA\\\\\n",
       "\\end{tabular}\n"
      ],
      "text/markdown": [
       "\n",
       "A tibble: 6 × 116\n",
       "\n",
       "| PImID &lt;chr&gt; | SubstudyID (All) &lt;chr&gt; | rbc_shift &lt;dbl&gt; | inflation &lt;dbl&gt; | rbc_m_ratio &lt;dbl&gt; | vent_defect_pct &lt;dbl&gt; | vent_low_pct &lt;dbl&gt; | vent_high_pct &lt;dbl&gt; | rbc_defect_pct &lt;dbl&gt; | rbc_low_pct &lt;dbl&gt; | ⋯ ⋯ | ...107 &lt;lgl&gt; | ...108 &lt;lgl&gt; | ...109 &lt;lgl&gt; | ...110 &lt;lgl&gt; | ...111 &lt;lgl&gt; | ...112 &lt;lgl&gt; | ...113 &lt;lgl&gt; | ...114 &lt;lgl&gt; | ...115 &lt;lgl&gt; | ...116 &lt;chr&gt; |\n",
       "|---|---|---|---|---|---|---|---|---|---|---|---|---|---|---|---|---|---|---|---|---|\n",
       "| PIm0067 | CANUCK1058 | 218.3458 | 3.242828 | 0.495 | 1.779580 | 13.762340 | 15.38288 | 0.2362108 |  7.465580 | ⋯ | NA | NA | NA | NA | NA | NA | NA | NA | NA | NA |\n",
       "| PIm0327 | CANUCK1181 | 216.2458 | 3.197052 | 0.590 | 2.444612 | 10.554500 | 16.71042 | 0.7435973 |  6.796422 | ⋯ | NA | NA | NA | NA | NA | NA | NA | NA | NA | NA |\n",
       "| PIm0070 | CANUCK1034 | 218.4715 | 3.356506 | 0.478 | 1.011947 | 11.976979 | 20.03982 | 1.7065808 | 10.205844 | ⋯ | NA | NA | NA | NA | NA | NA | NA | NA | NA | NA |\n",
       "| PIm0142 | CANUCK1074 | 219.0143 | 4.874664 | 0.590 | 1.286522 |  9.113959 | 19.41865 | 1.6727915 | 15.362511 | ⋯ | NA | NA | NA | NA | NA | NA | NA | NA | NA | NA |\n",
       "| PIm0184 | CANUCK1079 | 218.3623 | 3.380524 | 0.565 | 1.178085 | 11.567801 | 23.99863 | 1.2331525 | 11.247326 | ⋯ | NA | NA | NA | NA | NA | NA | NA | NA | NA | NA |\n",
       "| PIm0310 | CANUCK1152 | 219.0319 | 4.803741 | 0.738 | 2.100261 | 14.994695 | 14.42484 | 0.4389838 |  2.130755 | ⋯ | NA | NA | NA | NA | NA | NA | NA | NA | NA | NA |\n",
       "\n"
      ],
      "text/plain": [
       "  PImID   SubstudyID (All) rbc_shift inflation rbc_m_ratio vent_defect_pct\n",
       "1 PIm0067 CANUCK1058       218.3458  3.242828  0.495       1.779580       \n",
       "2 PIm0327 CANUCK1181       216.2458  3.197052  0.590       2.444612       \n",
       "3 PIm0070 CANUCK1034       218.4715  3.356506  0.478       1.011947       \n",
       "4 PIm0142 CANUCK1074       219.0143  4.874664  0.590       1.286522       \n",
       "5 PIm0184 CANUCK1079       218.3623  3.380524  0.565       1.178085       \n",
       "6 PIm0310 CANUCK1152       219.0319  4.803741  0.738       2.100261       \n",
       "  vent_low_pct vent_high_pct rbc_defect_pct rbc_low_pct ⋯ ...107 ...108 ...109\n",
       "1 13.762340    15.38288      0.2362108       7.465580   ⋯ NA     NA     NA    \n",
       "2 10.554500    16.71042      0.7435973       6.796422   ⋯ NA     NA     NA    \n",
       "3 11.976979    20.03982      1.7065808      10.205844   ⋯ NA     NA     NA    \n",
       "4  9.113959    19.41865      1.6727915      15.362511   ⋯ NA     NA     NA    \n",
       "5 11.567801    23.99863      1.2331525      11.247326   ⋯ NA     NA     NA    \n",
       "6 14.994695    14.42484      0.4389838       2.130755   ⋯ NA     NA     NA    \n",
       "  ...110 ...111 ...112 ...113 ...114 ...115 ...116\n",
       "1 NA     NA     NA     NA     NA     NA     NA    \n",
       "2 NA     NA     NA     NA     NA     NA     NA    \n",
       "3 NA     NA     NA     NA     NA     NA     NA    \n",
       "4 NA     NA     NA     NA     NA     NA     NA    \n",
       "5 NA     NA     NA     NA     NA     NA     NA    \n",
       "6 NA     NA     NA     NA     NA     NA     NA    "
      ]
     },
     "metadata": {},
     "output_type": "display_data"
    }
   ],
   "source": [
    "data_exposure <- read_excel(\"REXData8Feb2025.xlsx\", sheet = \"Exposure\")\n",
    "head(data_exposure)"
   ]
  },
  {
   "cell_type": "code",
   "execution_count": 24,
   "id": "b8322a1a-0d43-4a2b-beb9-d76313889dd5",
   "metadata": {},
   "outputs": [
    {
     "name": "stderr",
     "output_type": "stream",
     "text": [
      "\u001b[1m\u001b[22mNew names:\n",
      "\u001b[36m•\u001b[39m `` -> `...96`\n",
      "\u001b[36m•\u001b[39m `` -> `...97`\n",
      "\u001b[36m•\u001b[39m `` -> `...98`\n",
      "\u001b[36m•\u001b[39m `` -> `...99`\n",
      "\u001b[36m•\u001b[39m `` -> `...100`\n",
      "\u001b[36m•\u001b[39m `` -> `...101`\n",
      "\u001b[36m•\u001b[39m `` -> `...102`\n",
      "\u001b[36m•\u001b[39m `` -> `...103`\n",
      "\u001b[36m•\u001b[39m `` -> `...104`\n",
      "\u001b[36m•\u001b[39m `` -> `...105`\n",
      "\u001b[36m•\u001b[39m `` -> `...106`\n",
      "\u001b[36m•\u001b[39m `` -> `...107`\n",
      "\u001b[36m•\u001b[39m `` -> `...108`\n",
      "\u001b[36m•\u001b[39m `` -> `...109`\n",
      "\u001b[36m•\u001b[39m `` -> `...110`\n",
      "\u001b[36m•\u001b[39m `` -> `...111`\n",
      "\u001b[36m•\u001b[39m `` -> `...112`\n",
      "\u001b[36m•\u001b[39m `` -> `...113`\n",
      "\u001b[36m•\u001b[39m `` -> `...114`\n",
      "\u001b[36m•\u001b[39m `` -> `...115`\n",
      "\u001b[36m•\u001b[39m `` -> `...116`\n"
     ]
    },
    {
     "data": {
      "text/html": [
       "<table class=\"dataframe\">\n",
       "<caption>A tibble: 6 × 116</caption>\n",
       "<thead>\n",
       "\t<tr><th scope=col>PImID</th><th scope=col>SubstudyID (All)</th><th scope=col>rbc_shift</th><th scope=col>inflation</th><th scope=col>rbc_m_ratio</th><th scope=col>vent_defect_pct</th><th scope=col>vent_low_pct</th><th scope=col>vent_high_pct</th><th scope=col>rbc_defect_pct</th><th scope=col>rbc_low_pct</th><th scope=col>⋯</th><th scope=col>...107</th><th scope=col>...108</th><th scope=col>...109</th><th scope=col>...110</th><th scope=col>...111</th><th scope=col>...112</th><th scope=col>...113</th><th scope=col>...114</th><th scope=col>...115</th><th scope=col>...116</th></tr>\n",
       "\t<tr><th scope=col>&lt;chr&gt;</th><th scope=col>&lt;chr&gt;</th><th scope=col>&lt;dbl&gt;</th><th scope=col>&lt;dbl&gt;</th><th scope=col>&lt;dbl&gt;</th><th scope=col>&lt;dbl&gt;</th><th scope=col>&lt;dbl&gt;</th><th scope=col>&lt;dbl&gt;</th><th scope=col>&lt;dbl&gt;</th><th scope=col>&lt;dbl&gt;</th><th scope=col>⋯</th><th scope=col>&lt;lgl&gt;</th><th scope=col>&lt;lgl&gt;</th><th scope=col>&lt;lgl&gt;</th><th scope=col>&lt;lgl&gt;</th><th scope=col>&lt;lgl&gt;</th><th scope=col>&lt;lgl&gt;</th><th scope=col>&lt;lgl&gt;</th><th scope=col>&lt;lgl&gt;</th><th scope=col>&lt;lgl&gt;</th><th scope=col>&lt;chr&gt;</th></tr>\n",
       "</thead>\n",
       "<tbody>\n",
       "\t<tr><td>PIm0067</td><td>CANUCK1058</td><td>218.3458</td><td>3.242828</td><td>0.495</td><td>1.779580</td><td>13.762340</td><td>15.38288</td><td>0.2362108</td><td> 7.465580</td><td>⋯</td><td>NA</td><td>NA</td><td>NA</td><td>NA</td><td>NA</td><td>NA</td><td>NA</td><td>NA</td><td>NA</td><td>NA</td></tr>\n",
       "\t<tr><td>PIm0327</td><td>CANUCK1181</td><td>216.2458</td><td>3.197052</td><td>0.590</td><td>2.444612</td><td>10.554500</td><td>16.71042</td><td>0.7435973</td><td> 6.796422</td><td>⋯</td><td>NA</td><td>NA</td><td>NA</td><td>NA</td><td>NA</td><td>NA</td><td>NA</td><td>NA</td><td>NA</td><td>NA</td></tr>\n",
       "\t<tr><td>PIm0070</td><td>CANUCK1034</td><td>218.4715</td><td>3.356506</td><td>0.478</td><td>1.011947</td><td>11.976979</td><td>20.03982</td><td>1.7065808</td><td>10.205844</td><td>⋯</td><td>NA</td><td>NA</td><td>NA</td><td>NA</td><td>NA</td><td>NA</td><td>NA</td><td>NA</td><td>NA</td><td>NA</td></tr>\n",
       "\t<tr><td>PIm0142</td><td>CANUCK1074</td><td>219.0143</td><td>4.874664</td><td>0.590</td><td>1.286522</td><td> 9.113959</td><td>19.41865</td><td>1.6727915</td><td>15.362511</td><td>⋯</td><td>NA</td><td>NA</td><td>NA</td><td>NA</td><td>NA</td><td>NA</td><td>NA</td><td>NA</td><td>NA</td><td>NA</td></tr>\n",
       "\t<tr><td>PIm0184</td><td>CANUCK1079</td><td>218.3623</td><td>3.380524</td><td>0.565</td><td>1.178085</td><td>11.567801</td><td>23.99863</td><td>1.2331525</td><td>11.247326</td><td>⋯</td><td>NA</td><td>NA</td><td>NA</td><td>NA</td><td>NA</td><td>NA</td><td>NA</td><td>NA</td><td>NA</td><td>NA</td></tr>\n",
       "\t<tr><td>PIm0310</td><td>CANUCK1152</td><td>219.0319</td><td>4.803741</td><td>0.738</td><td>2.100261</td><td>14.994695</td><td>14.42484</td><td>0.4389838</td><td> 2.130755</td><td>⋯</td><td>NA</td><td>NA</td><td>NA</td><td>NA</td><td>NA</td><td>NA</td><td>NA</td><td>NA</td><td>NA</td><td>NA</td></tr>\n",
       "</tbody>\n",
       "</table>\n"
      ],
      "text/latex": [
       "A tibble: 6 × 116\n",
       "\\begin{tabular}{lllllllllllllllllllll}\n",
       " PImID & SubstudyID (All) & rbc\\_shift & inflation & rbc\\_m\\_ratio & vent\\_defect\\_pct & vent\\_low\\_pct & vent\\_high\\_pct & rbc\\_defect\\_pct & rbc\\_low\\_pct & ⋯ & ...107 & ...108 & ...109 & ...110 & ...111 & ...112 & ...113 & ...114 & ...115 & ...116\\\\\n",
       " <chr> & <chr> & <dbl> & <dbl> & <dbl> & <dbl> & <dbl> & <dbl> & <dbl> & <dbl> & ⋯ & <lgl> & <lgl> & <lgl> & <lgl> & <lgl> & <lgl> & <lgl> & <lgl> & <lgl> & <chr>\\\\\n",
       "\\hline\n",
       "\t PIm0067 & CANUCK1058 & 218.3458 & 3.242828 & 0.495 & 1.779580 & 13.762340 & 15.38288 & 0.2362108 &  7.465580 & ⋯ & NA & NA & NA & NA & NA & NA & NA & NA & NA & NA\\\\\n",
       "\t PIm0327 & CANUCK1181 & 216.2458 & 3.197052 & 0.590 & 2.444612 & 10.554500 & 16.71042 & 0.7435973 &  6.796422 & ⋯ & NA & NA & NA & NA & NA & NA & NA & NA & NA & NA\\\\\n",
       "\t PIm0070 & CANUCK1034 & 218.4715 & 3.356506 & 0.478 & 1.011947 & 11.976979 & 20.03982 & 1.7065808 & 10.205844 & ⋯ & NA & NA & NA & NA & NA & NA & NA & NA & NA & NA\\\\\n",
       "\t PIm0142 & CANUCK1074 & 219.0143 & 4.874664 & 0.590 & 1.286522 &  9.113959 & 19.41865 & 1.6727915 & 15.362511 & ⋯ & NA & NA & NA & NA & NA & NA & NA & NA & NA & NA\\\\\n",
       "\t PIm0184 & CANUCK1079 & 218.3623 & 3.380524 & 0.565 & 1.178085 & 11.567801 & 23.99863 & 1.2331525 & 11.247326 & ⋯ & NA & NA & NA & NA & NA & NA & NA & NA & NA & NA\\\\\n",
       "\t PIm0310 & CANUCK1152 & 219.0319 & 4.803741 & 0.738 & 2.100261 & 14.994695 & 14.42484 & 0.4389838 &  2.130755 & ⋯ & NA & NA & NA & NA & NA & NA & NA & NA & NA & NA\\\\\n",
       "\\end{tabular}\n"
      ],
      "text/markdown": [
       "\n",
       "A tibble: 6 × 116\n",
       "\n",
       "| PImID &lt;chr&gt; | SubstudyID (All) &lt;chr&gt; | rbc_shift &lt;dbl&gt; | inflation &lt;dbl&gt; | rbc_m_ratio &lt;dbl&gt; | vent_defect_pct &lt;dbl&gt; | vent_low_pct &lt;dbl&gt; | vent_high_pct &lt;dbl&gt; | rbc_defect_pct &lt;dbl&gt; | rbc_low_pct &lt;dbl&gt; | ⋯ ⋯ | ...107 &lt;lgl&gt; | ...108 &lt;lgl&gt; | ...109 &lt;lgl&gt; | ...110 &lt;lgl&gt; | ...111 &lt;lgl&gt; | ...112 &lt;lgl&gt; | ...113 &lt;lgl&gt; | ...114 &lt;lgl&gt; | ...115 &lt;lgl&gt; | ...116 &lt;chr&gt; |\n",
       "|---|---|---|---|---|---|---|---|---|---|---|---|---|---|---|---|---|---|---|---|---|\n",
       "| PIm0067 | CANUCK1058 | 218.3458 | 3.242828 | 0.495 | 1.779580 | 13.762340 | 15.38288 | 0.2362108 |  7.465580 | ⋯ | NA | NA | NA | NA | NA | NA | NA | NA | NA | NA |\n",
       "| PIm0327 | CANUCK1181 | 216.2458 | 3.197052 | 0.590 | 2.444612 | 10.554500 | 16.71042 | 0.7435973 |  6.796422 | ⋯ | NA | NA | NA | NA | NA | NA | NA | NA | NA | NA |\n",
       "| PIm0070 | CANUCK1034 | 218.4715 | 3.356506 | 0.478 | 1.011947 | 11.976979 | 20.03982 | 1.7065808 | 10.205844 | ⋯ | NA | NA | NA | NA | NA | NA | NA | NA | NA | NA |\n",
       "| PIm0142 | CANUCK1074 | 219.0143 | 4.874664 | 0.590 | 1.286522 |  9.113959 | 19.41865 | 1.6727915 | 15.362511 | ⋯ | NA | NA | NA | NA | NA | NA | NA | NA | NA | NA |\n",
       "| PIm0184 | CANUCK1079 | 218.3623 | 3.380524 | 0.565 | 1.178085 | 11.567801 | 23.99863 | 1.2331525 | 11.247326 | ⋯ | NA | NA | NA | NA | NA | NA | NA | NA | NA | NA |\n",
       "| PIm0310 | CANUCK1152 | 219.0319 | 4.803741 | 0.738 | 2.100261 | 14.994695 | 14.42484 | 0.4389838 |  2.130755 | ⋯ | NA | NA | NA | NA | NA | NA | NA | NA | NA | NA |\n",
       "\n"
      ],
      "text/plain": [
       "  PImID   SubstudyID (All) rbc_shift inflation rbc_m_ratio vent_defect_pct\n",
       "1 PIm0067 CANUCK1058       218.3458  3.242828  0.495       1.779580       \n",
       "2 PIm0327 CANUCK1181       216.2458  3.197052  0.590       2.444612       \n",
       "3 PIm0070 CANUCK1034       218.4715  3.356506  0.478       1.011947       \n",
       "4 PIm0142 CANUCK1074       219.0143  4.874664  0.590       1.286522       \n",
       "5 PIm0184 CANUCK1079       218.3623  3.380524  0.565       1.178085       \n",
       "6 PIm0310 CANUCK1152       219.0319  4.803741  0.738       2.100261       \n",
       "  vent_low_pct vent_high_pct rbc_defect_pct rbc_low_pct ⋯ ...107 ...108 ...109\n",
       "1 13.762340    15.38288      0.2362108       7.465580   ⋯ NA     NA     NA    \n",
       "2 10.554500    16.71042      0.7435973       6.796422   ⋯ NA     NA     NA    \n",
       "3 11.976979    20.03982      1.7065808      10.205844   ⋯ NA     NA     NA    \n",
       "4  9.113959    19.41865      1.6727915      15.362511   ⋯ NA     NA     NA    \n",
       "5 11.567801    23.99863      1.2331525      11.247326   ⋯ NA     NA     NA    \n",
       "6 14.994695    14.42484      0.4389838       2.130755   ⋯ NA     NA     NA    \n",
       "  ...110 ...111 ...112 ...113 ...114 ...115 ...116\n",
       "1 NA     NA     NA     NA     NA     NA     NA    \n",
       "2 NA     NA     NA     NA     NA     NA     NA    \n",
       "3 NA     NA     NA     NA     NA     NA     NA    \n",
       "4 NA     NA     NA     NA     NA     NA     NA    \n",
       "5 NA     NA     NA     NA     NA     NA     NA    \n",
       "6 NA     NA     NA     NA     NA     NA     NA    "
      ]
     },
     "metadata": {},
     "output_type": "display_data"
    }
   ],
   "source": [
    "data_combined <- read_excel(\"REXData8Feb2025.xlsx\", sheet = \"Combined\")\n",
    "head(data_combined)\n",
    "colnames(data_combined) <- gsub(\" \", \"_\", colnames(data_combined))\n",
    "data_combined$Group <- as.factor(data_combined$Group)"
   ]
  },
  {
   "cell_type": "code",
   "execution_count": 30,
   "id": "53c24faa-0485-499b-b47d-6b1b7a4ede20",
   "metadata": {},
   "outputs": [
    {
     "data": {
      "image/png": "[encoded data removed]",
      "text/plain": [
       "Plot with title \"Histogram of data_combined$ADC_Mean\""
      ]
     },
     "metadata": {
      "image/png": {
       "height": 420,
       "width": 420
      }
     },
     "output_type": "display_data"
    }
   ],
   "source": [
    "hist(data_combined$ADC_Mean, breaks = 20)"
   ]
  },
  {
   "cell_type": "code",
   "execution_count": 31,
   "id": "c8f277b3-581e-4cd2-9017-278cc3090328",
   "metadata": {},
   "outputs": [
    {
     "data": {
      "text/plain": [
       "\n",
       "\tShapiro-Wilk normality test\n",
       "\n",
       "data:  data_combined$ADC_Mean\n",
       "W = 0.99233, p-value = 0.8405\n"
      ]
     },
     "metadata": {},
     "output_type": "display_data"
    }
   ],
   "source": [
    "shapiro.test(data_combined$ADC_Mean)"
   ]
  },
  {
   "cell_type": "markdown",
   "id": "442d317b-b22a-460c-a1c1-823bf65dc376",
   "metadata": {},
   "source": [
    "=> Data is normally distributed (p>0.05)"
   ]
  },
  {
   "cell_type": "code",
   "execution_count": 32,
   "id": "402c798b-d65b-4406-9399-9c8f8eb1b098",
   "metadata": {},
   "outputs": [
    {
     "data": {
      "text/plain": [
       "\n",
       "\tWelch Two Sample t-test\n",
       "\n",
       "data:  ADC_Mean by Group\n",
       "t = -0.1435, df = 31.211, p-value = 0.8868\n",
       "alternative hypothesis: true difference in means between group 0 and group 1 is not equal to 0\n",
       "95 percent confidence interval:\n",
       " -0.001576603  0.001369271\n",
       "sample estimates:\n",
       "mean in group 0 mean in group 1 \n",
       "     0.04788659      0.04799025 \n"
      ]
     },
     "metadata": {},
     "output_type": "display_data"
    }
   ],
   "source": [
    "t.test(ADC_Mean ~ Group, data = data_combined)"
   ]
  },
  {
   "cell_type": "markdown",
   "id": "c8a2b841-9f6f-46b7-b8e6-7981f01924c6",
   "metadata": {},
   "source": [
    "=> The difference is neglectible => ADC Mean does not show significant differences"
   ]
  },
  {
   "cell_type": "code",
   "execution_count": 25,
   "id": "7444a557-a414-442a-b735-9dbd4256dfab",
   "metadata": {},
   "outputs": [
    {
     "name": "stderr",
     "output_type": "stream",
     "text": [
      "Warning message:\n",
      "\"\u001b[1m\u001b[22mRemoved 22 rows containing non-finite outside the scale range (`stat_boxplot()`).\"\n"
     ]
    },
    {
     "data": {
      "image/png": "[encoded data removed]",
      "text/plain": [
       "plot without title"
      ]
     },
     "metadata": {
      "image/png": {
       "height": 420,
       "width": 420
      }
     },
     "output_type": "display_data"
    }
   ],
   "source": [
    "ggplot(data_combined) + \n",
    "  geom_boxplot(aes(x=Group, y = ADC_Mean))+\n",
    "  #geom_jitter(aes(x=Group, y = vent_defect_pct), width = 0.2, height = 0,\n",
    "  #            shape = 16, size = 0.5, color = \"black\")+\n",
    "  labs(title = \"Group vs ADC Mean\", x = \"Group\", y = \"ADC Mean\")+\n",
    "  theme_classic()\n"
   ]
  },
  {
   "cell_type": "code",
   "execution_count": 34,
   "id": "740fe0bf-e7d5-4b0e-94e8-76b2c578378f",
   "metadata": {},
   "outputs": [
    {
     "data": {
      "text/plain": [
       "\n",
       "\tShapiro-Wilk normality test\n",
       "\n",
       "data:  data_combined$vent_defect_pct\n",
       "W = 0.62452, p-value = 2.882e-16\n"
      ]
     },
     "metadata": {},
     "output_type": "display_data"
    }
   ],
   "source": [
    "shapiro.test(data_combined$vent_defect_pct)"
   ]
  },
  {
   "cell_type": "code",
   "execution_count": 36,
   "id": "ea4d90c5-a8cc-478d-a88e-2a9bd53749c0",
   "metadata": {},
   "outputs": [
    {
     "data": {
      "text/plain": [
       "\n",
       "\tWilcoxon rank sum test with continuity correction\n",
       "\n",
       "data:  vent_defect_pct by Group\n",
       "W = 1372, p-value = 0.149\n",
       "alternative hypothesis: true location shift is not equal to 0\n"
      ]
     },
     "metadata": {},
     "output_type": "display_data"
    }
   ],
   "source": [
    "wilcox.test(vent_defect_pct ~ Group, data = data_combined)"
   ]
  },
  {
   "cell_type": "markdown",
   "id": "1c421408-8085-4592-91ae-c613f6e4cef3",
   "metadata": {},
   "source": [
    "p-value > 0.05 => not significantly different "
   ]
  },
  {
   "cell_type": "code",
   "execution_count": 35,
   "id": "9ac6e8e9-5562-4627-a9a3-e6abc60b78f5",
   "metadata": {},
   "outputs": [
    {
     "data": {
      "text/plain": [
       "\n",
       "\tShapiro-Wilk normality test\n",
       "\n",
       "data:  data_combined$vent_low_pct\n",
       "W = 0.90025, p-value = 1.523e-07\n"
      ]
     },
     "metadata": {},
     "output_type": "display_data"
    }
   ],
   "source": [
    "shapiro.test(data_combined$vent_low_pct)"
   ]
  },
  {
   "cell_type": "code",
   "execution_count": 37,
   "id": "d8cd5e91-e64e-4ea4-8b5c-896810615c06",
   "metadata": {},
   "outputs": [
    {
     "data": {
      "text/plain": [
       "\n",
       "\tWilcoxon rank sum test with continuity correction\n",
       "\n",
       "data:  vent_low_pct by Group\n",
       "W = 1529, p-value = 0.5554\n",
       "alternative hypothesis: true location shift is not equal to 0\n"
      ]
     },
     "metadata": {},
     "output_type": "display_data"
    }
   ],
   "source": [
    "wilcox.test(vent_low_pct ~ Group, data = data_combined)"
   ]
  },
  {
   "cell_type": "markdown",
   "id": "6319a52b-c1f8-4ae8-804d-0eaee6e7ac01",
   "metadata": {},
   "source": [
    "p-value > 0.05 => not significantly different "
   ]
  },
  {
   "cell_type": "code",
   "execution_count": 38,
   "id": "3018df6a-23fe-4166-818b-061874bf953c",
   "metadata": {},
   "outputs": [
    {
     "data": {
      "text/plain": [
       "\n",
       "\tShapiro-Wilk normality test\n",
       "\n",
       "data:  data_combined$vent_high_pct\n",
       "W = 0.9525, p-value = 0.0002742\n"
      ]
     },
     "metadata": {},
     "output_type": "display_data"
    }
   ],
   "source": [
    "shapiro.test(data_combined$vent_high_pct)"
   ]
  },
  {
   "cell_type": "code",
   "execution_count": 39,
   "id": "007d410b-7263-4676-b800-f26a23ea8ef8",
   "metadata": {},
   "outputs": [
    {
     "data": {
      "text/plain": [
       "\n",
       "\tWilcoxon rank sum test with continuity correction\n",
       "\n",
       "data:  vent_high_pct by Group\n",
       "W = 1593, p-value = 0.8089\n",
       "alternative hypothesis: true location shift is not equal to 0\n"
      ]
     },
     "metadata": {},
     "output_type": "display_data"
    }
   ],
   "source": [
    "wilcox.test(vent_high_pct ~ Group, data = data_combined)"
   ]
  },
  {
   "cell_type": "markdown",
   "id": "6a2364ec-59fc-499a-874c-dd156239cbe6",
   "metadata": {},
   "source": [
    "p-value > 0.05 => not significantly different "
   ]
  },
  {
   "cell_type": "code",
   "execution_count": 40,
   "id": "60e91c11-c60f-41aa-9d93-84524275c438",
   "metadata": {},
   "outputs": [
    {
     "data": {
      "text/plain": [
       "\n",
       "\tShapiro-Wilk normality test\n",
       "\n",
       "data:  data_combined$dlco\n",
       "W = 0.97724, p-value = 0.03549\n"
      ]
     },
     "metadata": {},
     "output_type": "display_data"
    }
   ],
   "source": [
    "shapiro.test(data_combined$dlco)"
   ]
  },
  {
   "cell_type": "code",
   "execution_count": 41,
   "id": "fed6ee0b-7a00-4d51-a622-4367d12985ee",
   "metadata": {},
   "outputs": [
    {
     "data": {
      "text/plain": [
       "\n",
       "\tWilcoxon rank sum test with continuity correction\n",
       "\n",
       "data:  dlco by Group\n",
       "W = 1343.5, p-value = 0.1101\n",
       "alternative hypothesis: true location shift is not equal to 0\n"
      ]
     },
     "metadata": {},
     "output_type": "display_data"
    }
   ],
   "source": [
    "wilcox.test(dlco ~ Group, data = data_combined)"
   ]
  },
  {
   "cell_type": "code",
   "execution_count": 42,
   "id": "77220558-a5ca-4a49-a8e8-91486801c5b1",
   "metadata": {},
   "outputs": [
    {
     "data": {
      "text/plain": [
       "\n",
       "\tShapiro-Wilk normality test\n",
       "\n",
       "data:  data_combined$rbc_defect_pct\n",
       "W = 0.82587, p-value = 9.43e-11\n"
      ]
     },
     "metadata": {},
     "output_type": "display_data"
    }
   ],
   "source": [
    "shapiro.test(data_combined$rbc_defect_pct)"
   ]
  },
  {
   "cell_type": "code",
   "execution_count": 43,
   "id": "8d0d1584-9914-449a-8f61-2ab4d86fb28e",
   "metadata": {},
   "outputs": [
    {
     "data": {
      "text/plain": [
       "\n",
       "\tWilcoxon rank sum test with continuity correction\n",
       "\n",
       "data:  rbc_defect_pct by Group\n",
       "W = 1873, p-value = 0.2025\n",
       "alternative hypothesis: true location shift is not equal to 0\n"
      ]
     },
     "metadata": {},
     "output_type": "display_data"
    }
   ],
   "source": [
    "wilcox.test(rbc_defect_pct ~ Group, data = data_combined)"
   ]
  },
  {
   "cell_type": "code",
   "execution_count": 44,
   "id": "125015bd-d72b-440f-a6d8-7ba288b4cd3c",
   "metadata": {},
   "outputs": [
    {
     "data": {
      "text/plain": [
       "\n",
       "Call:\n",
       "lm(formula = dlco ~ Group + age2 + bmi, data = data_combined)\n",
       "\n",
       "Residuals:\n",
       "     Min       1Q   Median       3Q      Max \n",
       "-12.6760  -4.5615  -0.5074   3.8397  16.6962 \n",
       "\n",
       "Coefficients:\n",
       "            Estimate Std. Error t value Pr(>|t|)    \n",
       "(Intercept) 28.46300    3.64080   7.818  2.4e-12 ***\n",
       "Group1       2.11588    1.23996   1.706   0.0905 .  \n",
       "age2        -0.13025    0.07374  -1.766   0.0799 .  \n",
       "bmi          0.10527    0.13412   0.785   0.4341    \n",
       "---\n",
       "Signif. codes:  0 '***' 0.001 '**' 0.01 '*' 0.05 '.' 0.1 ' ' 1\n",
       "\n",
       "Residual standard error: 6.353 on 119 degrees of freedom\n",
       "Multiple R-squared:  0.05315,\tAdjusted R-squared:  0.02928 \n",
       "F-statistic: 2.227 on 3 and 119 DF,  p-value: 0.08863\n"
      ]
     },
     "metadata": {},
     "output_type": "display_data"
    }
   ],
   "source": [
    "model <- lm(dlco ~ Group + age2 + bmi, data = data_combined)\n",
    "summary(model)"
   ]
  },
  {
   "cell_type": "code",
   "execution_count": 62,
   "id": "3ace75d2-4125-4799-9b16-224b37513ec9",
   "metadata": {},
   "outputs": [
    {
     "data": {
      "text/plain": [
       "\n",
       "\tShapiro-Wilk normality test\n",
       "\n",
       "data:  data_combined$rbc_mean\n",
       "W = 0.9769, p-value = 0.03298\n"
      ]
     },
     "metadata": {},
     "output_type": "display_data"
    }
   ],
   "source": [
    "shapiro.test(data_combined$rbc_mean)"
   ]
  },
  {
   "cell_type": "code",
   "execution_count": 63,
   "id": "9a73ee82-99ca-4b0c-91ca-945023bb9dfc",
   "metadata": {},
   "outputs": [
    {
     "data": {
      "text/plain": [
       "\n",
       "\tWilcoxon rank sum test with continuity correction\n",
       "\n",
       "data:  rbc_mean by Group\n",
       "W = 1229, p-value = 0.0264\n",
       "alternative hypothesis: true location shift is not equal to 0\n"
      ]
     },
     "metadata": {},
     "output_type": "display_data"
    }
   ],
   "source": [
    "wilcox.test(rbc_mean ~ Group, data = data_combined)"
   ]
  },
  {
   "cell_type": "code",
   "execution_count": 46,
   "id": "0a2065c0-56e9-4188-a33a-044fb47d6c2d",
   "metadata": {},
   "outputs": [
    {
     "data": {
      "text/html": [
       "<table class=\"dataframe\">\n",
       "<caption>A data.frame: 12 × 2</caption>\n",
       "<thead>\n",
       "\t<tr><th scope=col>Variable</th><th scope=col>P_Value</th></tr>\n",
       "\t<tr><th scope=col>&lt;chr&gt;</th><th scope=col>&lt;dbl&gt;</th></tr>\n",
       "</thead>\n",
       "<tbody>\n",
       "\t<tr><td>pre_fev1_fvc    </td><td>0.0412577065</td></tr>\n",
       "\t<tr><td>pre_fev1        </td><td>0.0053426055</td></tr>\n",
       "\t<tr><td>pre_fev1_pp_gli </td><td>0.0540107347</td></tr>\n",
       "\t<tr><td>pre_fvc         </td><td>0.0003519699</td></tr>\n",
       "\t<tr><td>pre_fvc_pp_gli  </td><td>0.0011422563</td></tr>\n",
       "\t<tr><td>post_fev1_fvc   </td><td>0.0526399965</td></tr>\n",
       "\t<tr><td>post_fev1       </td><td>0.0029565057</td></tr>\n",
       "\t<tr><td>post_fev1_pp_gli</td><td>0.0365050543</td></tr>\n",
       "\t<tr><td>post_fvc        </td><td>0.0007439642</td></tr>\n",
       "\t<tr><td>post_fvc_pp_gli </td><td>0.0042574337</td></tr>\n",
       "\t<tr><td>dlco            </td><td>0.1100566605</td></tr>\n",
       "\t<tr><td>dlco_pp_gli     </td><td>0.8811860675</td></tr>\n",
       "</tbody>\n",
       "</table>\n"
      ],
      "text/latex": [
       "A data.frame: 12 × 2\n",
       "\\begin{tabular}{ll}\n",
       " Variable & P\\_Value\\\\\n",
       " <chr> & <dbl>\\\\\n",
       "\\hline\n",
       "\t pre\\_fev1\\_fvc     & 0.0412577065\\\\\n",
       "\t pre\\_fev1         & 0.0053426055\\\\\n",
       "\t pre\\_fev1\\_pp\\_gli  & 0.0540107347\\\\\n",
       "\t pre\\_fvc          & 0.0003519699\\\\\n",
       "\t pre\\_fvc\\_pp\\_gli   & 0.0011422563\\\\\n",
       "\t post\\_fev1\\_fvc    & 0.0526399965\\\\\n",
       "\t post\\_fev1        & 0.0029565057\\\\\n",
       "\t post\\_fev1\\_pp\\_gli & 0.0365050543\\\\\n",
       "\t post\\_fvc         & 0.0007439642\\\\\n",
       "\t post\\_fvc\\_pp\\_gli  & 0.0042574337\\\\\n",
       "\t dlco             & 0.1100566605\\\\\n",
       "\t dlco\\_pp\\_gli      & 0.8811860675\\\\\n",
       "\\end{tabular}\n"
      ],
      "text/markdown": [
       "\n",
       "A data.frame: 12 × 2\n",
       "\n",
       "| Variable &lt;chr&gt; | P_Value &lt;dbl&gt; |\n",
       "|---|---|\n",
       "| pre_fev1_fvc     | 0.0412577065 |\n",
       "| pre_fev1         | 0.0053426055 |\n",
       "| pre_fev1_pp_gli  | 0.0540107347 |\n",
       "| pre_fvc          | 0.0003519699 |\n",
       "| pre_fvc_pp_gli   | 0.0011422563 |\n",
       "| post_fev1_fvc    | 0.0526399965 |\n",
       "| post_fev1        | 0.0029565057 |\n",
       "| post_fev1_pp_gli | 0.0365050543 |\n",
       "| post_fvc         | 0.0007439642 |\n",
       "| post_fvc_pp_gli  | 0.0042574337 |\n",
       "| dlco             | 0.1100566605 |\n",
       "| dlco_pp_gli      | 0.8811860675 |\n",
       "\n"
      ],
      "text/plain": [
       "   Variable         P_Value     \n",
       "1  pre_fev1_fvc     0.0412577065\n",
       "2  pre_fev1         0.0053426055\n",
       "3  pre_fev1_pp_gli  0.0540107347\n",
       "4  pre_fvc          0.0003519699\n",
       "5  pre_fvc_pp_gli   0.0011422563\n",
       "6  post_fev1_fvc    0.0526399965\n",
       "7  post_fev1        0.0029565057\n",
       "8  post_fev1_pp_gli 0.0365050543\n",
       "9  post_fvc         0.0007439642\n",
       "10 post_fvc_pp_gli  0.0042574337\n",
       "11 dlco             0.1100566605\n",
       "12 dlco_pp_gli      0.8811860675"
      ]
     },
     "metadata": {},
     "output_type": "display_data"
    }
   ],
   "source": [
    "# Wilcoxon tests for key lung function measures\n",
    "pft_vars <- c(\"pre_fev1_fvc\", \"pre_fev1\", \"pre_fev1_pp_gli\", \"pre_fvc\", \"pre_fvc_pp_gli\", \n",
    "              \"post_fev1_fvc\", \"post_fev1\", \"post_fev1_pp_gli\", \"post_fvc\", \"post_fvc_pp_gli\", \n",
    "              \"dlco\", \"dlco_pp_gli\")\n",
    "\n",
    "# Loop through each variable and run Wilcoxon test\n",
    "results <- lapply(pft_vars, function(var) {\n",
    "  test <- wilcox.test(data_combined[[var]] ~ data_combined$Group)\n",
    "  return(data.frame(Variable = var, P_Value = test$p.value))\n",
    "})\n",
    "\n",
    "# Convert list to data frame and display results\n",
    "pft_results <- do.call(rbind, results)\n",
    "pft_results\n"
   ]
  },
  {
   "cell_type": "code",
   "execution_count": 48,
   "id": "91c947b9-756a-4dda-9af6-5bce5a625edb",
   "metadata": {},
   "outputs": [
    {
     "data": {
      "image/png": "[encoded data removed]",
      "text/plain": [
       "plot without title"
      ]
     },
     "metadata": {
      "image/png": {
       "height": 420,
       "width": 420
      }
     },
     "output_type": "display_data"
    }
   ],
   "source": [
    "ggplot(data_combined, aes(x = as.factor(Group), y = pre_fev1_fvc)) +\n",
    "  geom_boxplot() +\n",
    "  labs(title = \"Pre FEV1/FVC Ratio by Group\", x = \"Group\", y = \"Pre FEV1/FVC\") +\n",
    "  theme_classic()"
   ]
  },
  {
   "cell_type": "markdown",
   "id": "3697c887-098a-4bc5-8578-8003f306d085",
   "metadata": {},
   "source": [
    "=> lower FEV1/FVC ratio in smokers"
   ]
  },
  {
   "cell_type": "code",
   "execution_count": 51,
   "id": "1159a661-67da-4e57-aad0-a64a567f2ed9",
   "metadata": {},
   "outputs": [
    {
     "data": {
      "image/png": "[encoded data removed]",
      "text/plain": [
       "plot without title"
      ]
     },
     "metadata": {
      "image/png": {
       "height": 420,
       "width": 420
      }
     },
     "output_type": "display_data"
    }
   ],
   "source": [
    "ggplot(data_combined, aes(x = as.factor(Group), y = pre_fev1)) +\n",
    "  geom_boxplot() +\n",
    "  #labs(title = \"Pre FEV1/FVC Ratio by Group\", x = \"Group\", y = \"Pre FEV1/FVC\") +\n",
    "  theme_classic()"
   ]
  },
  {
   "cell_type": "code",
   "execution_count": 52,
   "id": "298e0027-0d89-4a00-b420-7440a36abb3e",
   "metadata": {},
   "outputs": [
    {
     "data": {
      "image/png": "[encoded data removed]",
      "text/plain": [
       "plot without title"
      ]
     },
     "metadata": {
      "image/png": {
       "height": 420,
       "width": 420
      }
     },
     "output_type": "display_data"
    }
   ],
   "source": [
    "ggplot(data_combined, aes(x = as.factor(Group), y = pre_fvc)) +\n",
    "  geom_boxplot() +\n",
    "  #labs(title = \"Pre FEV1/FVC Ratio by Group\", x = \"Group\", y = \"Pre FEV1/FVC\") +\n",
    "  theme_classic()"
   ]
  },
  {
   "cell_type": "code",
   "execution_count": 53,
   "id": "9c855b10-03e7-490f-83ed-3cc2d7668548",
   "metadata": {},
   "outputs": [
    {
     "data": {
      "image/png": "[encoded data removed]",
      "text/plain": [
       "plot without title"
      ]
     },
     "metadata": {
      "image/png": {
       "height": 420,
       "width": 420
      }
     },
     "output_type": "display_data"
    }
   ],
   "source": [
    "ggplot(data_combined, aes(x = as.factor(Group), y = pre_fvc_pp_gli)) +\n",
    "  geom_boxplot() +\n",
    "  #labs(title = \"Pre FEV1/FVC Ratio by Group\", x = \"Group\", y = \"Pre FEV1/FVC\") +\n",
    "  theme_classic()"
   ]
  },
  {
   "cell_type": "code",
   "execution_count": 54,
   "id": "6e72eb7f-9b8f-4153-8d70-3929019a4969",
   "metadata": {},
   "outputs": [
    {
     "name": "stderr",
     "output_type": "stream",
     "text": [
      "Warning message:\n",
      "\"\u001b[1m\u001b[22mRemoved 3 rows containing non-finite outside the scale range (`stat_boxplot()`).\"\n"
     ]
    },
    {
     "data": {
      "image/png": "[encoded data removed]",
      "text/plain": [
       "plot without title"
      ]
     },
     "metadata": {
      "image/png": {
       "height": 420,
       "width": 420
      }
     },
     "output_type": "display_data"
    }
   ],
   "source": [
    "ggplot(data_combined, aes(x = as.factor(Group), y = post_fev1)) +\n",
    "  geom_boxplot() +\n",
    "  #labs(title = \"Pre FEV1/FVC Ratio by Group\", x = \"Group\", y = \"Pre FEV1/FVC\") +\n",
    "  theme_classic()"
   ]
  },
  {
   "cell_type": "code",
   "execution_count": 55,
   "id": "40a7f8b4-2324-4f09-ac9c-c51ef4816aab",
   "metadata": {},
   "outputs": [
    {
     "name": "stderr",
     "output_type": "stream",
     "text": [
      "Warning message:\n",
      "\"\u001b[1m\u001b[22mRemoved 3 rows containing non-finite outside the scale range (`stat_boxplot()`).\"\n"
     ]
    },
    {
     "data": {
      "image/png": "[encoded data removed]",
      "text/plain": [
       "plot without title"
      ]
     },
     "metadata": {
      "image/png": {
       "height": 420,
       "width": 420
      }
     },
     "output_type": "display_data"
    }
   ],
   "source": [
    "ggplot(data_combined, aes(x = as.factor(Group), y = post_fvc)) +\n",
    "  geom_boxplot() +\n",
    "  #labs(title = \"Pre FEV1/FVC Ratio by Group\", x = \"Group\", y = \"Pre FEV1/FVC\") +\n",
    "  theme_classic()"
   ]
  },
  {
   "cell_type": "code",
   "execution_count": 56,
   "id": "39ba67d6-3c52-4fe6-bc15-c6166c02b97d",
   "metadata": {},
   "outputs": [
    {
     "name": "stderr",
     "output_type": "stream",
     "text": [
      "Warning message:\n",
      "\"\u001b[1m\u001b[22mRemoved 3 rows containing non-finite outside the scale range (`stat_boxplot()`).\"\n"
     ]
    },
    {
     "data": {
      "image/png": "[encoded data removed]",
      "text/plain": [
       "plot without title"
      ]
     },
     "metadata": {
      "image/png": {
       "height": 420,
       "width": 420
      }
     },
     "output_type": "display_data"
    }
   ],
   "source": [
    "ggplot(data_combined, aes(x = as.factor(Group), y = post_fvc_pp_gli)) +\n",
    "  geom_boxplot() +\n",
    "  #labs(title = \"Pre FEV1/FVC Ratio by Group\", x = \"Group\", y = \"Pre FEV1/FVC\") +\n",
    "  theme_classic()"
   ]
  },
  {
   "cell_type": "code",
   "execution_count": 57,
   "id": "4832b292-2e68-4c7a-896a-cce398bc0d88",
   "metadata": {},
   "outputs": [
    {
     "name": "stderr",
     "output_type": "stream",
     "text": [
      "Warning message:\n",
      "\"\u001b[1m\u001b[22mRemoved 3 rows containing non-finite outside the scale range (`stat_boxplot()`).\"\n"
     ]
    },
    {
     "data": {
      "image/png": "[encoded data removed]",
      "text/plain": [
       "plot without title"
      ]
     },
     "metadata": {
      "image/png": {
       "height": 420,
       "width": 420
      }
     },
     "output_type": "display_data"
    }
   ],
   "source": [
    "ggplot(data_combined, aes(x = as.factor(Group), y = post_fev1_pp_gli)) +\n",
    "  geom_boxplot() +\n",
    "  #labs(title = \"Pre FEV1/FVC Ratio by Group\", x = \"Group\", y = \"Pre FEV1/FVC\") +\n",
    "  theme_classic()"
   ]
  },
  {
   "cell_type": "markdown",
   "id": "9a6dcfb9-a7df-40d2-a026-b12a3b28264b",
   "metadata": {},
   "source": [
    "A. Airflow Limitation Indicators\n",
    "- Pre & Post FEV1/FVC Ratio\n",
    "+ The median FEV1/FVC ratio is slightly lower in smokers, but overlap exists.\n",
    "+ This aligns with early airway obstruction, although mild.\n",
    "\n",
    "- Pre & Post FEV1\n",
    "+ Smokers have significantly lower FEV1.\n",
    "+ This suggests reduced lung function, a known early impact of smoking.\n",
    "\n",
    "- Pre & Post FVC\n",
    "+ Smokers have lower FVC, meaning a smaller total lung capacity.\n",
    "+ This could indicate mild restrictive impairment in addition to airflow limitation.\n",
    "\n",
    "B. Predicted Percent Values\n",
    "- Pre & Post FEV1 % Predicted (pre_fev1_pp_gli, post_fev1_pp_gli)\n",
    "+ Smokers have a lower predicted FEV1 compared to non-smokers.\n",
    "+ More outliers in non-smokers, but overall trend supports airflow decline.\n",
    "\n",
    "- Pre & Post FVC % Predicted (pre_fvc_pp_gli, post_fvc_pp_gli)\n",
    "+ Smokers have lower FVC % predicted, reinforcing lung volume loss.\n",
    "\n",
    "C. Gas Exchange (DLCO): No significant difference."
   ]
  },
  {
   "cell_type": "code",
   "execution_count": 60,
   "id": "4c27f0e8-e67b-4a0c-9f27-7564d3869d6f",
   "metadata": {},
   "outputs": [
    {
     "data": {
      "text/plain": [
       "$pre_fev1_fvc\n",
       "\n",
       "Call:\n",
       "lm(formula = as.formula(paste(var, \"~ Group + age2 + bmi\")), \n",
       "    data = data_combined)\n",
       "\n",
       "Residuals:\n",
       "     Min       1Q   Median       3Q      Max \n",
       "-23.7393  -3.8979   0.5668   4.9667  17.9134 \n",
       "\n",
       "Coefficients:\n",
       "            Estimate Std. Error t value Pr(>|t|)    \n",
       "(Intercept) 101.5172     3.9351  25.798  < 2e-16 ***\n",
       "Group1       -2.1046     1.3402  -1.570 0.118980    \n",
       "age2         -0.2016     0.0797  -2.529 0.012751 *  \n",
       "bmi          -0.5381     0.1450  -3.712 0.000314 ***\n",
       "---\n",
       "Signif. codes:  0 '***' 0.001 '**' 0.01 '*' 0.05 '.' 0.1 ' ' 1\n",
       "\n",
       "Residual standard error: 6.867 on 119 degrees of freedom\n",
       "Multiple R-squared:  0.2056,\tAdjusted R-squared:  0.1856 \n",
       "F-statistic: 10.26 on 3 and 119 DF,  p-value: 4.626e-06\n",
       "\n",
       "\n",
       "$pre_fev1\n",
       "\n",
       "Call:\n",
       "lm(formula = as.formula(paste(var, \"~ Group + age2 + bmi\")), \n",
       "    data = data_combined)\n",
       "\n",
       "Residuals:\n",
       "     Min       1Q   Median       3Q      Max \n",
       "-1.70750 -0.52350 -0.07644  0.48664  2.16883 \n",
       "\n",
       "Coefficients:\n",
       "            Estimate Std. Error t value Pr(>|t|)    \n",
       "(Intercept)  4.93068    0.49596   9.942  < 2e-16 ***\n",
       "Group1       0.52405    0.16891   3.103  0.00240 ** \n",
       "age2        -0.03121    0.01004  -3.107  0.00236 ** \n",
       "bmi         -0.01865    0.01827  -1.021  0.30951    \n",
       "---\n",
       "Signif. codes:  0 '***' 0.001 '**' 0.01 '*' 0.05 '.' 0.1 ' ' 1\n",
       "\n",
       "Residual standard error: 0.8654 on 119 degrees of freedom\n",
       "Multiple R-squared:  0.1865,\tAdjusted R-squared:  0.166 \n",
       "F-statistic: 9.094 on 3 and 119 DF,  p-value: 1.816e-05\n",
       "\n",
       "\n",
       "$pre_fvc\n",
       "\n",
       "Call:\n",
       "lm(formula = as.formula(paste(var, \"~ Group + age2 + bmi\")), \n",
       "    data = data_combined)\n",
       "\n",
       "Residuals:\n",
       "    Min      1Q  Median      3Q     Max \n",
       "-2.1145 -0.8302 -0.1907  0.6894  2.6951 \n",
       "\n",
       "Coefficients:\n",
       "             Estimate Std. Error t value Pr(>|t|)    \n",
       "(Intercept)  5.111697   0.612249   8.349 1.44e-13 ***\n",
       "Group1       0.763878   0.208515   3.663 0.000373 ***\n",
       "age2        -0.029070   0.012400  -2.344 0.020716 *  \n",
       "bmi          0.002823   0.022554   0.125 0.900598    \n",
       "---\n",
       "Signif. codes:  0 '***' 0.001 '**' 0.01 '*' 0.05 '.' 0.1 ' ' 1\n",
       "\n",
       "Residual standard error: 1.068 on 119 degrees of freedom\n",
       "Multiple R-squared:  0.1544,\tAdjusted R-squared:  0.1331 \n",
       "F-statistic: 7.243 on 3 and 119 DF,  p-value: 0.0001664\n",
       "\n",
       "\n",
       "$pre_fvc_pp_gli\n",
       "\n",
       "Call:\n",
       "lm(formula = as.formula(paste(var, \"~ Group + age2 + bmi\")), \n",
       "    data = data_combined)\n",
       "\n",
       "Residuals:\n",
       "   Min     1Q Median     3Q    Max \n",
       "-34.86 -11.35  -0.99  10.07  42.42 \n",
       "\n",
       "Coefficients:\n",
       "            Estimate Std. Error t value Pr(>|t|)    \n",
       "(Intercept) 127.1703     8.5823  14.818  < 2e-16 ***\n",
       "Group1       10.2044     2.9229   3.491 0.000675 ***\n",
       "age2         -0.2655     0.1738  -1.528 0.129232    \n",
       "bmi          -0.5086     0.3162  -1.609 0.110353    \n",
       "---\n",
       "Signif. codes:  0 '***' 0.001 '**' 0.01 '*' 0.05 '.' 0.1 ' ' 1\n",
       "\n",
       "Residual standard error: 14.98 on 119 degrees of freedom\n",
       "Multiple R-squared:  0.1562,\tAdjusted R-squared:  0.135 \n",
       "F-statistic: 7.345 on 3 and 119 DF,  p-value: 0.000147\n",
       "\n",
       "\n",
       "$post_fev1_pp_gli\n",
       "\n",
       "Call:\n",
       "lm(formula = as.formula(paste(var, \"~ Group + age2 + bmi\")), \n",
       "    data = data_combined)\n",
       "\n",
       "Residuals:\n",
       "    Min      1Q  Median      3Q     Max \n",
       "-50.759  -9.473   2.206  10.856  37.401 \n",
       "\n",
       "Coefficients:\n",
       "            Estimate Std. Error t value Pr(>|t|)    \n",
       "(Intercept) 141.2936     9.2269  15.313  < 2e-16 ***\n",
       "Group1        8.1486     3.1415   2.594 0.010713 *  \n",
       "age2         -0.1254     0.1852  -0.677 0.499844    \n",
       "bmi          -1.2148     0.3511  -3.460 0.000756 ***\n",
       "---\n",
       "Signif. codes:  0 '***' 0.001 '**' 0.01 '*' 0.05 '.' 0.1 ' ' 1\n",
       "\n",
       "Residual standard error: 15.78 on 116 degrees of freedom\n",
       "  (3 observations deleted due to missingness)\n",
       "Multiple R-squared:  0.1692,\tAdjusted R-squared:  0.1478 \n",
       "F-statistic: 7.877 on 3 and 116 DF,  p-value: 7.902e-05\n",
       "\n",
       "\n",
       "$post_fev1\n",
       "\n",
       "Call:\n",
       "lm(formula = as.formula(paste(var, \"~ Group + age2 + bmi\")), \n",
       "    data = data_combined)\n",
       "\n",
       "Residuals:\n",
       "     Min       1Q   Median       3Q      Max \n",
       "-2.47700 -0.64662 -0.04601  0.50240  2.15075 \n",
       "\n",
       "Coefficients:\n",
       "            Estimate Std. Error t value Pr(>|t|)    \n",
       "(Intercept)  5.21174    0.53269   9.784  < 2e-16 ***\n",
       "Group1       0.58716    0.18136   3.237  0.00157 ** \n",
       "age2        -0.03087    0.01069  -2.887  0.00464 ** \n",
       "bmi         -0.02487    0.02027  -1.227  0.22229    \n",
       "---\n",
       "Signif. codes:  0 '***' 0.001 '**' 0.01 '*' 0.05 '.' 0.1 ' ' 1\n",
       "\n",
       "Residual standard error: 0.9108 on 116 degrees of freedom\n",
       "  (3 observations deleted due to missingness)\n",
       "Multiple R-squared:  0.1906,\tAdjusted R-squared:  0.1696 \n",
       "F-statistic: 9.104 on 3 and 116 DF,  p-value: 1.845e-05\n",
       "\n",
       "\n",
       "$post_fvc\n",
       "\n",
       "Call:\n",
       "lm(formula = as.formula(paste(var, \"~ Group + age2 + bmi\")), \n",
       "    data = data_combined)\n",
       "\n",
       "Residuals:\n",
       "     Min       1Q   Median       3Q      Max \n",
       "-2.30605 -0.82315 -0.09299  0.65283  2.88327 \n",
       "\n",
       "Coefficients:\n",
       "             Estimate Std. Error t value Pr(>|t|)    \n",
       "(Intercept)  5.080281   0.636040   7.987 1.12e-12 ***\n",
       "Group1       0.729584   0.216553   3.369  0.00102 ** \n",
       "age2        -0.030156   0.012767  -2.362  0.01984 *  \n",
       "bmi          0.007256   0.024201   0.300  0.76487    \n",
       "---\n",
       "Signif. codes:  0 '***' 0.001 '**' 0.01 '*' 0.05 '.' 0.1 ' ' 1\n",
       "\n",
       "Residual standard error: 1.087 on 116 degrees of freedom\n",
       "  (3 observations deleted due to missingness)\n",
       "Multiple R-squared:  0.1438,\tAdjusted R-squared:  0.1217 \n",
       "F-statistic: 6.496 on 3 and 116 DF,  p-value: 0.0004216\n",
       "\n",
       "\n",
       "$post_fvc_pp_gli\n",
       "\n",
       "Call:\n",
       "lm(formula = as.formula(paste(var, \"~ Group + age2 + bmi\")), \n",
       "    data = data_combined)\n",
       "\n",
       "Residuals:\n",
       "    Min      1Q  Median      3Q     Max \n",
       "-34.226  -9.919  -0.578  10.167  41.511 \n",
       "\n",
       "Coefficients:\n",
       "            Estimate Std. Error t value Pr(>|t|)    \n",
       "(Intercept) 127.6233     8.7336  14.613  < 2e-16 ***\n",
       "Group1        8.9909     2.9735   3.024  0.00307 ** \n",
       "age2         -0.2886     0.1753  -1.646  0.10245    \n",
       "bmi          -0.4439     0.3323  -1.336  0.18421    \n",
       "---\n",
       "Signif. codes:  0 '***' 0.001 '**' 0.01 '*' 0.05 '.' 0.1 ' ' 1\n",
       "\n",
       "Residual standard error: 14.93 on 116 degrees of freedom\n",
       "  (3 observations deleted due to missingness)\n",
       "Multiple R-squared:  0.1318,\tAdjusted R-squared:  0.1093 \n",
       "F-statistic: 5.869 on 3 and 116 DF,  p-value: 0.0009113\n",
       "\n"
      ]
     },
     "metadata": {},
     "output_type": "display_data"
    }
   ],
   "source": [
    "pft_vars <- c(\"pre_fev1_fvc\", \"pre_fev1\", \"pre_fvc\", \"pre_fvc_pp_gli\", \n",
    "              \"post_fev1_pp_gli\", \"post_fev1\", \"post_fvc\", \"post_fvc_pp_gli\")\n",
    "\n",
    "pft_models <- lapply(pft_vars, function(var) {\n",
    "  model <- lm(as.formula(paste(var, \"~ Group + age2 + bmi\")), data = data_combined)\n",
    "  return(summary(model))\n",
    "})\n",
    "\n",
    "# Display results for each model\n",
    "names(pft_models) <- pft_vars\n",
    "pft_models"
   ]
  },
  {
   "cell_type": "markdown",
   "id": "f0473668-c53c-46df-a851-ea29fd3fea31",
   "metadata": {},
   "source": [
    "- Smoking lowers FEV1/FVC, but the effect is not statistically significant.\n",
    "- Unexpected: Smokers have a higher FEV1 after adjustment.\n",
    "- Unexpected: Smokers have a higher FVC after adjustment.\n",
    "- Smokers have a higher predicted FVC % after adjustment.\n",
    "- Unexpected: Smokers have a higher FEV1 after bronchodilator.\n",
    "- Smokers have a higher FVC after bronchodilator.\n",
    "- Smokers have a higher post-bronchodilator FVC % predicted after adjustment.\n",
    "- Smokers have a higher post FEV1 % predicted after bronchodilator.\n",
    "\n",
    "=> Insight 1: Smoking impairs lung function even in early stages. Airflow limitation (FEV1 and FVC) is reduced, but gas exchange (DLCO) is still preserved. This is consistent with early obstructive lung disease seen in smokers.\n",
    "\n",
    "- Lower FEV1 in smokers: Smoking reduces airway diameter, leading to airflow obstruction.\n",
    "- Lower FVC in smokers:\tSmoking causes lung inflammation & early lung remodeling, reducing total lung volume.\n",
    "- Lower FEV1/FVC in smokers: Indicates early airflow limitation, a hallmark of COPD development.\n",
    "\n",
    "- The statistically significant reduction in FEV1, FVC, and FEV1/FVC supports well-documented effects of smoking. Even in a relatively healthy smoker cohort, lung function is already showing decline.\n",
    "- Since DLCO is unaffected, this suggests smokers are still in early disease stages. If these trends continue, chronic airway remodeling and emphysema will develop => the need for early smoking cessation interventions."
   ]
  },
  {
   "cell_type": "markdown",
   "id": "da0e7b20-37c7-4f1d-a185-aa46ea545a27",
   "metadata": {},
   "source": [
    "- Pre-FEV1 and Pre-FVC are significantly different between groups (p < 0.01) → This suggests that exposure is independently associated with reduced lung function.\n",
    "- Post-FEV1 and Post-FVC are also significantly different between groups (p < 0.01) → Reinforcing that exposure affects lung function after testing.\n",
    "- BMI was significant in some models (e.g., post_FEV1_pp_gli, pre_fev1_fvc) → Suggests BMI may influence lung function independently.\n",
    "- Age was significant in multiple models (e.g., pre_fev1, post_fev1) → Meaning lung function naturally declines with age."
   ]
  },
  {
   "cell_type": "code",
   "execution_count": 74,
   "id": "b71380d6-d209-4b3c-8e47-22c2786c794a",
   "metadata": {},
   "outputs": [
    {
     "data": {
      "text/plain": [
       "\n",
       "Call:\n",
       "lm(formula = SGRQ_Total_score ~ Group + age2 + bmi, data = data_combined)\n",
       "\n",
       "Residuals:\n",
       "    Min      1Q  Median      3Q     Max \n",
       "-17.606  -7.298  -2.415   3.695  51.742 \n",
       "\n",
       "Coefficients:\n",
       "            Estimate Std. Error t value Pr(>|t|)   \n",
       "(Intercept) -10.4979     7.0358  -1.492  0.13835   \n",
       "Group1        7.0696     2.3961   2.950  0.00383 **\n",
       "age2          0.1158     0.1423   0.814  0.41734   \n",
       "bmi           0.5718     0.2590   2.208  0.02918 * \n",
       "---\n",
       "Signif. codes:  0 '***' 0.001 '**' 0.01 '*' 0.05 '.' 0.1 ' ' 1\n",
       "\n",
       "Residual standard error: 12.26 on 118 degrees of freedom\n",
       "  (1 observation deleted due to missingness)\n",
       "Multiple R-squared:  0.1124,\tAdjusted R-squared:  0.08984 \n",
       "F-statistic: 4.981 on 3 and 118 DF,  p-value: 0.002734\n"
      ]
     },
     "metadata": {},
     "output_type": "display_data"
    }
   ],
   "source": [
    "sg_model <- lm(SGRQ_Total_score ~ Group + age2 + bmi, data = data_combined)\n",
    "summary(sg_model)"
   ]
  },
  {
   "cell_type": "markdown",
   "id": "0ea9eca4-5635-423d-9532-b1a9449cfbdb",
   "metadata": {},
   "source": [
    "- The exposure group has significantly worse symptom scores, suggesting real-world respiratory burden even if some lung function measures remain within normal limits.\n",
    "- BMI is an independent predictor → Suggests that weight management might be an important factor in respiratory health.\n",
    "- Age does not significantly impact symptom scores, unlike lung function measures (e.g., FEV1)."
   ]
  },
  {
   "cell_type": "code",
   "execution_count": 77,
   "id": "ddf1d600-995e-460f-9c16-c0287d66a36a",
   "metadata": {},
   "outputs": [
    {
     "name": "stderr",
     "output_type": "stream",
     "text": [
      "Warning message:\n",
      "\"\u001b[1m\u001b[22mRemoved 1 row containing non-finite outside the scale range (`stat_boxplot()`).\"\n"
     ]
    },
    {
     "data": {
      "image/png": "[encoded data removed]",
      "text/plain": [
       "plot without title"
      ]
     },
     "metadata": {
      "image/png": {
       "height": 420,
       "width": 420
      }
     },
     "output_type": "display_data"
    }
   ],
   "source": [
    "library(ggplot2)\n",
    "\n",
    "ggplot(data_combined, aes(x = Group, y = SGRQ_Total_score, fill = Group)) +\n",
    "  geom_boxplot() +\n",
    "  theme_minimal() +\n",
    "  ggtitle(\"SGRQ Total Score Across Groups\") +\n",
    "  xlab(\"Group\") +\n",
    "  ylab(\"SGRQ Total Score\")\n"
   ]
  },
  {
   "cell_type": "code",
   "execution_count": 78,
   "id": "b0307748-e1c9-4102-b64f-b5391e779811",
   "metadata": {},
   "outputs": [
    {
     "data": {
      "text/plain": [
       "\n",
       "Call:\n",
       "lm(formula = SGRQ_Total_score ~ Group * bmi + age2, data = data_combined)\n",
       "\n",
       "Residuals:\n",
       "    Min      1Q  Median      3Q     Max \n",
       "-15.743  -7.684  -1.521   3.876  52.925 \n",
       "\n",
       "Coefficients:\n",
       "            Estimate Std. Error t value Pr(>|t|)   \n",
       "(Intercept) -29.6198    10.7334  -2.760  0.00672 **\n",
       "Group1       36.9779    13.0628   2.831  0.00547 **\n",
       "bmi           1.3163     0.4086   3.222  0.00165 **\n",
       "age2          0.1081     0.1398   0.773  0.44081   \n",
       "Group1:bmi   -1.1608     0.4987  -2.328  0.02165 * \n",
       "---\n",
       "Signif. codes:  0 '***' 0.001 '**' 0.01 '*' 0.05 '.' 0.1 ' ' 1\n",
       "\n",
       "Residual standard error: 12.04 on 117 degrees of freedom\n",
       "  (1 observation deleted due to missingness)\n",
       "Multiple R-squared:  0.1517,\tAdjusted R-squared:  0.1227 \n",
       "F-statistic:  5.23 on 4 and 117 DF,  p-value: 0.000653\n"
      ]
     },
     "metadata": {},
     "output_type": "display_data"
    }
   ],
   "source": [
    "interaction_model <- lm(SGRQ_Total_score ~ Group * bmi + age2, data = data_combined)\n",
    "summary(interaction_model)"
   ]
  },
  {
   "cell_type": "markdown",
   "id": "3d2ab17d-6144-4e37-b910-958b0c57861e",
   "metadata": {},
   "source": [
    "- Exposure group has worse respiratory symptoms.\n",
    "- BMI is positively associated with symptoms, but the effect of exposure is weaker at higher BMI."
   ]
  },
  {
   "cell_type": "code",
   "execution_count": 75,
   "id": "6c6f0f2c-0d45-4832-9d1a-b6c97c8e60b9",
   "metadata": {},
   "outputs": [
    {
     "data": {
      "text/plain": [
       "\n",
       "Call:\n",
       "lm(formula = pre_fev1 ~ Group * age2 + bmi, data = data_combined)\n",
       "\n",
       "Residuals:\n",
       "     Min       1Q   Median       3Q      Max \n",
       "-1.63855 -0.61392 -0.09491  0.43042  2.22387 \n",
       "\n",
       "Coefficients:\n",
       "            Estimate Std. Error t value Pr(>|t|)    \n",
       "(Intercept)  5.52160    0.62633   8.816 1.24e-14 ***\n",
       "Group1      -0.40666    0.63085  -0.645  0.52043    \n",
       "age2        -0.05004    0.01585  -3.157  0.00202 ** \n",
       "bmi         -0.01821    0.01817  -1.002  0.31827    \n",
       "Group1:age2  0.02982    0.01948   1.531  0.12856    \n",
       "---\n",
       "Signif. codes:  0 '***' 0.001 '**' 0.01 '*' 0.05 '.' 0.1 ' ' 1\n",
       "\n",
       "Residual standard error: 0.8606 on 118 degrees of freedom\n",
       "Multiple R-squared:  0.2023,\tAdjusted R-squared:  0.1753 \n",
       "F-statistic: 7.483 on 4 and 118 DF,  p-value: 2.086e-05\n"
      ]
     },
     "metadata": {},
     "output_type": "display_data"
    }
   ],
   "source": [
    "interaction_model <- lm(pre_fev1 ~ Group * age2 + bmi, data = data_combined)\n",
    "summary(interaction_model)\n"
   ]
  },
  {
   "cell_type": "markdown",
   "id": "3be1f86e-6891-4e91-aeb7-1cbf9f26d1b0",
   "metadata": {},
   "source": [
    "Age is significant (Estimate = -0.05004, p = 0.00202) → Older age is associated with a decrease in FEV1, which is expected since lung function naturally declines with age.\n",
    "BMI is not significant (p = 0.31827) → BMI does not seem to strongly influence pre-FEV1."
   ]
  },
  {
   "cell_type": "code",
   "execution_count": 79,
   "id": "1d685d04-435f-4946-9b98-5d14eaa953a0",
   "metadata": {},
   "outputs": [
    {
     "data": {
      "text/plain": [
       "\n",
       "Call:\n",
       "lm(formula = post_fev1 ~ Group * age2 + bmi, data = data_combined)\n",
       "\n",
       "Residuals:\n",
       "    Min      1Q  Median      3Q     Max \n",
       "-2.4165 -0.6661 -0.1366  0.4630  2.2003 \n",
       "\n",
       "Coefficients:\n",
       "            Estimate Std. Error t value Pr(>|t|)    \n",
       "(Intercept)  5.75839    0.67145   8.576 5.28e-14 ***\n",
       "Group1      -0.26824    0.66813  -0.401  0.68881    \n",
       "age2        -0.04806    0.01675  -2.868  0.00491 ** \n",
       "bmi         -0.02477    0.02020  -1.226  0.22268    \n",
       "Group1:age2  0.02746    0.02065   1.330  0.18619    \n",
       "---\n",
       "Signif. codes:  0 '***' 0.001 '**' 0.01 '*' 0.05 '.' 0.1 ' ' 1\n",
       "\n",
       "Residual standard error: 0.9078 on 115 degrees of freedom\n",
       "  (3 observations deleted due to missingness)\n",
       "Multiple R-squared:  0.2028,\tAdjusted R-squared:  0.1751 \n",
       "F-statistic: 7.315 on 4 and 115 DF,  p-value: 2.764e-05\n"
      ]
     },
     "metadata": {},
     "output_type": "display_data"
    }
   ],
   "source": [
    "interaction_model_post <- lm(post_fev1 ~ Group * age2 + bmi, data = data_combined)\n",
    "summary(interaction_model_post)"
   ]
  },
  {
   "cell_type": "markdown",
   "id": "8c523625-f069-4c8c-af5c-eedfeb3ad7cd",
   "metadata": {},
   "source": [
    "1. SGRQ_Total_score is the only significant predictor\n",
    "- This suggests self-reported symptoms (SGRQ) are more effective at identifying exposure than lung function measures.\n",
    "- Possible explanation: Early lung function impairment may be subtle and not detectable via standard pulmonary function tests (PFTs).\n",
    "\n",
    "2. Lung function measures do not significantly predict exposure group status\n",
    "- Despite FEV1/FVC, FEV1, and FVC showing some differences in previous models, they do not independently classify exposure status."
   ]
  },
  {
   "cell_type": "code",
   "execution_count": 80,
   "id": "57e9325a-0a38-46bc-8320-d5df0424b5f2",
   "metadata": {},
   "outputs": [
    {
     "data": {
      "text/plain": [
       "\n",
       "Call:\n",
       "lm(formula = pre_fvc ~ Group * age2 + bmi, data = data_combined)\n",
       "\n",
       "Residuals:\n",
       "    Min      1Q  Median      3Q     Max \n",
       "-2.0468 -0.8352 -0.0362  0.7359  2.8619 \n",
       "\n",
       "Coefficients:\n",
       "             Estimate Std. Error t value Pr(>|t|)    \n",
       "(Intercept)  5.691994   0.776006   7.335 3.05e-11 ***\n",
       "Group1      -0.150090   0.781610  -0.192   0.8481    \n",
       "age2        -0.047567   0.019637  -2.422   0.0169 *  \n",
       "bmi          0.003251   0.022512   0.144   0.8854    \n",
       "Group1:age2  0.029284   0.024139   1.213   0.2275    \n",
       "---\n",
       "Signif. codes:  0 '***' 0.001 '**' 0.01 '*' 0.05 '.' 0.1 ' ' 1\n",
       "\n",
       "Residual standard error: 1.066 on 118 degrees of freedom\n",
       "Multiple R-squared:  0.1648,\tAdjusted R-squared:  0.1365 \n",
       "F-statistic: 5.822 on 4 and 118 DF,  p-value: 0.0002601\n"
      ]
     },
     "metadata": {},
     "output_type": "display_data"
    },
    {
     "data": {
      "text/plain": [
       "\n",
       "Call:\n",
       "lm(formula = pre_fev1_fvc ~ Group * age2 + bmi, data = data_combined)\n",
       "\n",
       "Residuals:\n",
       "     Min       1Q   Median       3Q      Max \n",
       "-21.3454  -4.1310   0.7364   4.6818  18.3251 \n",
       "\n",
       "Coefficients:\n",
       "            Estimate Std. Error t value Pr(>|t|)    \n",
       "(Intercept) 106.2946     4.9677  21.397  < 2e-16 ***\n",
       "Group1       -9.6290     5.0036  -1.924 0.056708 .  \n",
       "age2         -0.3538     0.1257  -2.815 0.005724 ** \n",
       "bmi          -0.5346     0.1441  -3.709 0.000318 ***\n",
       "Group1:age2   0.2411     0.1545   1.560 0.121409    \n",
       "---\n",
       "Signif. codes:  0 '***' 0.001 '**' 0.01 '*' 0.05 '.' 0.1 ' ' 1\n",
       "\n",
       "Residual standard error: 6.826 on 118 degrees of freedom\n",
       "Multiple R-squared:  0.2216,\tAdjusted R-squared:  0.1953 \n",
       "F-statistic:   8.4 on 4 and 118 DF,  p-value: 5.349e-06\n"
      ]
     },
     "metadata": {},
     "output_type": "display_data"
    }
   ],
   "source": [
    "fvc_model <- lm(pre_fvc ~ Group * age2 + bmi, data = data_combined)\n",
    "summary(fvc_model)\n",
    "\n",
    "fev1_fvc_model <- lm(pre_fev1_fvc ~ Group * age2 + bmi, data = data_combined)\n",
    "summary(fev1_fvc_model)\n"
   ]
  },
  {
   "cell_type": "markdown",
   "id": "fd15f6dc-56cb-4283-b313-8e831c812884",
   "metadata": {},
   "source": [
    "- Age significantly reduces FEV1/FVC and FVC.\n",
    "- Higher BMI is linked to lower FEV1/FVC (potential restrictive lung effects).\n",
    "- Exposure MAY lower FEV1/FVC, but it's borderline significant (p = 0.0567).\n",
    "- No evidence that the effect of age on lung function differs by exposure group."
   ]
  },
  {
   "cell_type": "code",
   "execution_count": 76,
   "id": "b84cf16f-5145-4192-8be6-418c5298778e",
   "metadata": {},
   "outputs": [
    {
     "data": {
      "text/plain": [
       "\n",
       "Call:\n",
       "glm(formula = Group ~ pre_fev1_fvc + pre_fev1 + pre_fvc + rbc_mean + \n",
       "    SGRQ_Total_score, family = binomial, data = data_combined)\n",
       "\n",
       "Coefficients:\n",
       "                  Estimate Std. Error z value Pr(>|z|)   \n",
       "(Intercept)       -9.32853   11.26957  -0.828  0.40781   \n",
       "pre_fev1_fvc       0.06248    0.13789   0.453  0.65048   \n",
       "pre_fev1          -0.94813    3.22839  -0.294  0.76900   \n",
       "pre_fvc            1.60488    2.52967   0.634  0.52581   \n",
       "rbc_mean          53.17730  234.90920   0.226  0.82091   \n",
       "SGRQ_Total_score   0.08189    0.02803   2.921  0.00349 **\n",
       "---\n",
       "Signif. codes:  0 '***' 0.001 '**' 0.01 '*' 0.05 '.' 0.1 ' ' 1\n",
       "\n",
       "(Dispersion parameter for binomial family taken to be 1)\n",
       "\n",
       "    Null deviance: 152.90  on 121  degrees of freedom\n",
       "Residual deviance: 125.51  on 116  degrees of freedom\n",
       "  (1 observation deleted due to missingness)\n",
       "AIC: 137.51\n",
       "\n",
       "Number of Fisher Scoring iterations: 5\n"
      ]
     },
     "metadata": {},
     "output_type": "display_data"
    }
   ],
   "source": [
    "model_logit <- glm(Group ~ pre_fev1_fvc + pre_fev1 + pre_fvc + rbc_mean + SGRQ_Total_score,\n",
    "                   data = data_combined, family = binomial)\n",
    "summary(model_logit)\n"
   ]
  },
  {
   "cell_type": "markdown",
   "id": "9eea78d7-e9f4-4a75-b3d8-25e8e5062d74",
   "metadata": {},
   "source": [
    "1. SGRQ_Total_score is the strongest predictor of exposure\n",
    "- This suggests self-reported symptoms (SGRQ) are more effective at identifying exposure than lung function measures.\n",
    "- Possible explanation: Early lung function impairment may be subtle and not detectable via standard pulmonary function tests (PFTs).\n",
    "\n",
    "2. Lung function measures do not significantly predict exposure group status\n",
    "- Despite FEV1/FVC, FEV1, and FVC showing some differences in previous models, they do not independently classify exposure status."
   ]
  },
  {
   "cell_type": "code",
   "execution_count": 85,
   "id": "588652e4-2424-4572-97de-e86f97f2ab8e",
   "metadata": {},
   "outputs": [
    {
     "data": {
      "text/plain": [
       "\n",
       "Call:\n",
       "glm(formula = Group ~ pre_fev1_fvc + pre_fev1 + pre_fvc + rbc_mean + \n",
       "    SGRQ_Total_score, family = binomial, data = data_combined)\n",
       "\n",
       "Coefficients:\n",
       "                  Estimate Std. Error z value Pr(>|z|)   \n",
       "(Intercept)       -9.32853   11.26957  -0.828  0.40781   \n",
       "pre_fev1_fvc       0.06248    0.13789   0.453  0.65048   \n",
       "pre_fev1          -0.94813    3.22839  -0.294  0.76900   \n",
       "pre_fvc            1.60488    2.52967   0.634  0.52581   \n",
       "rbc_mean          53.17730  234.90920   0.226  0.82091   \n",
       "SGRQ_Total_score   0.08189    0.02803   2.921  0.00349 **\n",
       "---\n",
       "Signif. codes:  0 '***' 0.001 '**' 0.01 '*' 0.05 '.' 0.1 ' ' 1\n",
       "\n",
       "(Dispersion parameter for binomial family taken to be 1)\n",
       "\n",
       "    Null deviance: 152.90  on 121  degrees of freedom\n",
       "Residual deviance: 125.51  on 116  degrees of freedom\n",
       "  (1 observation deleted due to missingness)\n",
       "AIC: 137.51\n",
       "\n",
       "Number of Fisher Scoring iterations: 5\n"
      ]
     },
     "metadata": {},
     "output_type": "display_data"
    }
   ],
   "source": [
    "model_logit <- glm(Group ~ pre_fev1_fvc + pre_fev1 + pre_fvc + rbc_mean + SGRQ_Total_score,\n",
    "                   data = data_combined, family = binomial)\n",
    "summary(model_logit)\n"
   ]
  },
  {
   "cell_type": "code",
   "execution_count": 86,
   "id": "a06b9c1d-36a4-4c38-b375-e4b318924d6d",
   "metadata": {},
   "outputs": [
    {
     "data": {
      "text/plain": [
       "\n",
       "Call:\n",
       "glm(formula = Group ~ SGRQ_Total_score, family = binomial, data = data_combined)\n",
       "\n",
       "Coefficients:\n",
       "                 Estimate Std. Error z value Pr(>|z|)  \n",
       "(Intercept)       0.13880    0.29383   0.472   0.6367  \n",
       "SGRQ_Total_score  0.05781    0.02365   2.444   0.0145 *\n",
       "---\n",
       "Signif. codes:  0 '***' 0.001 '**' 0.01 '*' 0.05 '.' 0.1 ' ' 1\n",
       "\n",
       "(Dispersion parameter for binomial family taken to be 1)\n",
       "\n",
       "    Null deviance: 152.90  on 121  degrees of freedom\n",
       "Residual deviance: 144.48  on 120  degrees of freedom\n",
       "  (1 observation deleted due to missingness)\n",
       "AIC: 148.48\n",
       "\n",
       "Number of Fisher Scoring iterations: 4\n"
      ]
     },
     "metadata": {},
     "output_type": "display_data"
    }
   ],
   "source": [
    "model_simple <- glm(Group ~ SGRQ_Total_score, data = data_combined, family = binomial)\n",
    "summary(model_simple)\n"
   ]
  },
  {
   "cell_type": "markdown",
   "id": "6786d7f2-147a-478e-991b-38d0d3591e7e",
   "metadata": {},
   "source": [
    "- SGRQ_Total_score is the strongest predictor of exposure.\n",
    "- Adding lung function variables (FEV1, FVC) does not improve classification much."
   ]
  },
  {
   "cell_type": "code",
   "execution_count": 64,
   "id": "fb30d449-7a1b-4888-b54b-c58686b7a167",
   "metadata": {},
   "outputs": [
    {
     "name": "stderr",
     "output_type": "stream",
     "text": [
      "\u001b[1m\u001b[22m`geom_smooth()` using formula = 'y ~ x'\n",
      "Warning message:\n",
      "\"\u001b[1m\u001b[22mRemoved 104 rows containing non-finite outside the scale range (`stat_smooth()`).\"\n",
      "Warning message:\n",
      "\"\u001b[1m\u001b[22mRemoved 104 rows containing missing values or values outside the scale range (`geom_point()`).\"\n"
     ]
    },
    {
     "data": {
      "image/png": "[encoded data removed]",
      "text/plain": [
       "plot without title"
      ]
     },
     "metadata": {
      "image/png": {
       "height": 420,
       "width": 420
      }
     },
     "output_type": "display_data"
    }
   ],
   "source": [
    "ggplot(data_combined, aes(x = packyear, y = pre_fev1)) +\n",
    "  geom_point() +\n",
    "  geom_smooth(method = \"lm\") +\n",
    "  labs(title = \"FEV1 Decline vs. Smoking Exposure\", x = \"Pack-Years\", y = \"FEV1\")\n"
   ]
  },
  {
   "cell_type": "markdown",
   "id": "32db5c38-be72-491e-aafc-dc06fd281148",
   "metadata": {},
   "source": [
    "- The negative trend confirms that smoking exposure (pack-years) reduces lung function. However, the weak slope suggests a mild effect in your dataset.\n",
    "- The large number of removed values suggests that your dataset may not fully capture smoking exposure’s effect.\n",
    "- Since FEV1 varies widely at different pack-years, smoking may not be the only factor. Other influences like age, BMI, secondhand smoke, or exercise habits could play a role."
   ]
  },
  {
   "cell_type": "code",
   "execution_count": 65,
   "id": "ec956dab-dc5c-4f76-8f74-98a8ffe5fc5e",
   "metadata": {},
   "outputs": [
    {
     "data": {
      "text/plain": [
       "\n",
       "Call:\n",
       "lm(formula = pre_fev1 ~ packyear + age2 + bmi, data = data_combined)\n",
       "\n",
       "Coefficients:\n",
       "(Intercept)     packyear         age2          bmi  \n",
       "    3.39757     -0.04215      0.01572      0.01619  \n"
      ]
     },
     "metadata": {},
     "output_type": "display_data"
    }
   ],
   "source": [
    "lm(pre_fev1 ~ packyear + age2 + bmi, data = data_combined)"
   ]
  },
  {
   "cell_type": "code",
   "execution_count": 66,
   "id": "65e2cfad-a1d8-412d-8ec3-76ebf6b8beee",
   "metadata": {},
   "outputs": [
    {
     "data": {
      "image/png": "[encoded data removed]",
      "text/plain": [
       "plot without title"
      ]
     },
     "metadata": {
      "image/png": {
       "height": 420,
       "width": 420
      }
     },
     "output_type": "display_data"
    }
   ],
   "source": [
    "data_combined$smoking_group <- ifelse(data_combined$packyear < 5, \"Low\", \"High\")\n",
    "ggplot(data_combined, aes(x = smoking_group, y = pre_fev1)) +\n",
    "  geom_boxplot() +\n",
    "  labs(title = \"FEV1 in Low vs. High Smoking Exposure\", x = \"Smoking Exposure\", y = \"FEV1\")\n"
   ]
  },
  {
   "cell_type": "code",
   "execution_count": 67,
   "id": "62c03670-d3be-4b9f-8cae-f35b6f50f55d",
   "metadata": {},
   "outputs": [
    {
     "ename": "ERROR",
     "evalue": "Error in parse(text = input): <text>:1:14: unexpected symbol\n1: - Pack-years negatively\n                 ^\n",
     "output_type": "error",
     "traceback": [
      "Error in parse(text = input): <text>:1:14: unexpected symbol\n1: - Pack-years negatively\n                 ^\nTraceback:\n"
     ]
    }
   ],
   "source": [
    "- Pack-years negatively correlate with FEV1, supporting the dose-dependent effect of smoking.\n",
    "- High-exposure smokers tend to have lower FEV1, but variability suggests other influences."
   ]
  },
  {
   "cell_type": "code",
   "execution_count": 68,
   "id": "9b96a7fa-5568-4408-9778-8b7a64d8076d",
   "metadata": {},
   "outputs": [
    {
     "name": "stderr",
     "output_type": "stream",
     "text": [
      "Warning message in wilcox.test.default(x = DATA[[1L]], y = DATA[[2L]], ...):\n",
      "\"cannot compute exact p-value with ties\"\n"
     ]
    },
    {
     "data": {
      "text/plain": [
       "\n",
       "\tWilcoxon rank sum test with continuity correction\n",
       "\n",
       "data:  pre_fev1 by smoking_group\n",
       "W = 27, p-value = 0.8024\n",
       "alternative hypothesis: true location shift is not equal to 0\n"
      ]
     },
     "metadata": {},
     "output_type": "display_data"
    },
    {
     "name": "stderr",
     "output_type": "stream",
     "text": [
      "Warning message in wilcox.test.default(x = DATA[[1L]], y = DATA[[2L]], ...):\n",
      "\"cannot compute exact p-value with ties\"\n"
     ]
    },
    {
     "data": {
      "text/plain": [
       "\n",
       "\tWilcoxon rank sum test with continuity correction\n",
       "\n",
       "data:  pre_fvc by smoking_group\n",
       "W = 32.5, p-value = 0.8413\n",
       "alternative hypothesis: true location shift is not equal to 0\n"
      ]
     },
     "metadata": {},
     "output_type": "display_data"
    },
    {
     "name": "stderr",
     "output_type": "stream",
     "text": [
      "Warning message in wilcox.test.default(x = DATA[[1L]], y = DATA[[2L]], ...):\n",
      "\"cannot compute exact p-value with ties\"\n"
     ]
    },
    {
     "data": {
      "text/plain": [
       "\n",
       "\tWilcoxon rank sum test with continuity correction\n",
       "\n",
       "data:  pre_fev1_fvc by smoking_group\n",
       "W = 11.5, p-value = 0.07161\n",
       "alternative hypothesis: true location shift is not equal to 0\n"
      ]
     },
     "metadata": {},
     "output_type": "display_data"
    }
   ],
   "source": [
    "wilcox.test(pre_fev1 ~ smoking_group, data = data_combined)\n",
    "wilcox.test(pre_fvc ~ smoking_group, data = data_combined)\n",
    "wilcox.test(pre_fev1_fvc ~ smoking_group, data = data_combined)\n"
   ]
  },
  {
   "cell_type": "code",
   "execution_count": 71,
   "id": "bea1904e-2bc9-464c-8ce5-662b8c2678e1",
   "metadata": {},
   "outputs": [
    {
     "name": "stderr",
     "output_type": "stream",
     "text": [
      "Installing package into 'C:/Users/My Lan/AppData/Local/R/win-library/4.4'\n",
      "(as 'lib' is unspecified)\n",
      "\n",
      "also installing the dependency 'reshape2'\n",
      "\n",
      "\n"
     ]
    },
    {
     "name": "stdout",
     "output_type": "stream",
     "text": [
      "package 'reshape2' successfully unpacked and MD5 sums checked\n",
      "package 'ggcorrplot' successfully unpacked and MD5 sums checked\n",
      "\n",
      "The downloaded binary packages are in\n",
      "\tC:\\Users\\My Lan\\AppData\\Local\\Temp\\RtmpEpS1LQ\\downloaded_packages\n"
     ]
    }
   ],
   "source": [
    "install.packages(\"ggcorrplot\")"
   ]
  },
  {
   "cell_type": "code",
   "execution_count": 73,
   "id": "21fe677f-2fec-4cf6-a05a-416ccf99e38e",
   "metadata": {},
   "outputs": [
    {
     "data": {
      "image/png": "[encoded data removed]",
      "text/plain": [
       "plot without title"
      ]
     },
     "metadata": {
      "image/png": {
       "height": 420,
       "width": 420
      }
     },
     "output_type": "display_data"
    }
   ],
   "source": [
    "library(ggcorrplot)\n",
    "\n",
    "# Selecting significant variables\n",
    "cor_matrix <- cor(data_combined[, c(\"pre_fev1_fvc\", \"pre_fev1\", \"pre_fvc\", \"rbc_mean\", \"SGRQ_Total_score\")], use = \"complete.obs\")\n",
    "\n",
    "# Plot the correlation matrix\n",
    "ggcorrplot(cor_matrix, method = \"circle\", lab = TRUE, colors = c(\"blue\", \"white\", \"red\"))\n"
   ]
  },
  {
   "cell_type": "markdown",
   "id": "e6e9fdd5-472e-4b5b-a564-22eb0a4e08d4",
   "metadata": {},
   "source": [
    "- Pre-FEV1 and Pre-FVC are highly correlated (~0.93) → Expected since FEV1 and FVC are closely related lung function measures.\n",
    "- SGRQ_Total_Score negatively correlates with pre_FEV1_FVC (-0.28) → Suggests higher respiratory symptoms (SGRQ score) may be linked to worse lung function.\n",
    "- RBC_mean shows weak correlations with other variables, suggesting gas exchange measures might be less linked to these lung function variables."
   ]
  },
  {
   "cell_type": "code",
   "execution_count": 89,
   "id": "15db21d2-e747-47c2-a90b-b7dcbf4ec205",
   "metadata": {},
   "outputs": [
    {
     "data": {
      "text/html": [
       "<dl>\n",
       "\t<dt>$pre_fev1_fvc</dt>\n",
       "\t\t<dd><table class=\"dataframe\">\n",
       "<caption>A tibble: 5 × 5</caption>\n",
       "<thead>\n",
       "\t<tr><th scope=col>term</th><th scope=col>estimate</th><th scope=col>std.error</th><th scope=col>statistic</th><th scope=col>p.value</th></tr>\n",
       "\t<tr><th scope=col>&lt;chr&gt;</th><th scope=col>&lt;dbl&gt;</th><th scope=col>&lt;dbl&gt;</th><th scope=col>&lt;dbl&gt;</th><th scope=col>&lt;dbl&gt;</th></tr>\n",
       "</thead>\n",
       "<tbody>\n",
       "\t<tr><td>(Intercept)  </td><td>101.8157350</td><td>3.94825559</td><td>25.7875238</td><td>2.565205e-50</td></tr>\n",
       "\t<tr><td>`2Exposures`1</td><td> -1.8673368</td><td>1.36280286</td><td>-1.3702179</td><td>1.732202e-01</td></tr>\n",
       "\t<tr><td>age2         </td><td> -0.2024081</td><td>0.07972516</td><td>-2.5388229</td><td>1.242409e-02</td></tr>\n",
       "\t<tr><td>bmi          </td><td> -0.5339942</td><td>0.14506255</td><td>-3.6811304</td><td>3.515114e-04</td></tr>\n",
       "\t<tr><td>sex2Male     </td><td> -1.2281925</td><td>1.26930105</td><td>-0.9676132</td><td>3.352166e-01</td></tr>\n",
       "</tbody>\n",
       "</table>\n",
       "</dd>\n",
       "\t<dt>$pre_fev1</dt>\n",
       "\t\t<dd><table class=\"dataframe\">\n",
       "<caption>A tibble: 5 × 5</caption>\n",
       "<thead>\n",
       "\t<tr><th scope=col>term</th><th scope=col>estimate</th><th scope=col>std.error</th><th scope=col>statistic</th><th scope=col>p.value</th></tr>\n",
       "\t<tr><th scope=col>&lt;chr&gt;</th><th scope=col>&lt;dbl&gt;</th><th scope=col>&lt;dbl&gt;</th><th scope=col>&lt;dbl&gt;</th><th scope=col>&lt;dbl&gt;</th></tr>\n",
       "</thead>\n",
       "<tbody>\n",
       "\t<tr><td>(Intercept)  </td><td> 4.67497831</td><td>0.39855486</td><td>11.729824</td><td>1.558051e-21</td></tr>\n",
       "\t<tr><td>`2Exposures`1</td><td> 0.32080310</td><td>0.13756751</td><td> 2.331968</td><td>2.139784e-02</td></tr>\n",
       "\t<tr><td>age2         </td><td>-0.03047345</td><td>0.00804782</td><td>-3.786547</td><td>2.417778e-04</td></tr>\n",
       "\t<tr><td>bmi          </td><td>-0.02216216</td><td>0.01464327</td><td>-1.513470</td><td>1.328341e-01</td></tr>\n",
       "\t<tr><td>sex2Male     </td><td> 1.05194134</td><td>0.12812902</td><td> 8.210016</td><td>3.166881e-13</td></tr>\n",
       "</tbody>\n",
       "</table>\n",
       "</dd>\n",
       "\t<dt>$pre_fvc</dt>\n",
       "\t\t<dd><table class=\"dataframe\">\n",
       "<caption>A tibble: 5 × 5</caption>\n",
       "<thead>\n",
       "\t<tr><th scope=col>term</th><th scope=col>estimate</th><th scope=col>std.error</th><th scope=col>statistic</th><th scope=col>p.value</th></tr>\n",
       "\t<tr><th scope=col>&lt;chr&gt;</th><th scope=col>&lt;dbl&gt;</th><th scope=col>&lt;dbl&gt;</th><th scope=col>&lt;dbl&gt;</th><th scope=col>&lt;dbl&gt;</th></tr>\n",
       "</thead>\n",
       "<tbody>\n",
       "\t<tr><td>(Intercept)  </td><td> 4.782674630</td><td>0.479702592</td><td> 9.97008294</td><td>2.361785e-17</td></tr>\n",
       "\t<tr><td>`2Exposures`1</td><td> 0.502356494</td><td>0.165576937</td><td> 3.03397625</td><td>2.969072e-03</td></tr>\n",
       "\t<tr><td>age2         </td><td>-0.028124758</td><td>0.009686395</td><td>-2.90353196</td><td>4.405271e-03</td></tr>\n",
       "\t<tr><td>bmi          </td><td>-0.001700792</td><td>0.017624715</td><td>-0.09650039</td><td>9.232869e-01</td></tr>\n",
       "\t<tr><td>sex2Male     </td><td> 1.353582343</td><td>0.154216714</td><td> 8.77714424</td><td>1.532411e-14</td></tr>\n",
       "</tbody>\n",
       "</table>\n",
       "</dd>\n",
       "\t<dt>$pre_fvc_pp_gli</dt>\n",
       "\t\t<dd><table class=\"dataframe\">\n",
       "<caption>A tibble: 5 × 5</caption>\n",
       "<thead>\n",
       "\t<tr><th scope=col>term</th><th scope=col>estimate</th><th scope=col>std.error</th><th scope=col>statistic</th><th scope=col>p.value</th></tr>\n",
       "\t<tr><th scope=col>&lt;chr&gt;</th><th scope=col>&lt;dbl&gt;</th><th scope=col>&lt;dbl&gt;</th><th scope=col>&lt;dbl&gt;</th><th scope=col>&lt;dbl&gt;</th></tr>\n",
       "</thead>\n",
       "<tbody>\n",
       "\t<tr><td>(Intercept)  </td><td>127.9512958</td><td>8.5959239</td><td>14.885113</td><td>7.453313e-29</td></tr>\n",
       "\t<tr><td>`2Exposures`1</td><td> 10.8251455</td><td>2.9670191</td><td> 3.648492</td><td>3.941142e-04</td></tr>\n",
       "\t<tr><td>age2         </td><td> -0.2677935</td><td>0.1735732</td><td>-1.542827</td><td>1.255503e-01</td></tr>\n",
       "\t<tr><td>bmi          </td><td> -0.4978275</td><td>0.3158222</td><td>-1.576291</td><td>1.176361e-01</td></tr>\n",
       "\t<tr><td>sex2Male     </td><td> -3.2129523</td><td>2.7634521</td><td>-1.162659</td><td>2.473139e-01</td></tr>\n",
       "</tbody>\n",
       "</table>\n",
       "</dd>\n",
       "\t<dt>$post_fev1</dt>\n",
       "\t\t<dd><table class=\"dataframe\">\n",
       "<caption>A tibble: 5 × 5</caption>\n",
       "<thead>\n",
       "\t<tr><th scope=col>term</th><th scope=col>estimate</th><th scope=col>std.error</th><th scope=col>statistic</th><th scope=col>p.value</th></tr>\n",
       "\t<tr><th scope=col>&lt;chr&gt;</th><th scope=col>&lt;dbl&gt;</th><th scope=col>&lt;dbl&gt;</th><th scope=col>&lt;dbl&gt;</th><th scope=col>&lt;dbl&gt;</th></tr>\n",
       "</thead>\n",
       "<tbody>\n",
       "\t<tr><td>(Intercept)  </td><td> 4.95907328</td><td>0.430225845</td><td>11.526675</td><td>6.694573e-21</td></tr>\n",
       "\t<tr><td>`2Exposures`1</td><td> 0.37303079</td><td>0.148522085</td><td> 2.511618</td><td>1.340573e-02</td></tr>\n",
       "\t<tr><td>age2         </td><td>-0.02957231</td><td>0.008613751</td><td>-3.433151</td><td>8.301542e-04</td></tr>\n",
       "\t<tr><td>bmi          </td><td>-0.02939378</td><td>0.016335673</td><td>-1.799361</td><td>7.458390e-02</td></tr>\n",
       "\t<tr><td>sex2Male     </td><td> 1.09874564</td><td>0.137558896</td><td> 7.987456</td><td>1.166908e-12</td></tr>\n",
       "</tbody>\n",
       "</table>\n",
       "</dd>\n",
       "\t<dt>$post_fev1_pp_gli</dt>\n",
       "\t\t<dd><table class=\"dataframe\">\n",
       "<caption>A tibble: 5 × 5</caption>\n",
       "<thead>\n",
       "\t<tr><th scope=col>term</th><th scope=col>estimate</th><th scope=col>std.error</th><th scope=col>statistic</th><th scope=col>p.value</th></tr>\n",
       "\t<tr><th scope=col>&lt;chr&gt;</th><th scope=col>&lt;dbl&gt;</th><th scope=col>&lt;dbl&gt;</th><th scope=col>&lt;dbl&gt;</th><th scope=col>&lt;dbl&gt;</th></tr>\n",
       "</thead>\n",
       "<tbody>\n",
       "\t<tr><td>(Intercept)  </td><td>141.7806705</td><td>9.2715237</td><td>15.2920571</td><td>1.755111e-29</td></tr>\n",
       "\t<tr><td>`2Exposures`1</td><td>  8.5613445</td><td>3.2007051</td><td> 2.6748308</td><td>8.566635e-03</td></tr>\n",
       "\t<tr><td>age2         </td><td> -0.1278505</td><td>0.1856295</td><td>-0.6887402</td><td>4.923739e-01</td></tr>\n",
       "\t<tr><td>bmi          </td><td> -1.2060886</td><td>0.3520397</td><td>-3.4260017</td><td>8.502172e-04</td></tr>\n",
       "\t<tr><td>sex2Male     </td><td> -2.1178259</td><td>2.9644443</td><td>-0.7144091</td><td>4.764219e-01</td></tr>\n",
       "</tbody>\n",
       "</table>\n",
       "</dd>\n",
       "\t<dt>$post_fvc</dt>\n",
       "\t\t<dd><table class=\"dataframe\">\n",
       "<caption>A tibble: 5 × 5</caption>\n",
       "<thead>\n",
       "\t<tr><th scope=col>term</th><th scope=col>estimate</th><th scope=col>std.error</th><th scope=col>statistic</th><th scope=col>p.value</th></tr>\n",
       "\t<tr><th scope=col>&lt;chr&gt;</th><th scope=col>&lt;dbl&gt;</th><th scope=col>&lt;dbl&gt;</th><th scope=col>&lt;dbl&gt;</th><th scope=col>&lt;dbl&gt;</th></tr>\n",
       "</thead>\n",
       "<tbody>\n",
       "\t<tr><td>(Intercept)  </td><td> 4.767164068</td><td>0.50258170</td><td> 9.4853515</td><td>4.097510e-16</td></tr>\n",
       "\t<tr><td>`2Exposures`1</td><td> 0.464231939</td><td>0.17350069</td><td> 2.6756777</td><td>8.546309e-03</td></tr>\n",
       "\t<tr><td>age2         </td><td>-0.028553144</td><td>0.01006242</td><td>-2.8376018</td><td>5.374151e-03</td></tr>\n",
       "\t<tr><td>bmi          </td><td> 0.001650729</td><td>0.01908302</td><td> 0.0865025</td><td>9.312174e-01</td></tr>\n",
       "\t<tr><td>sex2Male     </td><td> 1.361599635</td><td>0.16069370</td><td> 8.4732607</td><td>9.098989e-14</td></tr>\n",
       "</tbody>\n",
       "</table>\n",
       "</dd>\n",
       "\t<dt>$post_fvc_pp_gli</dt>\n",
       "\t\t<dd><table class=\"dataframe\">\n",
       "<caption>A tibble: 5 × 5</caption>\n",
       "<thead>\n",
       "\t<tr><th scope=col>term</th><th scope=col>estimate</th><th scope=col>std.error</th><th scope=col>statistic</th><th scope=col>p.value</th></tr>\n",
       "\t<tr><th scope=col>&lt;chr&gt;</th><th scope=col>&lt;dbl&gt;</th><th scope=col>&lt;dbl&gt;</th><th scope=col>&lt;dbl&gt;</th><th scope=col>&lt;dbl&gt;</th></tr>\n",
       "</thead>\n",
       "<tbody>\n",
       "\t<tr><td>(Intercept)  </td><td>128.4661126</td><td>8.7301352</td><td>14.715249</td><td>3.316006e-28</td></tr>\n",
       "\t<tr><td>`2Exposures`1</td><td>  9.7052066</td><td>3.0138075</td><td> 3.220248</td><td>1.665397e-03</td></tr>\n",
       "\t<tr><td>age2         </td><td> -0.2928842</td><td>0.1747901</td><td>-1.675634</td><td>9.652688e-02</td></tr>\n",
       "\t<tr><td>bmi          </td><td> -0.4288390</td><td>0.3314832</td><td>-1.293698</td><td>1.983622e-01</td></tr>\n",
       "\t<tr><td>sex2Male     </td><td> -3.6650892</td><td>2.7913427</td><td>-1.313020</td><td>1.917902e-01</td></tr>\n",
       "</tbody>\n",
       "</table>\n",
       "</dd>\n",
       "</dl>\n"
      ],
      "text/latex": [
       "\\begin{description}\n",
       "\\item[\\$pre\\_fev1\\_fvc] A tibble: 5 × 5\n",
       "\\begin{tabular}{lllll}\n",
       " term & estimate & std.error & statistic & p.value\\\\\n",
       " <chr> & <dbl> & <dbl> & <dbl> & <dbl>\\\\\n",
       "\\hline\n",
       "\t (Intercept)   & 101.8157350 & 3.94825559 & 25.7875238 & 2.565205e-50\\\\\n",
       "\t `2Exposures`1 &  -1.8673368 & 1.36280286 & -1.3702179 & 1.732202e-01\\\\\n",
       "\t age2          &  -0.2024081 & 0.07972516 & -2.5388229 & 1.242409e-02\\\\\n",
       "\t bmi           &  -0.5339942 & 0.14506255 & -3.6811304 & 3.515114e-04\\\\\n",
       "\t sex2Male      &  -1.2281925 & 1.26930105 & -0.9676132 & 3.352166e-01\\\\\n",
       "\\end{tabular}\n",
       "\n",
       "\\item[\\$pre\\_fev1] A tibble: 5 × 5\n",
       "\\begin{tabular}{lllll}\n",
       " term & estimate & std.error & statistic & p.value\\\\\n",
       " <chr> & <dbl> & <dbl> & <dbl> & <dbl>\\\\\n",
       "\\hline\n",
       "\t (Intercept)   &  4.67497831 & 0.39855486 & 11.729824 & 1.558051e-21\\\\\n",
       "\t `2Exposures`1 &  0.32080310 & 0.13756751 &  2.331968 & 2.139784e-02\\\\\n",
       "\t age2          & -0.03047345 & 0.00804782 & -3.786547 & 2.417778e-04\\\\\n",
       "\t bmi           & -0.02216216 & 0.01464327 & -1.513470 & 1.328341e-01\\\\\n",
       "\t sex2Male      &  1.05194134 & 0.12812902 &  8.210016 & 3.166881e-13\\\\\n",
       "\\end{tabular}\n",
       "\n",
       "\\item[\\$pre\\_fvc] A tibble: 5 × 5\n",
       "\\begin{tabular}{lllll}\n",
       " term & estimate & std.error & statistic & p.value\\\\\n",
       " <chr> & <dbl> & <dbl> & <dbl> & <dbl>\\\\\n",
       "\\hline\n",
       "\t (Intercept)   &  4.782674630 & 0.479702592 &  9.97008294 & 2.361785e-17\\\\\n",
       "\t `2Exposures`1 &  0.502356494 & 0.165576937 &  3.03397625 & 2.969072e-03\\\\\n",
       "\t age2          & -0.028124758 & 0.009686395 & -2.90353196 & 4.405271e-03\\\\\n",
       "\t bmi           & -0.001700792 & 0.017624715 & -0.09650039 & 9.232869e-01\\\\\n",
       "\t sex2Male      &  1.353582343 & 0.154216714 &  8.77714424 & 1.532411e-14\\\\\n",
       "\\end{tabular}\n",
       "\n",
       "\\item[\\$pre\\_fvc\\_pp\\_gli] A tibble: 5 × 5\n",
       "\\begin{tabular}{lllll}\n",
       " term & estimate & std.error & statistic & p.value\\\\\n",
       " <chr> & <dbl> & <dbl> & <dbl> & <dbl>\\\\\n",
       "\\hline\n",
       "\t (Intercept)   & 127.9512958 & 8.5959239 & 14.885113 & 7.453313e-29\\\\\n",
       "\t `2Exposures`1 &  10.8251455 & 2.9670191 &  3.648492 & 3.941142e-04\\\\\n",
       "\t age2          &  -0.2677935 & 0.1735732 & -1.542827 & 1.255503e-01\\\\\n",
       "\t bmi           &  -0.4978275 & 0.3158222 & -1.576291 & 1.176361e-01\\\\\n",
       "\t sex2Male      &  -3.2129523 & 2.7634521 & -1.162659 & 2.473139e-01\\\\\n",
       "\\end{tabular}\n",
       "\n",
       "\\item[\\$post\\_fev1] A tibble: 5 × 5\n",
       "\\begin{tabular}{lllll}\n",
       " term & estimate & std.error & statistic & p.value\\\\\n",
       " <chr> & <dbl> & <dbl> & <dbl> & <dbl>\\\\\n",
       "\\hline\n",
       "\t (Intercept)   &  4.95907328 & 0.430225845 & 11.526675 & 6.694573e-21\\\\\n",
       "\t `2Exposures`1 &  0.37303079 & 0.148522085 &  2.511618 & 1.340573e-02\\\\\n",
       "\t age2          & -0.02957231 & 0.008613751 & -3.433151 & 8.301542e-04\\\\\n",
       "\t bmi           & -0.02939378 & 0.016335673 & -1.799361 & 7.458390e-02\\\\\n",
       "\t sex2Male      &  1.09874564 & 0.137558896 &  7.987456 & 1.166908e-12\\\\\n",
       "\\end{tabular}\n",
       "\n",
       "\\item[\\$post\\_fev1\\_pp\\_gli] A tibble: 5 × 5\n",
       "\\begin{tabular}{lllll}\n",
       " term & estimate & std.error & statistic & p.value\\\\\n",
       " <chr> & <dbl> & <dbl> & <dbl> & <dbl>\\\\\n",
       "\\hline\n",
       "\t (Intercept)   & 141.7806705 & 9.2715237 & 15.2920571 & 1.755111e-29\\\\\n",
       "\t `2Exposures`1 &   8.5613445 & 3.2007051 &  2.6748308 & 8.566635e-03\\\\\n",
       "\t age2          &  -0.1278505 & 0.1856295 & -0.6887402 & 4.923739e-01\\\\\n",
       "\t bmi           &  -1.2060886 & 0.3520397 & -3.4260017 & 8.502172e-04\\\\\n",
       "\t sex2Male      &  -2.1178259 & 2.9644443 & -0.7144091 & 4.764219e-01\\\\\n",
       "\\end{tabular}\n",
       "\n",
       "\\item[\\$post\\_fvc] A tibble: 5 × 5\n",
       "\\begin{tabular}{lllll}\n",
       " term & estimate & std.error & statistic & p.value\\\\\n",
       " <chr> & <dbl> & <dbl> & <dbl> & <dbl>\\\\\n",
       "\\hline\n",
       "\t (Intercept)   &  4.767164068 & 0.50258170 &  9.4853515 & 4.097510e-16\\\\\n",
       "\t `2Exposures`1 &  0.464231939 & 0.17350069 &  2.6756777 & 8.546309e-03\\\\\n",
       "\t age2          & -0.028553144 & 0.01006242 & -2.8376018 & 5.374151e-03\\\\\n",
       "\t bmi           &  0.001650729 & 0.01908302 &  0.0865025 & 9.312174e-01\\\\\n",
       "\t sex2Male      &  1.361599635 & 0.16069370 &  8.4732607 & 9.098989e-14\\\\\n",
       "\\end{tabular}\n",
       "\n",
       "\\item[\\$post\\_fvc\\_pp\\_gli] A tibble: 5 × 5\n",
       "\\begin{tabular}{lllll}\n",
       " term & estimate & std.error & statistic & p.value\\\\\n",
       " <chr> & <dbl> & <dbl> & <dbl> & <dbl>\\\\\n",
       "\\hline\n",
       "\t (Intercept)   & 128.4661126 & 8.7301352 & 14.715249 & 3.316006e-28\\\\\n",
       "\t `2Exposures`1 &   9.7052066 & 3.0138075 &  3.220248 & 1.665397e-03\\\\\n",
       "\t age2          &  -0.2928842 & 0.1747901 & -1.675634 & 9.652688e-02\\\\\n",
       "\t bmi           &  -0.4288390 & 0.3314832 & -1.293698 & 1.983622e-01\\\\\n",
       "\t sex2Male      &  -3.6650892 & 2.7913427 & -1.313020 & 1.917902e-01\\\\\n",
       "\\end{tabular}\n",
       "\n",
       "\\end{description}\n"
      ],
      "text/markdown": [
       "$pre_fev1_fvc\n",
       ":   \n",
       "A tibble: 5 × 5\n",
       "\n",
       "| term &lt;chr&gt; | estimate &lt;dbl&gt; | std.error &lt;dbl&gt; | statistic &lt;dbl&gt; | p.value &lt;dbl&gt; |\n",
       "|---|---|---|---|---|\n",
       "| (Intercept)   | 101.8157350 | 3.94825559 | 25.7875238 | 2.565205e-50 |\n",
       "| `2Exposures`1 |  -1.8673368 | 1.36280286 | -1.3702179 | 1.732202e-01 |\n",
       "| age2          |  -0.2024081 | 0.07972516 | -2.5388229 | 1.242409e-02 |\n",
       "| bmi           |  -0.5339942 | 0.14506255 | -3.6811304 | 3.515114e-04 |\n",
       "| sex2Male      |  -1.2281925 | 1.26930105 | -0.9676132 | 3.352166e-01 |\n",
       "\n",
       "\n",
       "$pre_fev1\n",
       ":   \n",
       "A tibble: 5 × 5\n",
       "\n",
       "| term &lt;chr&gt; | estimate &lt;dbl&gt; | std.error &lt;dbl&gt; | statistic &lt;dbl&gt; | p.value &lt;dbl&gt; |\n",
       "|---|---|---|---|---|\n",
       "| (Intercept)   |  4.67497831 | 0.39855486 | 11.729824 | 1.558051e-21 |\n",
       "| `2Exposures`1 |  0.32080310 | 0.13756751 |  2.331968 | 2.139784e-02 |\n",
       "| age2          | -0.03047345 | 0.00804782 | -3.786547 | 2.417778e-04 |\n",
       "| bmi           | -0.02216216 | 0.01464327 | -1.513470 | 1.328341e-01 |\n",
       "| sex2Male      |  1.05194134 | 0.12812902 |  8.210016 | 3.166881e-13 |\n",
       "\n",
       "\n",
       "$pre_fvc\n",
       ":   \n",
       "A tibble: 5 × 5\n",
       "\n",
       "| term &lt;chr&gt; | estimate &lt;dbl&gt; | std.error &lt;dbl&gt; | statistic &lt;dbl&gt; | p.value &lt;dbl&gt; |\n",
       "|---|---|---|---|---|\n",
       "| (Intercept)   |  4.782674630 | 0.479702592 |  9.97008294 | 2.361785e-17 |\n",
       "| `2Exposures`1 |  0.502356494 | 0.165576937 |  3.03397625 | 2.969072e-03 |\n",
       "| age2          | -0.028124758 | 0.009686395 | -2.90353196 | 4.405271e-03 |\n",
       "| bmi           | -0.001700792 | 0.017624715 | -0.09650039 | 9.232869e-01 |\n",
       "| sex2Male      |  1.353582343 | 0.154216714 |  8.77714424 | 1.532411e-14 |\n",
       "\n",
       "\n",
       "$pre_fvc_pp_gli\n",
       ":   \n",
       "A tibble: 5 × 5\n",
       "\n",
       "| term &lt;chr&gt; | estimate &lt;dbl&gt; | std.error &lt;dbl&gt; | statistic &lt;dbl&gt; | p.value &lt;dbl&gt; |\n",
       "|---|---|---|---|---|\n",
       "| (Intercept)   | 127.9512958 | 8.5959239 | 14.885113 | 7.453313e-29 |\n",
       "| `2Exposures`1 |  10.8251455 | 2.9670191 |  3.648492 | 3.941142e-04 |\n",
       "| age2          |  -0.2677935 | 0.1735732 | -1.542827 | 1.255503e-01 |\n",
       "| bmi           |  -0.4978275 | 0.3158222 | -1.576291 | 1.176361e-01 |\n",
       "| sex2Male      |  -3.2129523 | 2.7634521 | -1.162659 | 2.473139e-01 |\n",
       "\n",
       "\n",
       "$post_fev1\n",
       ":   \n",
       "A tibble: 5 × 5\n",
       "\n",
       "| term &lt;chr&gt; | estimate &lt;dbl&gt; | std.error &lt;dbl&gt; | statistic &lt;dbl&gt; | p.value &lt;dbl&gt; |\n",
       "|---|---|---|---|---|\n",
       "| (Intercept)   |  4.95907328 | 0.430225845 | 11.526675 | 6.694573e-21 |\n",
       "| `2Exposures`1 |  0.37303079 | 0.148522085 |  2.511618 | 1.340573e-02 |\n",
       "| age2          | -0.02957231 | 0.008613751 | -3.433151 | 8.301542e-04 |\n",
       "| bmi           | -0.02939378 | 0.016335673 | -1.799361 | 7.458390e-02 |\n",
       "| sex2Male      |  1.09874564 | 0.137558896 |  7.987456 | 1.166908e-12 |\n",
       "\n",
       "\n",
       "$post_fev1_pp_gli\n",
       ":   \n",
       "A tibble: 5 × 5\n",
       "\n",
       "| term &lt;chr&gt; | estimate &lt;dbl&gt; | std.error &lt;dbl&gt; | statistic &lt;dbl&gt; | p.value &lt;dbl&gt; |\n",
       "|---|---|---|---|---|\n",
       "| (Intercept)   | 141.7806705 | 9.2715237 | 15.2920571 | 1.755111e-29 |\n",
       "| `2Exposures`1 |   8.5613445 | 3.2007051 |  2.6748308 | 8.566635e-03 |\n",
       "| age2          |  -0.1278505 | 0.1856295 | -0.6887402 | 4.923739e-01 |\n",
       "| bmi           |  -1.2060886 | 0.3520397 | -3.4260017 | 8.502172e-04 |\n",
       "| sex2Male      |  -2.1178259 | 2.9644443 | -0.7144091 | 4.764219e-01 |\n",
       "\n",
       "\n",
       "$post_fvc\n",
       ":   \n",
       "A tibble: 5 × 5\n",
       "\n",
       "| term &lt;chr&gt; | estimate &lt;dbl&gt; | std.error &lt;dbl&gt; | statistic &lt;dbl&gt; | p.value &lt;dbl&gt; |\n",
       "|---|---|---|---|---|\n",
       "| (Intercept)   |  4.767164068 | 0.50258170 |  9.4853515 | 4.097510e-16 |\n",
       "| `2Exposures`1 |  0.464231939 | 0.17350069 |  2.6756777 | 8.546309e-03 |\n",
       "| age2          | -0.028553144 | 0.01006242 | -2.8376018 | 5.374151e-03 |\n",
       "| bmi           |  0.001650729 | 0.01908302 |  0.0865025 | 9.312174e-01 |\n",
       "| sex2Male      |  1.361599635 | 0.16069370 |  8.4732607 | 9.098989e-14 |\n",
       "\n",
       "\n",
       "$post_fvc_pp_gli\n",
       ":   \n",
       "A tibble: 5 × 5\n",
       "\n",
       "| term &lt;chr&gt; | estimate &lt;dbl&gt; | std.error &lt;dbl&gt; | statistic &lt;dbl&gt; | p.value &lt;dbl&gt; |\n",
       "|---|---|---|---|---|\n",
       "| (Intercept)   | 128.4661126 | 8.7301352 | 14.715249 | 3.316006e-28 |\n",
       "| `2Exposures`1 |   9.7052066 | 3.0138075 |  3.220248 | 1.665397e-03 |\n",
       "| age2          |  -0.2928842 | 0.1747901 | -1.675634 | 9.652688e-02 |\n",
       "| bmi           |  -0.4288390 | 0.3314832 | -1.293698 | 1.983622e-01 |\n",
       "| sex2Male      |  -3.6650892 | 2.7913427 | -1.313020 | 1.917902e-01 |\n",
       "\n",
       "\n",
       "\n",
       "\n"
      ],
      "text/plain": [
       "$pre_fev1_fvc\n",
       "\u001b[90m# A tibble: 5 × 5\u001b[39m\n",
       "  term          estimate std.error statistic  p.value\n",
       "  \u001b[3m\u001b[90m<chr>\u001b[39m\u001b[23m            \u001b[3m\u001b[90m<dbl>\u001b[39m\u001b[23m     \u001b[3m\u001b[90m<dbl>\u001b[39m\u001b[23m     \u001b[3m\u001b[90m<dbl>\u001b[39m\u001b[23m    \u001b[3m\u001b[90m<dbl>\u001b[39m\u001b[23m\n",
       "\u001b[90m1\u001b[39m (Intercept)    102.       3.95      25.8   2.57\u001b[90me\u001b[39m\u001b[31m-50\u001b[39m\n",
       "\u001b[90m2\u001b[39m `2Exposures`1   -\u001b[31m1\u001b[39m\u001b[31m.\u001b[39m\u001b[31m87\u001b[39m     1.36      -\u001b[31m1\u001b[39m\u001b[31m.\u001b[39m\u001b[31m37\u001b[39m  1.73\u001b[90me\u001b[39m\u001b[31m- 1\u001b[39m\n",
       "\u001b[90m3\u001b[39m age2            -\u001b[31m0\u001b[39m\u001b[31m.\u001b[39m\u001b[31m202\u001b[39m    0.079\u001b[4m7\u001b[24m    -\u001b[31m2\u001b[39m\u001b[31m.\u001b[39m\u001b[31m54\u001b[39m  1.24\u001b[90me\u001b[39m\u001b[31m- 2\u001b[39m\n",
       "\u001b[90m4\u001b[39m bmi             -\u001b[31m0\u001b[39m\u001b[31m.\u001b[39m\u001b[31m534\u001b[39m    0.145     -\u001b[31m3\u001b[39m\u001b[31m.\u001b[39m\u001b[31m68\u001b[39m  3.52\u001b[90me\u001b[39m\u001b[31m- 4\u001b[39m\n",
       "\u001b[90m5\u001b[39m sex2Male        -\u001b[31m1\u001b[39m\u001b[31m.\u001b[39m\u001b[31m23\u001b[39m     1.27      -\u001b[31m0\u001b[39m\u001b[31m.\u001b[39m\u001b[31m968\u001b[39m 3.35\u001b[90me\u001b[39m\u001b[31m- 1\u001b[39m\n",
       "\n",
       "$pre_fev1\n",
       "\u001b[90m# A tibble: 5 × 5\u001b[39m\n",
       "  term          estimate std.error statistic  p.value\n",
       "  \u001b[3m\u001b[90m<chr>\u001b[39m\u001b[23m            \u001b[3m\u001b[90m<dbl>\u001b[39m\u001b[23m     \u001b[3m\u001b[90m<dbl>\u001b[39m\u001b[23m     \u001b[3m\u001b[90m<dbl>\u001b[39m\u001b[23m    \u001b[3m\u001b[90m<dbl>\u001b[39m\u001b[23m\n",
       "\u001b[90m1\u001b[39m (Intercept)     4.67     0.399       11.7  1.56\u001b[90me\u001b[39m\u001b[31m-21\u001b[39m\n",
       "\u001b[90m2\u001b[39m `2Exposures`1   0.321    0.138        2.33 2.14\u001b[90me\u001b[39m\u001b[31m- 2\u001b[39m\n",
       "\u001b[90m3\u001b[39m age2           -\u001b[31m0\u001b[39m\u001b[31m.\u001b[39m\u001b[31m0\u001b[39m\u001b[31m30\u001b[4m5\u001b[24m\u001b[39m   0.008\u001b[4m0\u001b[24m\u001b[4m5\u001b[24m     -\u001b[31m3\u001b[39m\u001b[31m.\u001b[39m\u001b[31m79\u001b[39m 2.42\u001b[90me\u001b[39m\u001b[31m- 4\u001b[39m\n",
       "\u001b[90m4\u001b[39m bmi            -\u001b[31m0\u001b[39m\u001b[31m.\u001b[39m\u001b[31m0\u001b[39m\u001b[31m22\u001b[4m2\u001b[24m\u001b[39m   0.014\u001b[4m6\u001b[24m      -\u001b[31m1\u001b[39m\u001b[31m.\u001b[39m\u001b[31m51\u001b[39m 1.33\u001b[90me\u001b[39m\u001b[31m- 1\u001b[39m\n",
       "\u001b[90m5\u001b[39m sex2Male        1.05     0.128        8.21 3.17\u001b[90me\u001b[39m\u001b[31m-13\u001b[39m\n",
       "\n",
       "$pre_fvc\n",
       "\u001b[90m# A tibble: 5 × 5\u001b[39m\n",
       "  term          estimate std.error statistic  p.value\n",
       "  \u001b[3m\u001b[90m<chr>\u001b[39m\u001b[23m            \u001b[3m\u001b[90m<dbl>\u001b[39m\u001b[23m     \u001b[3m\u001b[90m<dbl>\u001b[39m\u001b[23m     \u001b[3m\u001b[90m<dbl>\u001b[39m\u001b[23m    \u001b[3m\u001b[90m<dbl>\u001b[39m\u001b[23m\n",
       "\u001b[90m1\u001b[39m (Intercept)    4.78      0.480      9.97   2.36\u001b[90me\u001b[39m\u001b[31m-17\u001b[39m\n",
       "\u001b[90m2\u001b[39m `2Exposures`1  0.502     0.166      3.03   2.97\u001b[90me\u001b[39m\u001b[31m- 3\u001b[39m\n",
       "\u001b[90m3\u001b[39m age2          -\u001b[31m0\u001b[39m\u001b[31m.\u001b[39m\u001b[31m0\u001b[39m\u001b[31m28\u001b[4m1\u001b[24m\u001b[39m    0.009\u001b[4m6\u001b[24m\u001b[4m9\u001b[24m   -\u001b[31m2\u001b[39m\u001b[31m.\u001b[39m\u001b[31m90\u001b[39m   4.41\u001b[90me\u001b[39m\u001b[31m- 3\u001b[39m\n",
       "\u001b[90m4\u001b[39m bmi           -\u001b[31m0\u001b[39m\u001b[31m.\u001b[39m\u001b[31m00\u001b[39m\u001b[31m1\u001b[4m7\u001b[24m\u001b[4m0\u001b[24m\u001b[39m   0.017\u001b[4m6\u001b[24m    -\u001b[31m0\u001b[39m\u001b[31m.\u001b[39m\u001b[31m0\u001b[39m\u001b[31m96\u001b[4m5\u001b[24m\u001b[39m 9.23\u001b[90me\u001b[39m\u001b[31m- 1\u001b[39m\n",
       "\u001b[90m5\u001b[39m sex2Male       1.35      0.154      8.78   1.53\u001b[90me\u001b[39m\u001b[31m-14\u001b[39m\n",
       "\n",
       "$pre_fvc_pp_gli\n",
       "\u001b[90m# A tibble: 5 × 5\u001b[39m\n",
       "  term          estimate std.error statistic  p.value\n",
       "  \u001b[3m\u001b[90m<chr>\u001b[39m\u001b[23m            \u001b[3m\u001b[90m<dbl>\u001b[39m\u001b[23m     \u001b[3m\u001b[90m<dbl>\u001b[39m\u001b[23m     \u001b[3m\u001b[90m<dbl>\u001b[39m\u001b[23m    \u001b[3m\u001b[90m<dbl>\u001b[39m\u001b[23m\n",
       "\u001b[90m1\u001b[39m (Intercept)    128.        8.60      14.9  7.45\u001b[90me\u001b[39m\u001b[31m-29\u001b[39m\n",
       "\u001b[90m2\u001b[39m `2Exposures`1   10.8       2.97       3.65 3.94\u001b[90me\u001b[39m\u001b[31m- 4\u001b[39m\n",
       "\u001b[90m3\u001b[39m age2            -\u001b[31m0\u001b[39m\u001b[31m.\u001b[39m\u001b[31m268\u001b[39m     0.174     -\u001b[31m1\u001b[39m\u001b[31m.\u001b[39m\u001b[31m54\u001b[39m 1.26\u001b[90me\u001b[39m\u001b[31m- 1\u001b[39m\n",
       "\u001b[90m4\u001b[39m bmi             -\u001b[31m0\u001b[39m\u001b[31m.\u001b[39m\u001b[31m498\u001b[39m     0.316     -\u001b[31m1\u001b[39m\u001b[31m.\u001b[39m\u001b[31m58\u001b[39m 1.18\u001b[90me\u001b[39m\u001b[31m- 1\u001b[39m\n",
       "\u001b[90m5\u001b[39m sex2Male        -\u001b[31m3\u001b[39m\u001b[31m.\u001b[39m\u001b[31m21\u001b[39m      2.76      -\u001b[31m1\u001b[39m\u001b[31m.\u001b[39m\u001b[31m16\u001b[39m 2.47\u001b[90me\u001b[39m\u001b[31m- 1\u001b[39m\n",
       "\n",
       "$post_fev1\n",
       "\u001b[90m# A tibble: 5 × 5\u001b[39m\n",
       "  term          estimate std.error statistic  p.value\n",
       "  \u001b[3m\u001b[90m<chr>\u001b[39m\u001b[23m            \u001b[3m\u001b[90m<dbl>\u001b[39m\u001b[23m     \u001b[3m\u001b[90m<dbl>\u001b[39m\u001b[23m     \u001b[3m\u001b[90m<dbl>\u001b[39m\u001b[23m    \u001b[3m\u001b[90m<dbl>\u001b[39m\u001b[23m\n",
       "\u001b[90m1\u001b[39m (Intercept)     4.96     0.430       11.5  6.69\u001b[90me\u001b[39m\u001b[31m-21\u001b[39m\n",
       "\u001b[90m2\u001b[39m `2Exposures`1   0.373    0.149        2.51 1.34\u001b[90me\u001b[39m\u001b[31m- 2\u001b[39m\n",
       "\u001b[90m3\u001b[39m age2           -\u001b[31m0\u001b[39m\u001b[31m.\u001b[39m\u001b[31m0\u001b[39m\u001b[31m29\u001b[4m6\u001b[24m\u001b[39m   0.008\u001b[4m6\u001b[24m\u001b[4m1\u001b[24m     -\u001b[31m3\u001b[39m\u001b[31m.\u001b[39m\u001b[31m43\u001b[39m 8.30\u001b[90me\u001b[39m\u001b[31m- 4\u001b[39m\n",
       "\u001b[90m4\u001b[39m bmi            -\u001b[31m0\u001b[39m\u001b[31m.\u001b[39m\u001b[31m0\u001b[39m\u001b[31m29\u001b[4m4\u001b[24m\u001b[39m   0.016\u001b[4m3\u001b[24m      -\u001b[31m1\u001b[39m\u001b[31m.\u001b[39m\u001b[31m80\u001b[39m 7.46\u001b[90me\u001b[39m\u001b[31m- 2\u001b[39m\n",
       "\u001b[90m5\u001b[39m sex2Male        1.10     0.138        7.99 1.17\u001b[90me\u001b[39m\u001b[31m-12\u001b[39m\n",
       "\n",
       "$post_fev1_pp_gli\n",
       "\u001b[90m# A tibble: 5 × 5\u001b[39m\n",
       "  term          estimate std.error statistic  p.value\n",
       "  \u001b[3m\u001b[90m<chr>\u001b[39m\u001b[23m            \u001b[3m\u001b[90m<dbl>\u001b[39m\u001b[23m     \u001b[3m\u001b[90m<dbl>\u001b[39m\u001b[23m     \u001b[3m\u001b[90m<dbl>\u001b[39m\u001b[23m    \u001b[3m\u001b[90m<dbl>\u001b[39m\u001b[23m\n",
       "\u001b[90m1\u001b[39m (Intercept)    142.        9.27     15.3   1.76\u001b[90me\u001b[39m\u001b[31m-29\u001b[39m\n",
       "\u001b[90m2\u001b[39m `2Exposures`1    8.56      3.20      2.67  8.57\u001b[90me\u001b[39m\u001b[31m- 3\u001b[39m\n",
       "\u001b[90m3\u001b[39m age2            -\u001b[31m0\u001b[39m\u001b[31m.\u001b[39m\u001b[31m128\u001b[39m     0.186    -\u001b[31m0\u001b[39m\u001b[31m.\u001b[39m\u001b[31m689\u001b[39m 4.92\u001b[90me\u001b[39m\u001b[31m- 1\u001b[39m\n",
       "\u001b[90m4\u001b[39m bmi             -\u001b[31m1\u001b[39m\u001b[31m.\u001b[39m\u001b[31m21\u001b[39m      0.352    -\u001b[31m3\u001b[39m\u001b[31m.\u001b[39m\u001b[31m43\u001b[39m  8.50\u001b[90me\u001b[39m\u001b[31m- 4\u001b[39m\n",
       "\u001b[90m5\u001b[39m sex2Male        -\u001b[31m2\u001b[39m\u001b[31m.\u001b[39m\u001b[31m12\u001b[39m      2.96     -\u001b[31m0\u001b[39m\u001b[31m.\u001b[39m\u001b[31m714\u001b[39m 4.76\u001b[90me\u001b[39m\u001b[31m- 1\u001b[39m\n",
       "\n",
       "$post_fvc\n",
       "\u001b[90m# A tibble: 5 × 5\u001b[39m\n",
       "  term          estimate std.error statistic  p.value\n",
       "  \u001b[3m\u001b[90m<chr>\u001b[39m\u001b[23m            \u001b[3m\u001b[90m<dbl>\u001b[39m\u001b[23m     \u001b[3m\u001b[90m<dbl>\u001b[39m\u001b[23m     \u001b[3m\u001b[90m<dbl>\u001b[39m\u001b[23m    \u001b[3m\u001b[90m<dbl>\u001b[39m\u001b[23m\n",
       "\u001b[90m1\u001b[39m (Intercept)    4.77       0.503     9.49   4.10\u001b[90me\u001b[39m\u001b[31m-16\u001b[39m\n",
       "\u001b[90m2\u001b[39m `2Exposures`1  0.464      0.174     2.68   8.55\u001b[90me\u001b[39m\u001b[31m- 3\u001b[39m\n",
       "\u001b[90m3\u001b[39m age2          -\u001b[31m0\u001b[39m\u001b[31m.\u001b[39m\u001b[31m0\u001b[39m\u001b[31m28\u001b[4m6\u001b[24m\u001b[39m     0.010\u001b[4m1\u001b[24m   -\u001b[31m2\u001b[39m\u001b[31m.\u001b[39m\u001b[31m84\u001b[39m   5.37\u001b[90me\u001b[39m\u001b[31m- 3\u001b[39m\n",
       "\u001b[90m4\u001b[39m bmi            0.001\u001b[4m6\u001b[24m\u001b[4m5\u001b[24m    0.019\u001b[4m1\u001b[24m    0.086\u001b[4m5\u001b[24m 9.31\u001b[90me\u001b[39m\u001b[31m- 1\u001b[39m\n",
       "\u001b[90m5\u001b[39m sex2Male       1.36       0.161     8.47   9.10\u001b[90me\u001b[39m\u001b[31m-14\u001b[39m\n",
       "\n",
       "$post_fvc_pp_gli\n",
       "\u001b[90m# A tibble: 5 × 5\u001b[39m\n",
       "  term          estimate std.error statistic  p.value\n",
       "  \u001b[3m\u001b[90m<chr>\u001b[39m\u001b[23m            \u001b[3m\u001b[90m<dbl>\u001b[39m\u001b[23m     \u001b[3m\u001b[90m<dbl>\u001b[39m\u001b[23m     \u001b[3m\u001b[90m<dbl>\u001b[39m\u001b[23m    \u001b[3m\u001b[90m<dbl>\u001b[39m\u001b[23m\n",
       "\u001b[90m1\u001b[39m (Intercept)    128.        8.73      14.7  3.32\u001b[90me\u001b[39m\u001b[31m-28\u001b[39m\n",
       "\u001b[90m2\u001b[39m `2Exposures`1    9.71      3.01       3.22 1.67\u001b[90me\u001b[39m\u001b[31m- 3\u001b[39m\n",
       "\u001b[90m3\u001b[39m age2            -\u001b[31m0\u001b[39m\u001b[31m.\u001b[39m\u001b[31m293\u001b[39m     0.175     -\u001b[31m1\u001b[39m\u001b[31m.\u001b[39m\u001b[31m68\u001b[39m 9.65\u001b[90me\u001b[39m\u001b[31m- 2\u001b[39m\n",
       "\u001b[90m4\u001b[39m bmi             -\u001b[31m0\u001b[39m\u001b[31m.\u001b[39m\u001b[31m429\u001b[39m     0.331     -\u001b[31m1\u001b[39m\u001b[31m.\u001b[39m\u001b[31m29\u001b[39m 1.98\u001b[90me\u001b[39m\u001b[31m- 1\u001b[39m\n",
       "\u001b[90m5\u001b[39m sex2Male        -\u001b[31m3\u001b[39m\u001b[31m.\u001b[39m\u001b[31m67\u001b[39m      2.79      -\u001b[31m1\u001b[39m\u001b[31m.\u001b[39m\u001b[31m31\u001b[39m 1.92\u001b[90me\u001b[39m\u001b[31m- 1\u001b[39m\n"
      ]
     },
     "metadata": {},
     "output_type": "display_data"
    }
   ],
   "source": [
    "outcome_variables <- c(\n",
    "  \"pre_fev1_fvc\", \"pre_fev1\", \"pre_fvc\", \"pre_fvc_pp_gli\", \n",
    "  \"post_fev1\", \"post_fev1_pp_gli\", \"post_fvc\", \"post_fvc_pp_gli\"\n",
    ")\n",
    "\n",
    "# Define covariates (possible confounders)\n",
    "covariates <- c(\"age2\", \"bmi\", \"sex2\")\n",
    "\n",
    "# Convert categorical variables to factors\n",
    "data_combined$sex2 <- as.factor(data_combined$sex2)  \n",
    "data_combined$`2Exposures` <- as.factor(data_combined$`2Exposures`)  # Exposure vs. Control\n",
    "\n",
    "# Initialize an empty list to store regression results\n",
    "regression_results <- list()\n",
    "\n",
    "# Run linear regression for each lung function variable adjusting for covariates\n",
    "for (outcome in outcome_variables) {\n",
    "  formula <- as.formula(paste(outcome, \"~ `2Exposures` +\", paste(covariates, collapse=\" + \")))\n",
    "  model <- lm(formula, data=data_combined)\n",
    "  regression_results[[outcome]] <- tidy(model)  # Store model summary\n",
    "}\n",
    "\n",
    "# Print regression results\n",
    "regression_results"
   ]
  },
  {
   "cell_type": "code",
   "execution_count": null,
   "id": "25e89689-ef96-4a42-9402-1bec914a7ba5",
   "metadata": {},
   "outputs": [],
   "source": [
    "1. FEV1/FVC Ratio (Airflow Obstruction Indicator):\n",
    "- The pre-FEV1/FVC result suggests a decreasing trend, but it is not statistically significant.\n",
    "- This means early airflow obstruction is not yet strongly evident in the exposed group.\n",
    "\n",
    "2. FEV1 and FVC (Lung Function Metrics):\n",
    "- Pre-FEV1 and Pre-FVC are both significantly higher in the exposure group.\n",
    "- Post-FEV1 and Post-FVC also show similar increases.\n",
    "- This suggests that lung volume is larger in the exposure group.\n",
    "- This could be early-stage lung changes due to chronic exposure.\n",
    "\n",
    "3. Clinical Meaning of Increased FVC:\n",
    "- Hyperinflation or lung compensation in early-stage lung impairment could explain these findings.\n",
    "- While smokers eventually show lung function decline, early lung volume expansion might be a temporary adaptive response."
   ]
  },
  {
   "cell_type": "code",
   "execution_count": 90,
   "id": "d9ea41f1-71da-40c1-8c5e-1f6594a457a7",
   "metadata": {},
   "outputs": [
    {
     "name": "stderr",
     "output_type": "stream",
     "text": [
      "Warning message in cor.test.default(data_combined[[lung_var]], data_combined$rbc_mean, :\n",
      "\"Cannot compute exact p-value with ties\"\n",
      "Warning message in cor.test.default(data_combined[[lung_var]], data_combined$rbc_mean, :\n",
      "\"Cannot compute exact p-value with ties\"\n",
      "Warning message in cor.test.default(data_combined[[lung_var]], data_combined$rbc_mean, :\n",
      "\"Cannot compute exact p-value with ties\"\n",
      "Warning message in cor.test.default(data_combined[[lung_var]], data_combined$rbc_mean, :\n",
      "\"Cannot compute exact p-value with ties\"\n",
      "Warning message in cor.test.default(data_combined[[lung_var]], data_combined$rbc_mean, :\n",
      "\"Cannot compute exact p-value with ties\"\n",
      "Warning message in cor.test.default(data_combined[[lung_var]], data_combined$rbc_mean, :\n",
      "\"Cannot compute exact p-value with ties\"\n",
      "Warning message in cor.test.default(data_combined[[lung_var]], data_combined$rbc_mean, :\n",
      "\"Cannot compute exact p-value with ties\"\n",
      "Warning message in cor.test.default(data_combined[[lung_var]], data_combined$rbc_mean, :\n",
      "\"Cannot compute exact p-value with ties\"\n"
     ]
    },
    {
     "name": "stdout",
     "output_type": "stream",
     "text": [
      "                Variable Pearson_Correlation Pearson_p_value\n",
      "cor...1     pre_fev1_fvc           0.0210197    8.174973e-01\n",
      "cor...2         pre_fev1           0.5136499    1.234753e-09\n",
      "cor...3          pre_fvc           0.5014214    3.473670e-09\n",
      "cor...4   pre_fvc_pp_gli           0.1234426    1.737431e-01\n",
      "cor...5        post_fev1           0.5029664    4.788495e-09\n",
      "cor...6 post_fev1_pp_gli           0.1374828    1.342879e-01\n",
      "cor...7         post_fvc           0.4921220    1.139173e-08\n",
      "cor...8  post_fvc_pp_gli           0.1052876    2.524246e-01\n",
      "        Spearman_Correlation Spearman_p_value\n",
      "cor...1           0.03424519     7.068946e-01\n",
      "cor...2           0.54982748     4.499781e-11\n",
      "cor...3           0.52052877     6.776074e-10\n",
      "cor...4           0.18005437     4.628023e-02\n",
      "cor...5           0.51977060     1.175871e-09\n",
      "cor...6           0.22720059     1.257678e-02\n",
      "cor...7           0.50273207     4.880577e-09\n",
      "cor...8           0.16964084     6.397976e-02\n"
     ]
    }
   ],
   "source": [
    "gas_exchange_vars <- c(\"rbc_mean\")\n",
    "\n",
    "# Create an empty list to store correlation results\n",
    "correlation_results <- list()\n",
    "\n",
    "# Compute Pearson and Spearman correlation for each lung function vs. rbc_mean\n",
    "for (lung_var in outcome_variables) {\n",
    "  pearson_corr <- cor.test(data_combined[[lung_var]], data_combined$rbc_mean, method = \"pearson\")\n",
    "  spearman_corr <- cor.test(data_combined[[lung_var]], data_combined$rbc_mean, method = \"spearman\")\n",
    "  \n",
    "  correlation_results[[lung_var]] <- data.frame(\n",
    "    Variable = lung_var,\n",
    "    Pearson_Correlation = pearson_corr$estimate,\n",
    "    Pearson_p_value = pearson_corr$p.value,\n",
    "    Spearman_Correlation = spearman_corr$estimate,\n",
    "    Spearman_p_value = spearman_corr$p.value\n",
    "  )\n",
    "}\n",
    "\n",
    "# Combine results into a dataframe\n",
    "correlation_df <- bind_rows(correlation_results)\n",
    "\n",
    "# Display the correlation results\n",
    "print(correlation_df)"
   ]
  },
  {
   "cell_type": "code",
   "execution_count": 92,
   "id": "f2eafcbb-6e72-414a-863d-97d8fb6ba1a9",
   "metadata": {},
   "outputs": [
    {
     "data": {
      "text/html": [
       "<table class=\"dataframe\">\n",
       "<caption>A tibble: 40 × 6</caption>\n",
       "<thead>\n",
       "\t<tr><th scope=col>Lung_Function_Variable</th><th scope=col>term</th><th scope=col>estimate</th><th scope=col>std.error</th><th scope=col>statistic</th><th scope=col>p.value</th></tr>\n",
       "\t<tr><th scope=col>&lt;chr&gt;</th><th scope=col>&lt;chr&gt;</th><th scope=col>&lt;dbl&gt;</th><th scope=col>&lt;dbl&gt;</th><th scope=col>&lt;dbl&gt;</th><th scope=col>&lt;dbl&gt;</th></tr>\n",
       "</thead>\n",
       "<tbody>\n",
       "\t<tr><td>pre_fev1_fvc    </td><td>(Intercept)</td><td> 9.924615e+01</td><td>4.828177e+00</td><td>20.5556149</td><td>8.357340e-41</td></tr>\n",
       "\t<tr><td>pre_fev1_fvc    </td><td>rbc_mean   </td><td> 1.886361e+02</td><td>6.119842e+02</td><td> 0.3082369</td><td>7.584455e-01</td></tr>\n",
       "\t<tr><td>pre_fev1_fvc    </td><td>age2       </td><td>-1.855814e-01</td><td>8.286702e-02</td><td>-2.2395084</td><td>2.699637e-02</td></tr>\n",
       "\t<tr><td>pre_fev1_fvc    </td><td>bmi        </td><td>-5.304203e-01</td><td>1.466836e-01</td><td>-3.6160838</td><td>4.412186e-04</td></tr>\n",
       "\t<tr><td>pre_fev1_fvc    </td><td>sex2Male   </td><td>-1.745820e+00</td><td>1.422432e+00</td><td>-1.2273485</td><td>2.221346e-01</td></tr>\n",
       "\t<tr><td>pre_fev1        </td><td>(Intercept)</td><td> 3.992784e+00</td><td>4.735365e-01</td><td> 8.4318392</td><td>9.738103e-14</td></tr>\n",
       "\t<tr><td>pre_fev1        </td><td>rbc_mean   </td><td> 1.973940e+02</td><td>6.002200e+01</td><td> 3.2886949</td><td>1.326869e-03</td></tr>\n",
       "\t<tr><td>pre_fev1        </td><td>age2       </td><td>-2.521917e-02</td><td>8.127407e-03</td><td>-3.1029790</td><td>2.397897e-03</td></tr>\n",
       "\t<tr><td>pre_fev1        </td><td>bmi        </td><td>-2.792815e-02</td><td>1.438639e-02</td><td>-1.9412894</td><td>5.460746e-02</td></tr>\n",
       "\t<tr><td>pre_fev1        </td><td>sex2Male   </td><td> 8.915536e-01</td><td>1.395089e-01</td><td> 6.3906576</td><td>3.423242e-09</td></tr>\n",
       "\t<tr><td>pre_fvc         </td><td>(Intercept)</td><td> 4.179926e+00</td><td>5.842143e-01</td><td> 7.1547830</td><td>7.646836e-11</td></tr>\n",
       "\t<tr><td>pre_fvc         </td><td>rbc_mean   </td><td> 2.138997e+02</td><td>7.405069e+01</td><td> 2.8885577</td><td>4.605748e-03</td></tr>\n",
       "\t<tr><td>pre_fvc         </td><td>age2       </td><td>-2.327139e-02</td><td>1.002699e-02</td><td>-2.3208747</td><td>2.201058e-02</td></tr>\n",
       "\t<tr><td>pre_fvc         </td><td>bmi        </td><td>-8.595481e-03</td><td>1.774887e-02</td><td>-0.4842834</td><td>6.290824e-01</td></tr>\n",
       "\t<tr><td>pre_fvc         </td><td>sex2Male   </td><td> 1.205717e+00</td><td>1.721157e-01</td><td> 7.0052659</td><td>1.630237e-10</td></tr>\n",
       "\t<tr><td>pre_fvc_pp_gli  </td><td>(Intercept)</td><td> 1.279970e+02</td><td>1.091506e+01</td><td>11.7266393</td><td>1.585346e-21</td></tr>\n",
       "\t<tr><td>pre_fvc_pp_gli  </td><td>rbc_mean   </td><td> 1.943596e+03</td><td>1.383512e+03</td><td> 1.4048273</td><td>1.626996e-01</td></tr>\n",
       "\t<tr><td>pre_fvc_pp_gli  </td><td>age2       </td><td>-2.576914e-01</td><td>1.873374e-01</td><td>-1.3755464</td><td>1.715677e-01</td></tr>\n",
       "\t<tr><td>pre_fvc_pp_gli  </td><td>bmi        </td><td>-5.866364e-01</td><td>3.316077e-01</td><td>-1.7690676</td><td>7.946617e-02</td></tr>\n",
       "\t<tr><td>pre_fvc_pp_gli  </td><td>sex2Male   </td><td>-3.507247e+00</td><td>3.215693e+00</td><td>-1.0906662</td><td>2.776419e-01</td></tr>\n",
       "\t<tr><td>post_fev1       </td><td>(Intercept)</td><td> 4.237749e+00</td><td>5.120010e-01</td><td> 8.2768382</td><td>2.563365e-13</td></tr>\n",
       "\t<tr><td>post_fev1       </td><td>rbc_mean   </td><td> 2.097415e+02</td><td>6.441421e+01</td><td> 3.2561373</td><td>1.484211e-03</td></tr>\n",
       "\t<tr><td>post_fev1       </td><td>age2       </td><td>-2.421063e-02</td><td>8.746827e-03</td><td>-2.7679331</td><td>6.576867e-03</td></tr>\n",
       "\t<tr><td>post_fev1       </td><td>bmi        </td><td>-3.461794e-02</td><td>1.615486e-02</td><td>-2.1428807</td><td>3.423038e-02</td></tr>\n",
       "\t<tr><td>post_fev1       </td><td>sex2Male   </td><td> 9.437230e-01</td><td>1.487857e-01</td><td> 6.3428359</td><td>4.598202e-09</td></tr>\n",
       "\t<tr><td>post_fev1_pp_gli</td><td>(Intercept)</td><td> 1.360839e+02</td><td>1.141510e+01</td><td>11.9213985</td><td>8.012576e-22</td></tr>\n",
       "\t<tr><td>post_fev1_pp_gli</td><td>rbc_mean   </td><td> 2.557196e+03</td><td>1.436119e+03</td><td> 1.7806291</td><td>7.761352e-02</td></tr>\n",
       "\t<tr><td>post_fev1_pp_gli</td><td>age2       </td><td>-8.899495e-02</td><td>1.950111e-01</td><td>-0.4563583</td><td>6.489931e-01</td></tr>\n",
       "\t<tr><td>post_fev1_pp_gli</td><td>bmi        </td><td>-1.262089e+00</td><td>3.601738e-01</td><td>-3.5041099</td><td>6.537621e-04</td></tr>\n",
       "\t<tr><td>post_fev1_pp_gli</td><td>sex2Male   </td><td>-3.336962e+00</td><td>3.317187e+00</td><td>-1.0059614</td><td>3.165461e-01</td></tr>\n",
       "\t<tr><td>post_fvc        </td><td>(Intercept)</td><td> 4.092247e+00</td><td>6.067346e-01</td><td> 6.7447064</td><td>6.489023e-10</td></tr>\n",
       "\t<tr><td>post_fvc        </td><td>rbc_mean   </td><td> 2.147268e+02</td><td>7.633253e+01</td><td> 2.8130441</td><td>5.773015e-03</td></tr>\n",
       "\t<tr><td>post_fvc        </td><td>age2       </td><td>-2.360799e-02</td><td>1.036522e-02</td><td>-2.2776159</td><td>2.459747e-02</td></tr>\n",
       "\t<tr><td>post_fvc        </td><td>bmi        </td><td>-3.539765e-03</td><td>1.914393e-02</td><td>-0.1849027</td><td>8.536310e-01</td></tr>\n",
       "\t<tr><td>post_fvc        </td><td>sex2Male   </td><td> 1.216657e+00</td><td>1.763149e-01</td><td> 6.9004749</td><td>2.998833e-10</td></tr>\n",
       "\t<tr><td>post_fvc_pp_gli </td><td>(Intercept)</td><td> 1.280874e+02</td><td>1.097140e+01</td><td>11.6746657</td><td>3.017817e-21</td></tr>\n",
       "\t<tr><td>post_fvc_pp_gli </td><td>rbc_mean   </td><td> 1.635486e+03</td><td>1.380299e+03</td><td> 1.1848783</td><td>2.385084e-01</td></tr>\n",
       "\t<tr><td>post_fvc_pp_gli </td><td>age2       </td><td>-2.959780e-01</td><td>1.874312e-01</td><td>-1.5791288</td><td>1.170533e-01</td></tr>\n",
       "\t<tr><td>post_fvc_pp_gli </td><td>bmi        </td><td>-4.565457e-01</td><td>3.461741e-01</td><td>-1.3188327</td><td>1.898453e-01</td></tr>\n",
       "\t<tr><td>post_fvc_pp_gli </td><td>sex2Male   </td><td>-3.737707e+00</td><td>3.188250e+00</td><td>-1.1723380</td><td>2.434842e-01</td></tr>\n",
       "</tbody>\n",
       "</table>\n"
      ],
      "text/latex": [
       "A tibble: 40 × 6\n",
       "\\begin{tabular}{llllll}\n",
       " Lung\\_Function\\_Variable & term & estimate & std.error & statistic & p.value\\\\\n",
       " <chr> & <chr> & <dbl> & <dbl> & <dbl> & <dbl>\\\\\n",
       "\\hline\n",
       "\t pre\\_fev1\\_fvc     & (Intercept) &  9.924615e+01 & 4.828177e+00 & 20.5556149 & 8.357340e-41\\\\\n",
       "\t pre\\_fev1\\_fvc     & rbc\\_mean    &  1.886361e+02 & 6.119842e+02 &  0.3082369 & 7.584455e-01\\\\\n",
       "\t pre\\_fev1\\_fvc     & age2        & -1.855814e-01 & 8.286702e-02 & -2.2395084 & 2.699637e-02\\\\\n",
       "\t pre\\_fev1\\_fvc     & bmi         & -5.304203e-01 & 1.466836e-01 & -3.6160838 & 4.412186e-04\\\\\n",
       "\t pre\\_fev1\\_fvc     & sex2Male    & -1.745820e+00 & 1.422432e+00 & -1.2273485 & 2.221346e-01\\\\\n",
       "\t pre\\_fev1         & (Intercept) &  3.992784e+00 & 4.735365e-01 &  8.4318392 & 9.738103e-14\\\\\n",
       "\t pre\\_fev1         & rbc\\_mean    &  1.973940e+02 & 6.002200e+01 &  3.2886949 & 1.326869e-03\\\\\n",
       "\t pre\\_fev1         & age2        & -2.521917e-02 & 8.127407e-03 & -3.1029790 & 2.397897e-03\\\\\n",
       "\t pre\\_fev1         & bmi         & -2.792815e-02 & 1.438639e-02 & -1.9412894 & 5.460746e-02\\\\\n",
       "\t pre\\_fev1         & sex2Male    &  8.915536e-01 & 1.395089e-01 &  6.3906576 & 3.423242e-09\\\\\n",
       "\t pre\\_fvc          & (Intercept) &  4.179926e+00 & 5.842143e-01 &  7.1547830 & 7.646836e-11\\\\\n",
       "\t pre\\_fvc          & rbc\\_mean    &  2.138997e+02 & 7.405069e+01 &  2.8885577 & 4.605748e-03\\\\\n",
       "\t pre\\_fvc          & age2        & -2.327139e-02 & 1.002699e-02 & -2.3208747 & 2.201058e-02\\\\\n",
       "\t pre\\_fvc          & bmi         & -8.595481e-03 & 1.774887e-02 & -0.4842834 & 6.290824e-01\\\\\n",
       "\t pre\\_fvc          & sex2Male    &  1.205717e+00 & 1.721157e-01 &  7.0052659 & 1.630237e-10\\\\\n",
       "\t pre\\_fvc\\_pp\\_gli   & (Intercept) &  1.279970e+02 & 1.091506e+01 & 11.7266393 & 1.585346e-21\\\\\n",
       "\t pre\\_fvc\\_pp\\_gli   & rbc\\_mean    &  1.943596e+03 & 1.383512e+03 &  1.4048273 & 1.626996e-01\\\\\n",
       "\t pre\\_fvc\\_pp\\_gli   & age2        & -2.576914e-01 & 1.873374e-01 & -1.3755464 & 1.715677e-01\\\\\n",
       "\t pre\\_fvc\\_pp\\_gli   & bmi         & -5.866364e-01 & 3.316077e-01 & -1.7690676 & 7.946617e-02\\\\\n",
       "\t pre\\_fvc\\_pp\\_gli   & sex2Male    & -3.507247e+00 & 3.215693e+00 & -1.0906662 & 2.776419e-01\\\\\n",
       "\t post\\_fev1        & (Intercept) &  4.237749e+00 & 5.120010e-01 &  8.2768382 & 2.563365e-13\\\\\n",
       "\t post\\_fev1        & rbc\\_mean    &  2.097415e+02 & 6.441421e+01 &  3.2561373 & 1.484211e-03\\\\\n",
       "\t post\\_fev1        & age2        & -2.421063e-02 & 8.746827e-03 & -2.7679331 & 6.576867e-03\\\\\n",
       "\t post\\_fev1        & bmi         & -3.461794e-02 & 1.615486e-02 & -2.1428807 & 3.423038e-02\\\\\n",
       "\t post\\_fev1        & sex2Male    &  9.437230e-01 & 1.487857e-01 &  6.3428359 & 4.598202e-09\\\\\n",
       "\t post\\_fev1\\_pp\\_gli & (Intercept) &  1.360839e+02 & 1.141510e+01 & 11.9213985 & 8.012576e-22\\\\\n",
       "\t post\\_fev1\\_pp\\_gli & rbc\\_mean    &  2.557196e+03 & 1.436119e+03 &  1.7806291 & 7.761352e-02\\\\\n",
       "\t post\\_fev1\\_pp\\_gli & age2        & -8.899495e-02 & 1.950111e-01 & -0.4563583 & 6.489931e-01\\\\\n",
       "\t post\\_fev1\\_pp\\_gli & bmi         & -1.262089e+00 & 3.601738e-01 & -3.5041099 & 6.537621e-04\\\\\n",
       "\t post\\_fev1\\_pp\\_gli & sex2Male    & -3.336962e+00 & 3.317187e+00 & -1.0059614 & 3.165461e-01\\\\\n",
       "\t post\\_fvc         & (Intercept) &  4.092247e+00 & 6.067346e-01 &  6.7447064 & 6.489023e-10\\\\\n",
       "\t post\\_fvc         & rbc\\_mean    &  2.147268e+02 & 7.633253e+01 &  2.8130441 & 5.773015e-03\\\\\n",
       "\t post\\_fvc         & age2        & -2.360799e-02 & 1.036522e-02 & -2.2776159 & 2.459747e-02\\\\\n",
       "\t post\\_fvc         & bmi         & -3.539765e-03 & 1.914393e-02 & -0.1849027 & 8.536310e-01\\\\\n",
       "\t post\\_fvc         & sex2Male    &  1.216657e+00 & 1.763149e-01 &  6.9004749 & 2.998833e-10\\\\\n",
       "\t post\\_fvc\\_pp\\_gli  & (Intercept) &  1.280874e+02 & 1.097140e+01 & 11.6746657 & 3.017817e-21\\\\\n",
       "\t post\\_fvc\\_pp\\_gli  & rbc\\_mean    &  1.635486e+03 & 1.380299e+03 &  1.1848783 & 2.385084e-01\\\\\n",
       "\t post\\_fvc\\_pp\\_gli  & age2        & -2.959780e-01 & 1.874312e-01 & -1.5791288 & 1.170533e-01\\\\\n",
       "\t post\\_fvc\\_pp\\_gli  & bmi         & -4.565457e-01 & 3.461741e-01 & -1.3188327 & 1.898453e-01\\\\\n",
       "\t post\\_fvc\\_pp\\_gli  & sex2Male    & -3.737707e+00 & 3.188250e+00 & -1.1723380 & 2.434842e-01\\\\\n",
       "\\end{tabular}\n"
      ],
      "text/markdown": [
       "\n",
       "A tibble: 40 × 6\n",
       "\n",
       "| Lung_Function_Variable &lt;chr&gt; | term &lt;chr&gt; | estimate &lt;dbl&gt; | std.error &lt;dbl&gt; | statistic &lt;dbl&gt; | p.value &lt;dbl&gt; |\n",
       "|---|---|---|---|---|---|\n",
       "| pre_fev1_fvc     | (Intercept) |  9.924615e+01 | 4.828177e+00 | 20.5556149 | 8.357340e-41 |\n",
       "| pre_fev1_fvc     | rbc_mean    |  1.886361e+02 | 6.119842e+02 |  0.3082369 | 7.584455e-01 |\n",
       "| pre_fev1_fvc     | age2        | -1.855814e-01 | 8.286702e-02 | -2.2395084 | 2.699637e-02 |\n",
       "| pre_fev1_fvc     | bmi         | -5.304203e-01 | 1.466836e-01 | -3.6160838 | 4.412186e-04 |\n",
       "| pre_fev1_fvc     | sex2Male    | -1.745820e+00 | 1.422432e+00 | -1.2273485 | 2.221346e-01 |\n",
       "| pre_fev1         | (Intercept) |  3.992784e+00 | 4.735365e-01 |  8.4318392 | 9.738103e-14 |\n",
       "| pre_fev1         | rbc_mean    |  1.973940e+02 | 6.002200e+01 |  3.2886949 | 1.326869e-03 |\n",
       "| pre_fev1         | age2        | -2.521917e-02 | 8.127407e-03 | -3.1029790 | 2.397897e-03 |\n",
       "| pre_fev1         | bmi         | -2.792815e-02 | 1.438639e-02 | -1.9412894 | 5.460746e-02 |\n",
       "| pre_fev1         | sex2Male    |  8.915536e-01 | 1.395089e-01 |  6.3906576 | 3.423242e-09 |\n",
       "| pre_fvc          | (Intercept) |  4.179926e+00 | 5.842143e-01 |  7.1547830 | 7.646836e-11 |\n",
       "| pre_fvc          | rbc_mean    |  2.138997e+02 | 7.405069e+01 |  2.8885577 | 4.605748e-03 |\n",
       "| pre_fvc          | age2        | -2.327139e-02 | 1.002699e-02 | -2.3208747 | 2.201058e-02 |\n",
       "| pre_fvc          | bmi         | -8.595481e-03 | 1.774887e-02 | -0.4842834 | 6.290824e-01 |\n",
       "| pre_fvc          | sex2Male    |  1.205717e+00 | 1.721157e-01 |  7.0052659 | 1.630237e-10 |\n",
       "| pre_fvc_pp_gli   | (Intercept) |  1.279970e+02 | 1.091506e+01 | 11.7266393 | 1.585346e-21 |\n",
       "| pre_fvc_pp_gli   | rbc_mean    |  1.943596e+03 | 1.383512e+03 |  1.4048273 | 1.626996e-01 |\n",
       "| pre_fvc_pp_gli   | age2        | -2.576914e-01 | 1.873374e-01 | -1.3755464 | 1.715677e-01 |\n",
       "| pre_fvc_pp_gli   | bmi         | -5.866364e-01 | 3.316077e-01 | -1.7690676 | 7.946617e-02 |\n",
       "| pre_fvc_pp_gli   | sex2Male    | -3.507247e+00 | 3.215693e+00 | -1.0906662 | 2.776419e-01 |\n",
       "| post_fev1        | (Intercept) |  4.237749e+00 | 5.120010e-01 |  8.2768382 | 2.563365e-13 |\n",
       "| post_fev1        | rbc_mean    |  2.097415e+02 | 6.441421e+01 |  3.2561373 | 1.484211e-03 |\n",
       "| post_fev1        | age2        | -2.421063e-02 | 8.746827e-03 | -2.7679331 | 6.576867e-03 |\n",
       "| post_fev1        | bmi         | -3.461794e-02 | 1.615486e-02 | -2.1428807 | 3.423038e-02 |\n",
       "| post_fev1        | sex2Male    |  9.437230e-01 | 1.487857e-01 |  6.3428359 | 4.598202e-09 |\n",
       "| post_fev1_pp_gli | (Intercept) |  1.360839e+02 | 1.141510e+01 | 11.9213985 | 8.012576e-22 |\n",
       "| post_fev1_pp_gli | rbc_mean    |  2.557196e+03 | 1.436119e+03 |  1.7806291 | 7.761352e-02 |\n",
       "| post_fev1_pp_gli | age2        | -8.899495e-02 | 1.950111e-01 | -0.4563583 | 6.489931e-01 |\n",
       "| post_fev1_pp_gli | bmi         | -1.262089e+00 | 3.601738e-01 | -3.5041099 | 6.537621e-04 |\n",
       "| post_fev1_pp_gli | sex2Male    | -3.336962e+00 | 3.317187e+00 | -1.0059614 | 3.165461e-01 |\n",
       "| post_fvc         | (Intercept) |  4.092247e+00 | 6.067346e-01 |  6.7447064 | 6.489023e-10 |\n",
       "| post_fvc         | rbc_mean    |  2.147268e+02 | 7.633253e+01 |  2.8130441 | 5.773015e-03 |\n",
       "| post_fvc         | age2        | -2.360799e-02 | 1.036522e-02 | -2.2776159 | 2.459747e-02 |\n",
       "| post_fvc         | bmi         | -3.539765e-03 | 1.914393e-02 | -0.1849027 | 8.536310e-01 |\n",
       "| post_fvc         | sex2Male    |  1.216657e+00 | 1.763149e-01 |  6.9004749 | 2.998833e-10 |\n",
       "| post_fvc_pp_gli  | (Intercept) |  1.280874e+02 | 1.097140e+01 | 11.6746657 | 3.017817e-21 |\n",
       "| post_fvc_pp_gli  | rbc_mean    |  1.635486e+03 | 1.380299e+03 |  1.1848783 | 2.385084e-01 |\n",
       "| post_fvc_pp_gli  | age2        | -2.959780e-01 | 1.874312e-01 | -1.5791288 | 1.170533e-01 |\n",
       "| post_fvc_pp_gli  | bmi         | -4.565457e-01 | 3.461741e-01 | -1.3188327 | 1.898453e-01 |\n",
       "| post_fvc_pp_gli  | sex2Male    | -3.737707e+00 | 3.188250e+00 | -1.1723380 | 2.434842e-01 |\n",
       "\n"
      ],
      "text/plain": [
       "   Lung_Function_Variable term        estimate      std.error    statistic \n",
       "1  pre_fev1_fvc           (Intercept)  9.924615e+01 4.828177e+00 20.5556149\n",
       "2  pre_fev1_fvc           rbc_mean     1.886361e+02 6.119842e+02  0.3082369\n",
       "3  pre_fev1_fvc           age2        -1.855814e-01 8.286702e-02 -2.2395084\n",
       "4  pre_fev1_fvc           bmi         -5.304203e-01 1.466836e-01 -3.6160838\n",
       "5  pre_fev1_fvc           sex2Male    -1.745820e+00 1.422432e+00 -1.2273485\n",
       "6  pre_fev1               (Intercept)  3.992784e+00 4.735365e-01  8.4318392\n",
       "7  pre_fev1               rbc_mean     1.973940e+02 6.002200e+01  3.2886949\n",
       "8  pre_fev1               age2        -2.521917e-02 8.127407e-03 -3.1029790\n",
       "9  pre_fev1               bmi         -2.792815e-02 1.438639e-02 -1.9412894\n",
       "10 pre_fev1               sex2Male     8.915536e-01 1.395089e-01  6.3906576\n",
       "11 pre_fvc                (Intercept)  4.179926e+00 5.842143e-01  7.1547830\n",
       "12 pre_fvc                rbc_mean     2.138997e+02 7.405069e+01  2.8885577\n",
       "13 pre_fvc                age2        -2.327139e-02 1.002699e-02 -2.3208747\n",
       "14 pre_fvc                bmi         -8.595481e-03 1.774887e-02 -0.4842834\n",
       "15 pre_fvc                sex2Male     1.205717e+00 1.721157e-01  7.0052659\n",
       "16 pre_fvc_pp_gli         (Intercept)  1.279970e+02 1.091506e+01 11.7266393\n",
       "17 pre_fvc_pp_gli         rbc_mean     1.943596e+03 1.383512e+03  1.4048273\n",
       "18 pre_fvc_pp_gli         age2        -2.576914e-01 1.873374e-01 -1.3755464\n",
       "19 pre_fvc_pp_gli         bmi         -5.866364e-01 3.316077e-01 -1.7690676\n",
       "20 pre_fvc_pp_gli         sex2Male    -3.507247e+00 3.215693e+00 -1.0906662\n",
       "21 post_fev1              (Intercept)  4.237749e+00 5.120010e-01  8.2768382\n",
       "22 post_fev1              rbc_mean     2.097415e+02 6.441421e+01  3.2561373\n",
       "23 post_fev1              age2        -2.421063e-02 8.746827e-03 -2.7679331\n",
       "24 post_fev1              bmi         -3.461794e-02 1.615486e-02 -2.1428807\n",
       "25 post_fev1              sex2Male     9.437230e-01 1.487857e-01  6.3428359\n",
       "26 post_fev1_pp_gli       (Intercept)  1.360839e+02 1.141510e+01 11.9213985\n",
       "27 post_fev1_pp_gli       rbc_mean     2.557196e+03 1.436119e+03  1.7806291\n",
       "28 post_fev1_pp_gli       age2        -8.899495e-02 1.950111e-01 -0.4563583\n",
       "29 post_fev1_pp_gli       bmi         -1.262089e+00 3.601738e-01 -3.5041099\n",
       "30 post_fev1_pp_gli       sex2Male    -3.336962e+00 3.317187e+00 -1.0059614\n",
       "31 post_fvc               (Intercept)  4.092247e+00 6.067346e-01  6.7447064\n",
       "32 post_fvc               rbc_mean     2.147268e+02 7.633253e+01  2.8130441\n",
       "33 post_fvc               age2        -2.360799e-02 1.036522e-02 -2.2776159\n",
       "34 post_fvc               bmi         -3.539765e-03 1.914393e-02 -0.1849027\n",
       "35 post_fvc               sex2Male     1.216657e+00 1.763149e-01  6.9004749\n",
       "36 post_fvc_pp_gli        (Intercept)  1.280874e+02 1.097140e+01 11.6746657\n",
       "37 post_fvc_pp_gli        rbc_mean     1.635486e+03 1.380299e+03  1.1848783\n",
       "38 post_fvc_pp_gli        age2        -2.959780e-01 1.874312e-01 -1.5791288\n",
       "39 post_fvc_pp_gli        bmi         -4.565457e-01 3.461741e-01 -1.3188327\n",
       "40 post_fvc_pp_gli        sex2Male    -3.737707e+00 3.188250e+00 -1.1723380\n",
       "   p.value     \n",
       "1  8.357340e-41\n",
       "2  7.584455e-01\n",
       "3  2.699637e-02\n",
       "4  4.412186e-04\n",
       "5  2.221346e-01\n",
       "6  9.738103e-14\n",
       "7  1.326869e-03\n",
       "8  2.397897e-03\n",
       "9  5.460746e-02\n",
       "10 3.423242e-09\n",
       "11 7.646836e-11\n",
       "12 4.605748e-03\n",
       "13 2.201058e-02\n",
       "14 6.290824e-01\n",
       "15 1.630237e-10\n",
       "16 1.585346e-21\n",
       "17 1.626996e-01\n",
       "18 1.715677e-01\n",
       "19 7.946617e-02\n",
       "20 2.776419e-01\n",
       "21 2.563365e-13\n",
       "22 1.484211e-03\n",
       "23 6.576867e-03\n",
       "24 3.423038e-02\n",
       "25 4.598202e-09\n",
       "26 8.012576e-22\n",
       "27 7.761352e-02\n",
       "28 6.489931e-01\n",
       "29 6.537621e-04\n",
       "30 3.165461e-01\n",
       "31 6.489023e-10\n",
       "32 5.773015e-03\n",
       "33 2.459747e-02\n",
       "34 8.536310e-01\n",
       "35 2.998833e-10\n",
       "36 3.017817e-21\n",
       "37 2.385084e-01\n",
       "38 1.170533e-01\n",
       "39 1.898453e-01\n",
       "40 2.434842e-01"
      ]
     },
     "metadata": {},
     "output_type": "display_data"
    }
   ],
   "source": [
    "# Define the lung function outcome variables\n",
    "lung_function_vars <- c(\n",
    "  \"pre_fev1_fvc\", \"pre_fev1\", \"pre_fvc\", \"pre_fvc_pp_gli\", \n",
    "  \"post_fev1\", \"post_fev1_pp_gli\", \"post_fvc\", \"post_fvc_pp_gli\"\n",
    ")\n",
    "\n",
    "# Define covariates\n",
    "covariates <- c(\"age2\", \"bmi\", \"sex2\")\n",
    "\n",
    "# Convert categorical variables to factors\n",
    "data_combined$sex2 <- as.factor(data_combined$sex2)  \n",
    "\n",
    "# Create an empty list to store regression results\n",
    "regression_results <- list()\n",
    "\n",
    "# Run linear regression models: Lung Function ~ rbc_mean + Covariates\n",
    "for (outcome in lung_function_vars) {\n",
    "  formula <- as.formula(paste(outcome, \"~ rbc_mean +\", paste(covariates, collapse=\" + \")))\n",
    "  model <- lm(formula, data=data_combined)\n",
    "  regression_results[[outcome]] <- tidy(model)  # Store model summary\n",
    "}\n",
    "\n",
    "# Combine results into a single dataframe\n",
    "regression_summary <- bind_rows(regression_results, .id = \"Lung_Function_Variable\")\n",
    "\n",
    "regression_summary"
   ]
  },
  {
   "cell_type": "markdown",
   "id": "ee5db014-e76f-482e-a65e-39ed0e59b69c",
   "metadata": {},
   "source": [
    "✅ rbc_mean is positively associated with:\n",
    "\n",
    "Pre-FEV1 (Estimate = 197.4, p = 0.0013) ⬆ Significant\n",
    "Pre-FVC (Estimate = 213.9, p = 0.0046) ⬆ Significant\n",
    "Post-FEV1 (Estimate = 209.7, p = 0.0015) ⬆ Significant\n",
    "Post-FVC (Estimate = 214.7, p = 0.0058) ⬆ Significant\n",
    "📌 Interpretation:\n",
    "\n",
    "Higher rbc_mean (gas exchange efficiency) is associated with higher lung function in terms of both FEV1 (airflow) and FVC (lung volume).\n",
    "This suggests early-stage lung changes where exposed individuals may be compensating for functional impairment before irreversible decline occurs.\n",
    "❌ rbc_mean is NOT significantly associated with:\n",
    "\n",
    "Pre-FEV1/FVC ratio (p = 0.758) ⬅ No early airflow obstruction detected\n",
    "Pre-FVC % predicted (p = 0.163) ⬅ Not significant\n",
    "Post-FEV1 % predicted (p = 0.078) ⬅ Near significant\n",
    "Post-FVC % predicted (p = 0.238) ⬅ Not significant\n",
    "📌 Interpretation:\n",
    "\n",
    "No strong evidence of early airflow obstruction (FEV1/FVC ratio).\n",
    "However, near-significance for post-FEV1 % predicted (p = 0.078) suggests possible gas exchange impairment emerging in later lung function.\n",
    "\n",
    "2️⃣ Age & BMI Effects\n",
    "Age (age2) is negatively associated with lung function (FEV1, FVC decrease with age) ✅ Expected\n",
    "BMI (bmi) is inconsistently associated, with some minor negative effects ✅ Expected for obesity-related restriction\n",
    "3️⃣ Clinical Implications\n",
    "Higher rbc_mean (better gas exchange efficiency) is linked to increased lung function (FEV1, FVC).\n",
    "This suggests that lung compensation mechanisms might be masking early signs of functional decline.\n",
    "Over time, these adaptations may break down, leading to eventual lung impairment.\n",
    "No clear signs of airflow obstruction (FEV1/FVC), but subtle gas exchange inefficiencies could be emerging."
   ]
  },
  {
   "cell_type": "code",
   "execution_count": 4,
   "id": "bb304f60-1638-48d1-adc6-bdde192e0ab0",
   "metadata": {},
   "outputs": [
    {
     "data": {
      "text/html": [
       "<table class=\"dataframe\">\n",
       "<caption>A tibble: 5 × 3</caption>\n",
       "<thead>\n",
       "\t<tr><th scope=col>age_group</th><th scope=col>count</th><th scope=col>percentage</th></tr>\n",
       "\t<tr><th scope=col>&lt;fct&gt;</th><th scope=col>&lt;int&gt;</th><th scope=col>&lt;dbl&gt;</th></tr>\n",
       "</thead>\n",
       "<tbody>\n",
       "\t<tr><td><span style=white-space:pre-wrap>&lt;20  </span></td><td> 7</td><td> 8.045977</td></tr>\n",
       "\t<tr><td>20-30</td><td>48</td><td>55.172414</td></tr>\n",
       "\t<tr><td>30-40</td><td>21</td><td>24.137931</td></tr>\n",
       "\t<tr><td>40-50</td><td> 9</td><td>10.344828</td></tr>\n",
       "\t<tr><td>NA   </td><td> 2</td><td> 2.298851</td></tr>\n",
       "</tbody>\n",
       "</table>\n"
      ],
      "text/latex": [
       "A tibble: 5 × 3\n",
       "\\begin{tabular}{lll}\n",
       " age\\_group & count & percentage\\\\\n",
       " <fct> & <int> & <dbl>\\\\\n",
       "\\hline\n",
       "\t <20   &  7 &  8.045977\\\\\n",
       "\t 20-30 & 48 & 55.172414\\\\\n",
       "\t 30-40 & 21 & 24.137931\\\\\n",
       "\t 40-50 &  9 & 10.344828\\\\\n",
       "\t NA    &  2 &  2.298851\\\\\n",
       "\\end{tabular}\n"
      ],
      "text/markdown": [
       "\n",
       "A tibble: 5 × 3\n",
       "\n",
       "| age_group &lt;fct&gt; | count &lt;int&gt; | percentage &lt;dbl&gt; |\n",
       "|---|---|---|\n",
       "| &lt;20   |  7 |  8.045977 |\n",
       "| 20-30 | 48 | 55.172414 |\n",
       "| 30-40 | 21 | 24.137931 |\n",
       "| 40-50 |  9 | 10.344828 |\n",
       "| NA    |  2 |  2.298851 |\n",
       "\n"
      ],
      "text/plain": [
       "  age_group count percentage\n",
       "1 <20        7     8.045977 \n",
       "2 20-30     48    55.172414 \n",
       "3 30-40     21    24.137931 \n",
       "4 40-50      9    10.344828 \n",
       "5 NA         2     2.298851 "
      ]
     },
     "metadata": {},
     "output_type": "display_data"
    }
   ],
   "source": [
    "age_summary <- data |> \n",
    "    group_by(age_group = cut(age2, \n",
    "                           breaks = c(-Inf, 20, 30, 40, 50, 60, Inf), \n",
    "                           labels = c(\"<20\", \"20-30\", \"30-40\", \"40-50\", \"50-60\", \"60+\"))) |> \n",
    "    summarise(\n",
    "        count = n(),\n",
    "        percentage = (n()/nrow(data)) * 100\n",
    "    )\n",
    "age_summary"
   ]
  },
  {
   "cell_type": "code",
   "execution_count": 5,
   "id": "8474528c-025f-4e01-97c1-1fc0a3523000",
   "metadata": {},
   "outputs": [
    {
     "data": {
      "text/html": [
       "<table class=\"dataframe\">\n",
       "<caption>A tibble: 3 × 3</caption>\n",
       "<thead>\n",
       "\t<tr><th scope=col>sex2</th><th scope=col>count</th><th scope=col>percentage</th></tr>\n",
       "\t<tr><th scope=col>&lt;chr&gt;</th><th scope=col>&lt;int&gt;</th><th scope=col>&lt;dbl&gt;</th></tr>\n",
       "</thead>\n",
       "<tbody>\n",
       "\t<tr><td>Female</td><td>42</td><td>48.275862</td></tr>\n",
       "\t<tr><td>Male  </td><td>42</td><td>48.275862</td></tr>\n",
       "\t<tr><td>NA    </td><td> 3</td><td> 3.448276</td></tr>\n",
       "</tbody>\n",
       "</table>\n"
      ],
      "text/latex": [
       "A tibble: 3 × 3\n",
       "\\begin{tabular}{lll}\n",
       " sex2 & count & percentage\\\\\n",
       " <chr> & <int> & <dbl>\\\\\n",
       "\\hline\n",
       "\t Female & 42 & 48.275862\\\\\n",
       "\t Male   & 42 & 48.275862\\\\\n",
       "\t NA     &  3 &  3.448276\\\\\n",
       "\\end{tabular}\n"
      ],
      "text/markdown": [
       "\n",
       "A tibble: 3 × 3\n",
       "\n",
       "| sex2 &lt;chr&gt; | count &lt;int&gt; | percentage &lt;dbl&gt; |\n",
       "|---|---|---|\n",
       "| Female | 42 | 48.275862 |\n",
       "| Male   | 42 | 48.275862 |\n",
       "| NA     |  3 |  3.448276 |\n",
       "\n"
      ],
      "text/plain": [
       "  sex2   count percentage\n",
       "1 Female 42    48.275862 \n",
       "2 Male   42    48.275862 \n",
       "3 NA      3     3.448276 "
      ]
     },
     "metadata": {},
     "output_type": "display_data"
    }
   ],
   "source": [
    "gender_summary <- data |> \n",
    "    group_by(sex2) |> \n",
    "    summarise(\n",
    "        count = n(),\n",
    "        percentage = (n()/nrow(data)) * 100\n",
    "    )\n",
    "gender_summary"
   ]
  },
  {
   "cell_type": "code",
   "execution_count": 6,
   "id": "ef65a2e9-6df9-42f2-9afc-4aaec09c36b8",
   "metadata": {},
   "outputs": [
    {
     "data": {
      "text/html": [
       "<table class=\"dataframe\">\n",
       "<caption>A tibble: 4 × 3</caption>\n",
       "<thead>\n",
       "\t<tr><th scope=col>cannabis</th><th scope=col>count</th><th scope=col>percentage</th></tr>\n",
       "\t<tr><th scope=col>&lt;chr&gt;</th><th scope=col>&lt;int&gt;</th><th scope=col>&lt;dbl&gt;</th></tr>\n",
       "</thead>\n",
       "<tbody>\n",
       "\t<tr><td>current</td><td>68</td><td>78.160920</td></tr>\n",
       "\t<tr><td>former </td><td> 5</td><td> 5.747126</td></tr>\n",
       "\t<tr><td>never  </td><td>11</td><td>12.643678</td></tr>\n",
       "\t<tr><td>NA     </td><td> 3</td><td> 3.448276</td></tr>\n",
       "</tbody>\n",
       "</table>\n"
      ],
      "text/latex": [
       "A tibble: 4 × 3\n",
       "\\begin{tabular}{lll}\n",
       " cannabis & count & percentage\\\\\n",
       " <chr> & <int> & <dbl>\\\\\n",
       "\\hline\n",
       "\t current & 68 & 78.160920\\\\\n",
       "\t former  &  5 &  5.747126\\\\\n",
       "\t never   & 11 & 12.643678\\\\\n",
       "\t NA      &  3 &  3.448276\\\\\n",
       "\\end{tabular}\n"
      ],
      "text/markdown": [
       "\n",
       "A tibble: 4 × 3\n",
       "\n",
       "| cannabis &lt;chr&gt; | count &lt;int&gt; | percentage &lt;dbl&gt; |\n",
       "|---|---|---|\n",
       "| current | 68 | 78.160920 |\n",
       "| former  |  5 |  5.747126 |\n",
       "| never   | 11 | 12.643678 |\n",
       "| NA      |  3 |  3.448276 |\n",
       "\n"
      ],
      "text/plain": [
       "  cannabis count percentage\n",
       "1 current  68    78.160920 \n",
       "2 former    5     5.747126 \n",
       "3 never    11    12.643678 \n",
       "4 NA        3     3.448276 "
      ]
     },
     "metadata": {},
     "output_type": "display_data"
    }
   ],
   "source": [
    "cannabis_summary <- data |> \n",
    "    group_by(cannabis) |> \n",
    "    summarise(\n",
    "        count = n(),\n",
    "        percentage = (n()/nrow(data)) * 100\n",
    "    )\n",
    "cannabis_summary"
   ]
  },
  {
   "cell_type": "code",
   "execution_count": 7,
   "id": "0cb182e9-57dc-46e7-87ca-2cf6df439e4e",
   "metadata": {},
   "outputs": [
    {
     "data": {
      "text/html": [
       "<table class=\"dataframe\">\n",
       "<caption>A tibble: 4 × 3</caption>\n",
       "<thead>\n",
       "\t<tr><th scope=col>cigarette</th><th scope=col>count</th><th scope=col>percentage</th></tr>\n",
       "\t<tr><th scope=col>&lt;chr&gt;</th><th scope=col>&lt;int&gt;</th><th scope=col>&lt;dbl&gt;</th></tr>\n",
       "</thead>\n",
       "<tbody>\n",
       "\t<tr><td>current</td><td>19</td><td>21.839080</td></tr>\n",
       "\t<tr><td>former </td><td>34</td><td>39.080460</td></tr>\n",
       "\t<tr><td>never  </td><td>31</td><td>35.632184</td></tr>\n",
       "\t<tr><td>NA     </td><td> 3</td><td> 3.448276</td></tr>\n",
       "</tbody>\n",
       "</table>\n"
      ],
      "text/latex": [
       "A tibble: 4 × 3\n",
       "\\begin{tabular}{lll}\n",
       " cigarette & count & percentage\\\\\n",
       " <chr> & <int> & <dbl>\\\\\n",
       "\\hline\n",
       "\t current & 19 & 21.839080\\\\\n",
       "\t former  & 34 & 39.080460\\\\\n",
       "\t never   & 31 & 35.632184\\\\\n",
       "\t NA      &  3 &  3.448276\\\\\n",
       "\\end{tabular}\n"
      ],
      "text/markdown": [
       "\n",
       "A tibble: 4 × 3\n",
       "\n",
       "| cigarette &lt;chr&gt; | count &lt;int&gt; | percentage &lt;dbl&gt; |\n",
       "|---|---|---|\n",
       "| current | 19 | 21.839080 |\n",
       "| former  | 34 | 39.080460 |\n",
       "| never   | 31 | 35.632184 |\n",
       "| NA      |  3 |  3.448276 |\n",
       "\n"
      ],
      "text/plain": [
       "  cigarette count percentage\n",
       "1 current   19    21.839080 \n",
       "2 former    34    39.080460 \n",
       "3 never     31    35.632184 \n",
       "4 NA         3     3.448276 "
      ]
     },
     "metadata": {},
     "output_type": "display_data"
    }
   ],
   "source": [
    "cigarette_summary <- data |> \n",
    "    group_by(cigarette) |> \n",
    "    summarise(\n",
    "        count = n(),\n",
    "        percentage = (n()/nrow(data)) * 100\n",
    "    )\n",
    "cigarette_summary"
   ]
  },
  {
   "cell_type": "code",
   "execution_count": 8,
   "id": "d132b0e1-7381-4f00-862e-08220e1bbafe",
   "metadata": {},
   "outputs": [
    {
     "data": {
      "text/html": [
       "<table class=\"dataframe\">\n",
       "<caption>A tibble: 3 × 3</caption>\n",
       "<thead>\n",
       "\t<tr><th scope=col>vape</th><th scope=col>count</th><th scope=col>percentage</th></tr>\n",
       "\t<tr><th scope=col>&lt;chr&gt;</th><th scope=col>&lt;int&gt;</th><th scope=col>&lt;dbl&gt;</th></tr>\n",
       "</thead>\n",
       "<tbody>\n",
       "\t<tr><td>No </td><td>13</td><td>14.942529</td></tr>\n",
       "\t<tr><td>Yes</td><td>71</td><td>81.609195</td></tr>\n",
       "\t<tr><td>NA </td><td> 3</td><td> 3.448276</td></tr>\n",
       "</tbody>\n",
       "</table>\n"
      ],
      "text/latex": [
       "A tibble: 3 × 3\n",
       "\\begin{tabular}{lll}\n",
       " vape & count & percentage\\\\\n",
       " <chr> & <int> & <dbl>\\\\\n",
       "\\hline\n",
       "\t No  & 13 & 14.942529\\\\\n",
       "\t Yes & 71 & 81.609195\\\\\n",
       "\t NA  &  3 &  3.448276\\\\\n",
       "\\end{tabular}\n"
      ],
      "text/markdown": [
       "\n",
       "A tibble: 3 × 3\n",
       "\n",
       "| vape &lt;chr&gt; | count &lt;int&gt; | percentage &lt;dbl&gt; |\n",
       "|---|---|---|\n",
       "| No  | 13 | 14.942529 |\n",
       "| Yes | 71 | 81.609195 |\n",
       "| NA  |  3 |  3.448276 |\n",
       "\n"
      ],
      "text/plain": [
       "  vape count percentage\n",
       "1 No   13    14.942529 \n",
       "2 Yes  71    81.609195 \n",
       "3 NA    3     3.448276 "
      ]
     },
     "metadata": {},
     "output_type": "display_data"
    }
   ],
   "source": [
    "vape_summary <- data |> \n",
    "    group_by(vape) |> \n",
    "    summarise(\n",
    "        count = n(),\n",
    "        percentage = (n()/nrow(data)) * 100\n",
    "    )\n",
    "vape_summary"
   ]
  },
  {
   "cell_type": "code",
   "execution_count": 9,
   "id": "538ded66-8f98-4e45-8655-8d775e9f1caa",
   "metadata": {},
   "outputs": [
    {
     "data": {
      "text/html": [
       "<table class=\"dataframe\">\n",
       "<caption>A tibble: 1 × 8</caption>\n",
       "<thead>\n",
       "\t<tr><th scope=col>Mean_Age</th><th scope=col>SD_Age</th><th scope=col>Mean_Height</th><th scope=col>SD_Height</th><th scope=col>Mean_Weight</th><th scope=col>SD_Weight</th><th scope=col>Mean_BMI</th><th scope=col>SD_BMI</th></tr>\n",
       "\t<tr><th scope=col>&lt;dbl&gt;</th><th scope=col>&lt;dbl&gt;</th><th scope=col>&lt;dbl&gt;</th><th scope=col>&lt;dbl&gt;</th><th scope=col>&lt;dbl&gt;</th><th scope=col>&lt;dbl&gt;</th><th scope=col>&lt;dbl&gt;</th><th scope=col>&lt;dbl&gt;</th></tr>\n",
       "</thead>\n",
       "<tbody>\n",
       "\t<tr><td>29.97647</td><td>7.925211</td><td>1.716917</td><td>0.09140236</td><td>74.95845</td><td>15.47698</td><td>25.32036</td><td>4.408961</td></tr>\n",
       "</tbody>\n",
       "</table>\n"
      ],
      "text/latex": [
       "A tibble: 1 × 8\n",
       "\\begin{tabular}{llllllll}\n",
       " Mean\\_Age & SD\\_Age & Mean\\_Height & SD\\_Height & Mean\\_Weight & SD\\_Weight & Mean\\_BMI & SD\\_BMI\\\\\n",
       " <dbl> & <dbl> & <dbl> & <dbl> & <dbl> & <dbl> & <dbl> & <dbl>\\\\\n",
       "\\hline\n",
       "\t 29.97647 & 7.925211 & 1.716917 & 0.09140236 & 74.95845 & 15.47698 & 25.32036 & 4.408961\\\\\n",
       "\\end{tabular}\n"
      ],
      "text/markdown": [
       "\n",
       "A tibble: 1 × 8\n",
       "\n",
       "| Mean_Age &lt;dbl&gt; | SD_Age &lt;dbl&gt; | Mean_Height &lt;dbl&gt; | SD_Height &lt;dbl&gt; | Mean_Weight &lt;dbl&gt; | SD_Weight &lt;dbl&gt; | Mean_BMI &lt;dbl&gt; | SD_BMI &lt;dbl&gt; |\n",
       "|---|---|---|---|---|---|---|---|\n",
       "| 29.97647 | 7.925211 | 1.716917 | 0.09140236 | 74.95845 | 15.47698 | 25.32036 | 4.408961 |\n",
       "\n"
      ],
      "text/plain": [
       "  Mean_Age SD_Age   Mean_Height SD_Height  Mean_Weight SD_Weight Mean_BMI\n",
       "1 29.97647 7.925211 1.716917    0.09140236 74.95845    15.47698  25.32036\n",
       "  SD_BMI  \n",
       "1 4.408961"
      ]
     },
     "metadata": {},
     "output_type": "display_data"
    }
   ],
   "source": [
    "demographics <- data |>\n",
    "    select(age2, height_m, weight_kg, bmi)\n",
    "\n",
    "# Calculate mean and standard deviation\n",
    "demographics_summary <- demographics |>\n",
    "    summarise(\n",
    "        Mean_Age = mean(age2, na.rm = TRUE),\n",
    "        SD_Age = sd(age2, na.rm = TRUE),\n",
    "        Mean_Height = mean(height_m, na.rm = TRUE),\n",
    "        SD_Height = sd(height_m, na.rm = TRUE),\n",
    "        Mean_Weight = mean(weight_kg, na.rm = TRUE),\n",
    "        SD_Weight = sd(weight_kg, na.rm = TRUE),\n",
    "        Mean_BMI = mean(bmi, na.rm = TRUE),\n",
    "        SD_BMI = sd(bmi, na.rm = TRUE)\n",
    "    )\n",
    "demographics_summary"
   ]
  },
  {
   "cell_type": "code",
   "execution_count": 10,
   "id": "6d3887a3-687d-4ce3-b20c-764343225119",
   "metadata": {},
   "outputs": [],
   "source": [
    "data <- gsub(\" \", \"_\", colnames(data))"
   ]
  },
  {
   "cell_type": "code",
   "execution_count": 11,
   "id": "9760e400-279b-41ef-811e-4e5896a18103",
   "metadata": {},
   "outputs": [
    {
     "ename": "ERROR",
     "evalue": "Error in UseMethod(\"select\"): no applicable method for 'select' applied to an object of class \"character\"\n",
     "output_type": "error",
     "traceback": [
      "Error in UseMethod(\"select\"): no applicable method for 'select' applied to an object of class \"character\"\nTraceback:\n",
      "1. .handleSimpleError(function (cnd) \n . {\n .     watcher$capture_plot_and_output()\n .     cnd <- sanitize_call(cnd)\n .     watcher$push(cnd)\n .     switch(on_error, continue = invokeRestart(\"eval_continue\"), \n .         stop = invokeRestart(\"eval_stop\"), error = NULL)\n . }, \"no applicable method for 'select' applied to an object of class \\\"character\\\"\", \n .     base::quote(UseMethod(\"select\")))"
     ]
    }
   ],
   "source": [
    "mri_biomarkers <- data |>\n",
    "    select(ADC_Mean, vent_defect_pct, rbc_mean)\n",
    "mri_biomarkers_summary <- mri_biomarkers |>\n",
    "    summarise(\n",
    "        Mean_ADC = mean(ADC_Mean, na.rm = TRUE),\n",
    "        SD_ADC = sd(ADC_Mean, na.rm = TRUE),\n",
    "        Mean_Vent_Defect = mean(vent_defect_pct, na.rm = TRUE),\n",
    "        SD_Vent_Defect = sd(vent_defect_pct, na.rm = TRUE),\n",
    "        Mean_RBC_Mean = mean(rbc_mean, na.rm = TRUE),\n",
    "        SD_RBC_Mean = sd(rbc_mean, na.rm = TRUE)\n",
    "    )\n",
    "mri_biomarkers_summary"
   ]
  },
  {
   "cell_type": "code",
   "execution_count": null,
   "id": "b32774f5-c58e-45eb-b8b1-9741a308e77d",
   "metadata": {},
   "outputs": [],
   "source": []
  }
 ],
 "metadata": {
  "kernelspec": {
   "display_name": "R",
   "language": "R",
   "name": "ir"
  },
  "language_info": {
   "codemirror_mode": "r",
   "file_extension": ".r",
   "mimetype": "text/x-r-source",
   "name": "R",
   "pygments_lexer": "r",
   "version": "4.4.2"
  }
 },
 "nbformat": 4,
 "nbformat_minor": 5
}
